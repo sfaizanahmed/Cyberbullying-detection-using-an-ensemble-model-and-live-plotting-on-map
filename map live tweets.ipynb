{
 "cells": [
  {
   "cell_type": "code",
   "execution_count": 2,
   "metadata": {},
   "outputs": [
    {
     "name": "stderr",
     "output_type": "stream",
     "text": [
      "C:\\Users\\mail2\\Anaconda3\\lib\\site-packages\\sklearn\\ensemble\\weight_boosting.py:29: DeprecationWarning: numpy.core.umath_tests is an internal NumPy module and should not be imported. It will be removed in a future NumPy release.\n",
      "  from numpy.core.umath_tests import inner1d\n"
     ]
    }
   ],
   "source": [
    "import pandas as pd\n",
    "import json\n",
    "import os\n",
    "import sys\n",
    "import numpy as np\n",
    "from nltk.corpus import stopwords \n",
    "from nltk.tokenize import word_tokenize\n",
    "import string \n",
    "from nltk.stem import WordNetLemmatizer\n",
    "import string\n",
    "from sklearn.ensemble import RandomForestClassifier\n",
    "from sklearn.model_selection import GridSearchCV\n",
    "from sklearn.model_selection import train_test_split  \n",
    "from sklearn.feature_extraction.text import TfidfVectorizer\n",
    "from nltk.stem.porter import PorterStemmer\n",
    "from sklearn.metrics import classification_report, confusion_matrix, accuracy_score\n",
    "import re\n",
    "from pandas.io.json import json_normalize\n",
    "from sklearn.linear_model import LogisticRegression\n",
    "from __future__ import absolute_import, print_function\n",
    "from tweepy.streaming import StreamListener\n",
    "from tweepy import OAuthHandler\n",
    "from tweepy import Stream\n",
    "from tweepy import API\n",
    "import re\n",
    "import tweepy\n",
    "import csv\n",
    "import json\n",
    "import time"
   ]
  },
  {
   "cell_type": "code",
   "execution_count": 2,
   "metadata": {},
   "outputs": [],
   "source": [
    "consumer_key = 'Insert Your Key here'\n",
    "consumer_secret = 'Insert Your Key here'\n",
    "access_key = 'Insert Your Key here'\n",
    "access_secret = 'Insert Your Key here'"
   ]
  },
  {
   "cell_type": "code",
   "execution_count": 3,
   "metadata": {},
   "outputs": [],
   "source": [
    "df=pd.DataFrame(columns=('text', 'lat', 'lon','label'))"
   ]
  },
  {
   "cell_type": "code",
   "execution_count": null,
   "metadata": {},
   "outputs": [],
   "source": [
    "class listener(StreamListener):\n",
    "    def __init__(self, api=None):\n",
    "        super(listener, self).__init__()\n",
    "        self.num_tweets = 0\n",
    "    \n",
    "    def on_data(self, data):\n",
    "        #See Tweepy documentation to learn how to access other fields\n",
    "        \n",
    "        try:\n",
    "            js =(json.loads(data))\n",
    "            tweet = (js[\"text\"])\n",
    "            print(tweet)\n",
    "            \n",
    "            la=[]\n",
    "            lo=[]\n",
    "            la.append(js['place']['bounding_box']['coordinates'][0][0][1])\n",
    "            lo.append(js['place']['bounding_box']['coordinates'][0][0][0])\n",
    "            la.append(js['place']['bounding_box']['coordinates'][0][1][1])\n",
    "            lo.append(js['place']['bounding_box']['coordinates'][0][1][0])\n",
    "            la.append(js['place']['bounding_box']['coordinates'][0][2][1])\n",
    "            lo.append(js['place']['bounding_box']['coordinates'][0][2][0])\n",
    "            la.append(js['place']['bounding_box']['coordinates'][0][3][1])\n",
    "            lo.append(js['place']['bounding_box']['coordinates'][0][3][0])\n",
    "            lats=sum(la)/4\n",
    "            lons=sum(lo)/4\n",
    "            #dat=(maxla/4,maxlo/4)\n",
    "            #latlons.append(dat)\n",
    "            #lats,lons = zip(*[dat])\n",
    "            #print(\"lats\",lats,\" long\" ,lons)\n",
    "            #df.insert({'text' : tweet , 'lat' : lats,'lon':lons} )\n",
    "            df.loc[self.num_tweets] = [tweet, lats, lons,2]  # adding a row\n",
    "            self.num_tweets += 1\n",
    "            if self.num_tweets < 1000:\n",
    "                return True\n",
    "            else:\n",
    "                return False\n",
    "\n",
    "            \n",
    "            \n",
    "        except BaseException as e:\n",
    "            print(status)\n",
    "            \n",
    "\n",
    "    def on_error(self, status):\n",
    "        print(status)    \n",
    "auth = OAuthHandler(consumer_key, consumer_secret)\n",
    "auth.set_access_token(access_key, access_secret)\n",
    "twitterStream = Stream(auth, listener())\n",
    "twitterStream.filter(locations = [-10.97708574059, 50.6693012559, -5.03298539878, 58.1316222195],languages=[\"en\"])"
   ]
  },
  {
   "cell_type": "code",
   "execution_count": 5,
   "metadata": {},
   "outputs": [],
   "source": [
    "import pandas as pd\n",
    "import json\n",
    "import os\n",
    "import sys\n",
    "import numpy as np\n",
    "from nltk.corpus import stopwords \n",
    "from nltk.tokenize import word_tokenize\n",
    "import string \n",
    "from nltk.stem import WordNetLemmatizer\n",
    "import string\n",
    "from sklearn.ensemble import RandomForestClassifier\n",
    "from sklearn.model_selection import GridSearchCV\n",
    "from sklearn.model_selection import train_test_split  \n",
    "from sklearn.feature_extraction.text import TfidfVectorizer\n",
    "from nltk.stem.porter import PorterStemmer\n",
    "from sklearn.metrics import classification_report, confusion_matrix, accuracy_score\n",
    "import re\n",
    "from pandas.io.json import json_normalize\n",
    "from sklearn.linear_model import LogisticRegression\n",
    "from sklearn.externals import joblib"
   ]
  },
  {
   "cell_type": "code",
   "execution_count": 6,
   "metadata": {},
   "outputs": [],
   "source": [
    "X = df[\"text\"]  \n",
    "y = df[\"label\"]\n",
    "processed_tweets = []\n",
    "\n",
    "for tweet in range(0, len(X)):  \n",
    "    processed_tweet = re.sub(r\"(?:\\@|https?\\://)\\S+\", \"\", str(X[tweet]))\n",
    "    # Remove all the special characters\n",
    "    processed_tweet = re.sub(r'\\W', ' ', processed_tweet)\n",
    "\n",
    "    # remove all single characters\n",
    "    processed_tweet = re.sub(r'\\s+[a-zA-Z]\\s+', ' ', processed_tweet)\n",
    "\n",
    "    # Remove single characters from the start\n",
    "    processed_tweet = re.sub(r'\\^[a-zA-Z]\\s+', ' ', processed_tweet) \n",
    "\n",
    "    # Substituting multiple spaces with single space\n",
    "    processed_tweet= re.sub(r'\\s+', ' ', processed_tweet, flags=re.I)\n",
    "    \n",
    "    #Removing punctuation\n",
    "    processed_tweet = processed_tweet.translate(str.maketrans('', '', string.punctuation))\n",
    "\n",
    "    # Converting to Lowercase\n",
    "    processed_tweet = processed_tweet.lower()\n",
    "\n",
    "    processed_tweets.append(processed_tweet)\n"
   ]
  },
  {
   "cell_type": "code",
   "execution_count": 10,
   "metadata": {},
   "outputs": [],
   "source": [
    "from sklearn.feature_extraction.text import TfidfTransformer\n",
    "from sklearn.feature_extraction.text import CountVectorizer\n",
    "transformer = TfidfTransformer()\n",
    "loaded_vec = CountVectorizer(decode_error=\"replace\",vocabulary=pickle.load(open(\"feature.pkl\", \"rb\")))\n",
    "X = loaded_vec.fit_transform(processed_tweets).toarray()"
   ]
  },
  {
   "cell_type": "code",
   "execution_count": 9,
   "metadata": {},
   "outputs": [],
   "source": [
    "import pickle\n",
    "pickle_in = open(\"ensemble model.sav\",\"rb\")\n",
    "loaded_model = pickle.load(pickle_in)"
   ]
  },
  {
   "cell_type": "code",
   "execution_count": 11,
   "metadata": {},
   "outputs": [
    {
     "name": "stderr",
     "output_type": "stream",
     "text": [
      "C:\\Users\\mail2\\Anaconda3\\lib\\site-packages\\sklearn\\preprocessing\\label.py:151: DeprecationWarning: The truth value of an empty array is ambiguous. Returning False, but in future this will result in an error. Use `array.size > 0` to check that an array is not empty.\n",
      "  if diff:\n",
      "C:\\Users\\mail2\\Anaconda3\\lib\\site-packages\\sklearn\\preprocessing\\label.py:151: DeprecationWarning: The truth value of an empty array is ambiguous. Returning False, but in future this will result in an error. Use `array.size > 0` to check that an array is not empty.\n",
      "  if diff:\n"
     ]
    }
   ],
   "source": [
    "df['label'] = loaded_model.predict(X)"
   ]
  },
  {
   "cell_type": "code",
   "execution_count": 47,
   "metadata": {},
   "outputs": [
    {
     "data": {
      "text/plain": [
       "(1000, 5)"
      ]
     },
     "execution_count": 47,
     "metadata": {},
     "output_type": "execute_result"
    }
   ],
   "source": [
    "df.shape"
   ]
  },
  {
   "cell_type": "code",
   "execution_count": 13,
   "metadata": {},
   "outputs": [],
   "source": [
    "df1=df[df['label'] == '0' ].index"
   ]
  },
  {
   "cell_type": "code",
   "execution_count": 14,
   "metadata": {},
   "outputs": [],
   "source": [
    "df1.shape\n",
    "df.drop(df1 , inplace=True)"
   ]
  },
  {
   "cell_type": "code",
   "execution_count": 16,
   "metadata": {},
   "outputs": [],
   "source": [
    "import folium\n",
    "import pandas as pd\n",
    "m = folium.Map(location=[53.384811, -6.263190],\n",
    "                        zoom_start=8,\n",
    "                        tiles=\"OpenStreetMap\")\n",
    "marker = folium.CircleMarker(location=[53.384811, -6.263190])\n",
    "marker.add_to(m) \n",
    "for i in range(0,len(df)):\n",
    "    folium.Marker([df.iloc[i]['lat'], df.iloc[i]['lon']], popup=df.iloc[i]['text']).add_to(m)\n",
    " \n",
    "# Save it as html\n",
    "m.save('bully_markers_on_folium_map1.html')"
   ]
  }
 ],
 "metadata": {
  "kernelspec": {
   "display_name": "Python 3",
   "language": "python",
   "name": "python3"
  },
  "language_info": {
   "codemirror_mode": {
    "name": "ipython",
    "version": 3
   },
   "file_extension": ".py",
   "mimetype": "text/x-python",
   "name": "python",
   "nbconvert_exporter": "python",
   "pygments_lexer": "ipython3",
   "version": "3.7.4"
  }
 },
 "nbformat": 4,
 "nbformat_minor": 2
}
