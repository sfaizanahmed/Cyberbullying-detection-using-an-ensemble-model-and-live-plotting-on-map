{
 "cells": [
  {
   "cell_type": "code",
   "execution_count": 1,
   "metadata": {},
   "outputs": [
    {
     "name": "stderr",
     "output_type": "stream",
     "text": [
      "C:\\Users\\mail2\\Anaconda3\\lib\\site-packages\\sklearn\\ensemble\\weight_boosting.py:29: DeprecationWarning: numpy.core.umath_tests is an internal NumPy module and should not be imported. It will be removed in a future NumPy release.\n",
      "  from numpy.core.umath_tests import inner1d\n"
     ]
    }
   ],
   "source": [
    "import pandas as pd\n",
    "import json\n",
    "import os\n",
    "import sys\n",
    "import numpy as np\n",
    "from nltk.corpus import stopwords \n",
    "from nltk.tokenize import word_tokenize\n",
    "import string \n",
    "from nltk.stem import WordNetLemmatizer\n",
    "from sklearn.ensemble import RandomForestClassifier\n",
    "from sklearn.model_selection import GridSearchCV\n",
    "from sklearn.model_selection import train_test_split  \n",
    "from sklearn.feature_extraction.text import TfidfVectorizer\n",
    "from nltk.stem.porter import PorterStemmer\n",
    "from sklearn.metrics import classification_report, confusion_matrix, accuracy_score\n",
    "import re\n",
    "from pandas.io.json import json_normalize\n",
    "from sklearn.linear_model import LogisticRegression\n",
    "from sklearn.ensemble import RandomForestClassifier\n",
    "from sklearn.model_selection import GridSearchCV\n",
    "from sklearn.linear_model import LogisticRegression\n",
    "from sklearn.model_selection import KFold\n",
    "from sklearn.linear_model import LogisticRegression\n",
    "from sklearn.model_selection import KFold\n",
    "from sklearn.ensemble import RandomForestClassifier"
   ]
  },
  {
   "cell_type": "code",
   "execution_count": 2,
   "metadata": {},
   "outputs": [
    {
     "data": {
      "text/html": [
       "<div>\n",
       "<style scoped>\n",
       "    .dataframe tbody tr th:only-of-type {\n",
       "        vertical-align: middle;\n",
       "    }\n",
       "\n",
       "    .dataframe tbody tr th {\n",
       "        vertical-align: top;\n",
       "    }\n",
       "\n",
       "    .dataframe thead th {\n",
       "        text-align: right;\n",
       "    }\n",
       "</style>\n",
       "<table border=\"1\" class=\"dataframe\">\n",
       "  <thead>\n",
       "    <tr style=\"text-align: right;\">\n",
       "      <th></th>\n",
       "      <th>label</th>\n",
       "      <th>content</th>\n",
       "      <th>extras</th>\n",
       "    </tr>\n",
       "  </thead>\n",
       "  <tbody>\n",
       "    <tr>\n",
       "      <th>0</th>\n",
       "      <td>1</td>\n",
       "      <td>Get fucking real dude.</td>\n",
       "      <td>NaN</td>\n",
       "    </tr>\n",
       "    <tr>\n",
       "      <th>1</th>\n",
       "      <td>1</td>\n",
       "      <td>She is as dirty as they come  and that crook ...</td>\n",
       "      <td>NaN</td>\n",
       "    </tr>\n",
       "    <tr>\n",
       "      <th>2</th>\n",
       "      <td>1</td>\n",
       "      <td>why did you fuck it up. I could do it all day...</td>\n",
       "      <td>NaN</td>\n",
       "    </tr>\n",
       "    <tr>\n",
       "      <th>3</th>\n",
       "      <td>1</td>\n",
       "      <td>Dude they dont finish enclosing the fucking s...</td>\n",
       "      <td>NaN</td>\n",
       "    </tr>\n",
       "    <tr>\n",
       "      <th>4</th>\n",
       "      <td>1</td>\n",
       "      <td>WTF are you talking about Men? No men thats n...</td>\n",
       "      <td>NaN</td>\n",
       "    </tr>\n",
       "  </tbody>\n",
       "</table>\n",
       "</div>"
      ],
      "text/plain": [
       "  label                                            content  extras\n",
       "0     1                             Get fucking real dude.     NaN\n",
       "1     1   She is as dirty as they come  and that crook ...     NaN\n",
       "2     1   why did you fuck it up. I could do it all day...     NaN\n",
       "3     1   Dude they dont finish enclosing the fucking s...     NaN\n",
       "4     1   WTF are you talking about Men? No men thats n...     NaN"
      ]
     },
     "execution_count": 2,
     "metadata": {},
     "output_type": "execute_result"
    }
   ],
   "source": [
    "df = pd.read_json('D:/msc folder/practicum/project/dataset/Dataset for Detection of Cyber-Trolls.json', lines= True)\n",
    "dict=df.iloc[:,:1]\n",
    "annotation_df = json_normalize(dict['annotation'])\n",
    "label_df=annotation_df.iloc[:,:1]\n",
    "new_label=pd.DataFrame()\n",
    "new_label['label'] = label_df['label']\n",
    "new_label['label'] = label_df['label'].map(lambda x: re.sub(r'\\W+', '', str(x)))\n",
    "df['annotation'] = new_label['label']\n",
    "df = df.rename(columns={'annotation': 'label'})\n",
    "df.head()"
   ]
  },
  {
   "cell_type": "code",
   "execution_count": 3,
   "metadata": {},
   "outputs": [
    {
     "data": {
      "text/plain": [
       "[' get fucking real dude ',\n",
       " ' she is as dirty as they come and that crook rengel the dems are so fucking corrupt it a joke make republicans look like ',\n",
       " ' why did you fuck it up could do it all day too let do it when you have an hour ping me later to sched writing book here ',\n",
       " ' dude they dont finish enclosing the fucking showers hate half assed jobs whats the reasononing behind it makes no sense ',\n",
       " ' wtf are you talking about men no men thats not menage that just gay ',\n",
       " 'ill save you the trouble sister here comes big ol fuck france block coming your way here on the twitter ',\n",
       " ' im dead serious real athletes never cheat don even have the appearance of at his level fuck him dude seriously think he did',\n",
       " ' go absolutely insane hate to be the bearer of bad news lol dont shoot the messenger cause we all know you bought that pistol',\n",
       " 'lmao im watching the same thing ahaha the gay guy is hilarious dede having good day and dont want anyone to mess it up ',\n",
       " 'lol no he said what do you call jail cell to gay guy paradise ahaha ',\n",
       " 'truth on both counts that guy is an ass and their product is sub par tell people try dalesandros orjim s',\n",
       " 'shakespeare nerd ',\n",
       " 'you are such fucking dork',\n",
       " 'heh fuck em where ',\n",
       " 'damn it totally forgot that one ',\n",
       " 'wow damn would have been pissed that ',\n",
       " 'nigga geigh lmao fuck yo finals beeeeeitch',\n",
       " 'that sucks ',\n",
       " 'read that this morning my fav is how they just straight up say cum shots ',\n",
       " 'unibroue 17 another damn good unibroue',\n",
       " 'damn your evil 60 minute ipa beckoning me from the fridge right now ',\n",
       " 'it did then my fucking dad turned it off just don think it likes your movies was tryin to watch nanny diaries ',\n",
       " 'it pretty much is fuck you card ',\n",
       " 'that karma is bitch huh',\n",
       " 'don get too fat or you ll turn into boomer',\n",
       " 'the hormones are worse for guys cant tell you how much truly hate the thoughts that go through my head ',\n",
       " 'except for joe jonas the ass munch who broke up our tyler via phone kinda like doing via text what kind of hole does that ',\n",
       " 'man that rly sucks for 1 am positive that all will work out you re bright dude pretty cool 2 if don say so myself ',\n",
       " 'hard to kick ass yourself with slippers on on it ',\n",
       " 'thats pretty damn awesome very smart aaronage sure ',\n",
       " 'freak awesome so far loving 4 5 the browser is fantastic and finally video pretty cool',\n",
       " 'damn that sounds good ',\n",
       " 'they should have wii loser that way you can compete with your wii friends ',\n",
       " ' markmancao haha love it gay nights for all ',\n",
       " 'that awesome you re pretty damn good ',\n",
       " 'faggoty fag fag gay secks man blowjob settle down ',\n",
       " 'right that wouldn be creepy as fuck ',\n",
       " 'holy shit fuck that band ',\n",
       " 'gay fag ',\n",
       " 'oh ok it the dick in box guys that explains the timberlake appearance',\n",
       " ' falls off of bed laughing fabulous ass off dude think that made me blush wtf lol ',\n",
       " 'and justlikeanovel raises hand rather gaily one real gay man right here darlings holla supergay',\n",
       " ' oh man the malls are mess it grosses me out ohhh capitalist dogma how hate you',\n",
       " 'where ya put it btw kick ass quote copyright 169 2009 abcd91 all rights reserved ',\n",
       " 'it sucks to be done with exams still be mayag ',\n",
       " 'epic wins for fuck city lt 3',\n",
       " 'has it snowed where you are miss the damn snow haven seen any in forever everyone has some snow but me lol',\n",
       " ' aren you just super special will not know the sweetness of sleep until about 9 tonight hate grad school want out ',\n",
       " 'fuck yes hate them at work ',\n",
       " 'holy ass hell balls 260 for premium fuck upgrading will fucking cope with basic',\n",
       " 'but seriously why the hell are you still online were you injured in god damn nam or something go ',\n",
       " 'damn don want to visit country that doesn allow passport smile just want to go to cabo soon ',\n",
       " 'i ve never been to new york and peyton was an ass when the chargers wanted to draft him but do love to win ',\n",
       " 'damn did you buy bitchy too ',\n",
       " 'then by all means bitch away haha ',\n",
       " 'sucks that ppl will do anything to make buck just love how your fans are calling them out and m glad your iphone is safe ',\n",
       " 'let that pussy freeze rotten bitey little bastard ',\n",
       " 'dood you just justified your mba pity the sorry ass of that downtrodden employee whose manager you ll soon become ',\n",
       " 'hehehe mine pleasure btw too so loves it when people be presumptous pricksy wicksies feel jolly nice for me ass to rub on ',\n",
       " 'i ve only lived quarter of my life and no crisis so far loser experience yeah couple of kinky pinky stuff yeah but crisis naa',\n",
       " 'imagine building not any building fucking 300 acre building full of weed not any weed but caucasian monkey fuck weed ',\n",
       " 'ugh twitter stop it you fucking slut ',\n",
       " 'hahahahahahahahahahahahaha eww now thats fucking gross hahahahahahahahahahahahahahahahahahaahahahahahahahahahaahahaahahaah',\n",
       " 'cute video lexi hve some of the of the weridest cutest little toys know wht ll say shut the fuck up ach haha',\n",
       " 'fuck the pics giovedea we want vids ',\n",
       " 'hard to play because it is damn fucking awful',\n",
       " 'you got that right people stealing others generators other stuff inside the homes when they know no one home sucks big time',\n",
       " 'no grown man should include dip in his sentence lol know m hatin but fuck it m lookin snow lol',\n",
       " 'oh god we have an icp display in our window and weve been getting so many fucking juggalos and they smell sooo bad ',\n",
       " 'you should have her talk to junsten about that similarly he once told me completely out of the blue d hate to be bird ',\n",
       " 'i nominate prsarahevans for shorty award in socialmedia because shes damn good at everything to do with social media ',\n",
       " 'captain jean luc pic card of the uss enter prize captain jean luc pic know what fuck you templesmith ',\n",
       " 'fuck you right in the filthy puckering sphincter you call soul ',\n",
       " 'another downside to living in dsm but working in indianola lunch meetups are usually not possible damn isolation ',\n",
       " 'there nothing better than listening to music on shuffle and hearing you say you bitch randomly in the middle of it ',\n",
       " 'i got it how many damn websites do have homie sheesh ',\n",
       " 'u know they all the same dame spot bet ya ll got the same damn middle eastern type of cats cooking that crack up too ',\n",
       " ' kno check ur blog out alpha females vs being bitch damn be analyzing ',\n",
       " 'haris m trying to control my fat tummy did nt eat from 2 days d',\n",
       " '700 you glutinous bitch ',\n",
       " 'ok you re starting to sell me on these vinyl toys damn that sounds bad ',\n",
       " 'so true so true lame ass people are now officially off my radar bu bye ',\n",
       " 'lo thankyou will see you soon and hav to send mail to damn ',\n",
       " 'have you tried fuck and fuck yes they are different ',\n",
       " 'well not unless he wants some hot vulcan action it only happens once every seven years but damn is it worth it ',\n",
       " 'damn was hoping for some cash out of this how bout 5 for pain and suffering lol',\n",
       " 'that sucks she should prolly just change her major lol',\n",
       " 'that sucks so are there plans to get back together or are they done ',\n",
       " 'you are fatty fat fat',\n",
       " 'you never posted your blog and today is guest blog day get with the program my slut pink zebra lol loveee you anyway ',\n",
       " 'they re not gross shaddup fat ass hater yes made them for mark my son ',\n",
       " 'no one likes every fat snack do bitch so shaddup ahahahahaha',\n",
       " 'stop the hateration bitch it only gonna make that mohawk stand up rotf ',\n",
       " 'ask him why he jumping out of the window and ask him hows he gonna do it in those tight ass jeans ',\n",
       " ' night guy is all motivated 11pm but he knows morning guy is gonna hate him when miss emily arrives at 5 30am night tweets ',\n",
       " 'ok but m telling you it going to be hard for me to fight my inner grammar nerd ll do it for the cause though ',\n",
       " 'mythbusters is great and nerdy show embrace your inner nerd no suprise they were on the launch of youtube live ha nerdz rool',\n",
       " 'lol the bitch damn ',\n",
       " 'damn thats crazy early wont hit the city til 9 30 but will be few blocks from the spot ',\n",
       " 'slurpees are awesome damn now really really want one o',\n",
       " 'i can see it now listen you cow loving yahoos just put all of the slurpee in this bag what cups don need fucking cups ',\n",
       " 'i loved it laughed my ass off',\n",
       " 'ahh you might be on to something damn techies',\n",
       " 'the pig of shame lol is that like the aardvark of discontent ',\n",
       " 'still it damn moronic that media people can access media particularly media made by their own company ',\n",
       " 'if anyone said arial m gonna beat their ass ',\n",
       " 'well find him and kick his butt too hate it when people take advantage of the mentally challenged ',\n",
       " 'tell her she says bitch like it a bad thing',\n",
       " 'i did have moment of seriously considering that mean my dirt devil sucks but didn plan on buying new one soon',\n",
       " 'ugh hate when get spam followers they shouldn count against our talley of actual followers p',\n",
       " 'you know what you are you re like big bear with claws and with fangs big fucking teeth man ',\n",
       " 'damn you re totally geeking out on us tonite ',\n",
       " 'the eagle leahsairy decided 2 not do power lesbian night mecca hang out our real queer ppl 2night gr8 indy band emo punk ',\n",
       " 'we are so silly and pathetic and so fucking cool you tellin me you choking made me choke and am sitting next to some girl ',\n",
       " 'let your hate for gambit grow embrace it spread it ',\n",
       " 'dig deep and find that special christmas hate ',\n",
       " 'i tried to rickroll my office christmas party last night but the damn band didn know it ',\n",
       " 'even though was at the same lunch as you we missed you at our end of the table need damn smart phone coulda tweeted back ',\n",
       " 'smack bitch d',\n",
       " 'rock not the he gives the emo populists limp wrist rocker throw ',\n",
       " 'already on the coffee love her but hate the whole spite thing climbed right on top of me to do it ',\n",
       " 'i feel fucking great get me another drink',\n",
       " 'you ve got 5 of snow damn m jealous ',\n",
       " 'it just sucks that so many use it as crutch ',\n",
       " 'they say have the best ass this side of fourteenth street ',\n",
       " 'yes love the pillows livejournal jrock rotations get an lj they re sick and uhh fuck dunno twitter just the site',\n",
       " 'ha not that creepy because it week 10 and m fucking stressed out as hell wish could take trip down there x',\n",
       " 'fuck amen to that',\n",
       " 'aww dnt hate the weather rain can be so soothing sometimes still have one more test dd ',\n",
       " 'i knw hate that ',\n",
       " 'aww thanks dear and hate my gradeschool friends for ditching me they forgot about me when we are suppose to be at her wake ',\n",
       " 'yeah had to beg the stupid teacher it was so gay ',\n",
       " 'yeah we all call her whore and shes all don call me that so called her slut and she said im tease and told her ',\n",
       " 'told ya she was fat she loyal tho she has this goin for her ',\n",
       " 'if you tweet about that damn song one more time and its on the scion double disc promo cd',\n",
       " 'i have all th nerd at home and m smart ass too so answered you',\n",
       " 'u got me lemming for some laneige whitening shit ive been breakin out lately i need somethin to whiten my damn acne scars bleh',\n",
       " 'you re not twitter slut until you show us full frontal nudity so until then you re just tease p',\n",
       " 'haha so you want to be twitter slut alright fine ll be waiting for the moment you mature from tease to slut ',\n",
       " 'and there were only 5 of us it was night that ve already forgotten damn the alcohol',\n",
       " 'i like the verses to the song just not that lame ass auto tuning nigga on the hook',\n",
       " 'hold up nigga cant hate jay might have to beat yo ass like that nigga did when that other guy said tupac lmao',\n",
       " 'way to damn hard',\n",
       " 'the explosion of social media into mainstream business we will see everyone joining twitter its the year of the nerd ',\n",
       " 'but but to hate them is sin just give me the ones you get angry with ll take care of them hahaha',\n",
       " 'dogs lick their ass need say more dog ',\n",
       " 'no hate those commercials just gross gag okay okay you ve got an hour before showtime hehehe 9829 ',\n",
       " 'it was joke haha figured id be emo too since everyone is complaining on here',\n",
       " 'it sucks though when you have nothing to do at 4am and your roommate wants to sleep ',\n",
       " 'o so the rumors are true am obese yea fat ',\n",
       " 'girlfriend where the fuck did find that photo lmao ',\n",
       " 'ur damn fool lmao',\n",
       " 'they re not my preference but the app is so damn fast and thorough that let it slide ',\n",
       " ' ha yeah that caught my attention too now wait watch for red wings fans to freak m gonna make popcorn for that show ',\n",
       " 'tell them you want youtube to quit fucking with things that no one wants fucked with ',\n",
       " 'no you just piss out anything your body won absorb ',\n",
       " 'doh dont you hate it when that happens keep meaning to take backup myself',\n",
       " 'damn he doing sneeks for nike and louis vuitton dude gonna be rolling in dollar ',\n",
       " 'mate it is in newcastle it was 1 down bath 6 it fucking brassic cold',\n",
       " 'hate text talking ',\n",
       " ' and whilst on the subject all aussie drivers should be reminded keep left unless overtaking damn middle lane owners club ',\n",
       " 'less damn fridays more badwookiepun',\n",
       " 'women are fucking disgusting ',\n",
       " 'you bet your sweet ass you will ',\n",
       " 'dating 4 year old damn you re faster than me only caught 3 year olds name ',\n",
       " ' will do when get home only time heard it was warped though fuck life ',\n",
       " 'man why live in nyc in that crazy ass weather move out to la it nice everyday nyc is soo over rated lol',\n",
       " 'i got ur ticks but yo ass ain gonna come lol',\n",
       " 'ugh ok hate nyc also hmmm thinking we are having screening on the fox lot that week maybe can roll through ',\n",
       " 'stuff like building the forums is what do when writing is kicking my ass that how do it ',\n",
       " 'also caught that gai damn earlier and support it 100 ',\n",
       " 'gee d hate to see what you say about the family ',\n",
       " 'dude dont tell me what to do thats not your place do what want just chill the fuck out and worry about yourself ',\n",
       " 'damn fine the snow is gone thank god ',\n",
       " 'that sucks life can really be that bad right chocolate does always help ',\n",
       " 'i hate you happy birthday dude good to know your enjoying it',\n",
       " 'thats good question most lawyers hate that stuff ',\n",
       " 'you stupid whore hope you are in your house when burn down your house you stupid whore why wouldn you go to prom with me',\n",
       " 'oh guess who got an australian shephard puppy today note not me the other roommate yeah another fucking dog ',\n",
       " 'ummm ya that pretty damn pimp ',\n",
       " 'as much as hate the winter those pics are beautiful we ve had insane storms like that in mo sucks so bad esp sans power',\n",
       " 'got delayed your ass kicking will have to wait ',\n",
       " 'i know it sucks but m actually envious of you though have orientation for tutoring program on the 14th did tell you ',\n",
       " 'it was just joke man wasnt taking the piss out of anything ',\n",
       " 'i hate your face sounds exactly like something would say also reminds me of drunk girl trying to fight me and',\n",
       " 'i was spanked but do not only because it makes my kid behave worse so doesn work not lot does work kinda sucks too ',\n",
       " 'i ve been messing around with some of the beta releases it murders every other wp version widget panel still sucks though ',\n",
       " 'are you laughing your ass off with all these juicy twits ',\n",
       " 'yeah we do damn this time difference hugs ',\n",
       " 'omg bundesliga and brasilian bossanova this was worse than seeing your loved family dog licking his ass m scarred',\n",
       " 'hmm so thats suk your soul hate and reinvent you to get my dry cleaning hate ',\n",
       " 'yep didn think to go online and check calorie fat count until after dinner bummer ',\n",
       " 'wow mommy little cheerleader must not take the piss ',\n",
       " 'lol that sucks it so nice in miami catching that ocean breeze from the balcony don want to rub it in lol',\n",
       " 'oh hot damn ',\n",
       " 'he can hear you his head too far up his own ass ',\n",
       " 'prison bitch is sparkling addition to any resume ',\n",
       " 'a constant receiver does not giver make prepare to be prison bitch blagojevich new campaign slogan it rhymes ',\n",
       " 'that sucks that you re sick sorry to hear that ',\n",
       " 'no thanks don want cable hate most tv shows really hate commercials get my news online m good ',\n",
       " 'try telling your parents that you don want to see them see how well that fucking works out for you yeah ',\n",
       " 'football hate it it 8217 official 8217 bad luck ',\n",
       " 'i fucking love haunted ',\n",
       " 'i didn know you were an avid football watcher is that even football think it is fuck sports ',\n",
       " 'lol kevin bought me damn near nothing and we dated for over 10 months my life sucks ',\n",
       " 'yea it sucks ',\n",
       " 'indeed but the collier conversation relationship head up your gleeful ass kumbaya stuff needs to be put out with the trash ',\n",
       " 'yeah am glad have the next 2 days off just have to get through xmas eve and the weekend afterwards damn gift cards',\n",
       " 'hot damn did you get an iphone too ',\n",
       " 'aw thanks it going better than yesterday that for damn sure d',\n",
       " 'no must have missed that one damn ',\n",
       " 'have safe flight damn now you make me want some jamba juice',\n",
       " 'i got it for wii when get back from my dad we re gonna play and it will be so kick ass ',\n",
       " 'http twitpic com xm6u you have an inbox folder for cya covering your ass ',\n",
       " 'him and his damn tech stuff bwahaha',\n",
       " 'i not emo m fucking happy ',\n",
       " 'well now have to edit myself and you know how hate that ',\n",
       " 'if get stye is it from seeing dog shitting or fucking and what do do with my fingers consult if need to ',\n",
       " 'what does that say about me that was laughing my ass of when heard that rapping the word titties is just damn funny',\n",
       " ' was there helping your ass pack to get on the plane tru friend helping you track sub sized weiner like fucking gps',\n",
       " 'you have officially been put on my bread stick mailing list fuck those rock republics and eat something already ',\n",
       " 'i get that ha ha smart ass p',\n",
       " 'i feel pretty oh so pretty feel pretty and witty and gay ha ha good times',\n",
       " 'yeah mean know the plan and the creative are kick ass but sometimes clients have warped view ',\n",
       " 'oh man that sucks vincentdooly can you help dsmoore out ',\n",
       " 'yea the weather sucks at least you missed the 8 degree weather though lol ',\n",
       " 'i do but m an american hence m pussy ',\n",
       " 'god that commute has to be bitch dealing with driving back and forth from raleigh to fayetteville ',\n",
       " 'i take full pride in being nerd hahah ',\n",
       " 'that an ugly ass picture ',\n",
       " 'pretty much but now there will be less aim errors weeeee you can see that don type like retard ',\n",
       " 'my grandmother is big bitch and my father a fraking arsehole ',\n",
       " 'you must be bored you are twitter whore today ',\n",
       " 'man m jealous of your day m also hooked on twitter damn arv like needed another procrastinating tool like this ',\n",
       " 'just don eat meal replacement bar fucking threw up ',\n",
       " 'fuck duke ',\n",
       " 'what if their you really sucks like why be wack person when you can be an imitation of more cool person think this',\n",
       " '2 weeks how am gonna live without money for 2 fucking weeks ',\n",
       " 'well get your ass busy ',\n",
       " 'hi new friend like your personality super cool yeah forgot it is like 9 am there that sucks ',\n",
       " 'damn that sucks hope you are ok now',\n",
       " 'haha no we have new stand up board at work and we have barstools to sit on hate them ',\n",
       " 'excited that yr friends get to see yr show hate them no rly do sad that tonite is last show hard to say goodbye ',\n",
       " 'thanks nothing just watching jack ass are you having fun doing nothing over there ',\n",
       " 'well that upsetting we can party it up over here jack ass is quite enjoyable thank you',\n",
       " 'fuck well you can for low cost of 19 99 with shipping and handling but that only if you really want to ',\n",
       " 'fuck again call 1800qzak then your problems will be solved might even get you discount',\n",
       " 'if you stay home to twitter and have martini on nye does that make you loser don answer that don want to know',\n",
       " 'you re fucking maniac ',\n",
       " 'its ok decided not to go to fam party going back to bed wtf moon hate you wtf life dead ',\n",
       " 'haha whyyyyy do you hate my school noooooo ',\n",
       " 'fuck sunday im super bummed ',\n",
       " 'whelchers fuckin suck ass ',\n",
       " 'some peoples drama just sucks ',\n",
       " 'well that sux donkey dick no interwebs is kinda pain for ur work ',\n",
       " 'then she changed roles and she is little less bitch from hell but still her sting has too much barb ',\n",
       " 'today feels like sunday damn lol',\n",
       " 'damn didnt even see that lol ',\n",
       " 'hate that happened to me today was like your welcome cut eye and walked back out lol',\n",
       " 'i hate hate hate it with passion lol know the calls are recorded talk mad shyt down the phone lol ',\n",
       " 'don you hate that though have so much product to make by the weekend wish it was tuesday ',\n",
       " 'i think its cultural fad starbucks coffee sucks and its wayy overpriced ',\n",
       " 'i just deleted all the people that have on my facebook off myspace damn if everyone switched could just delete the account',\n",
       " 'no think uofa navy jerseys on white pants rule and all red sucks but seeing byus colors guess all red makes sense ',\n",
       " 'here 2 another big storm is blowing our way hope it waits until m home from work b4 it starts snowing hate driving in it ',\n",
       " 'no think you will hate it its bunch of dirty work ',\n",
       " 'the iced media party long ass day at the office time for drink or 3',\n",
       " 'easy keyshia sucks it pathetic when an actor makes better album in his 3rd profession act stand up than you do in your first',\n",
       " ' theflygirl done but must tell you that negro got hard ass head my elbow hurts ',\n",
       " 'lol at the razor ramon shit surely was gonna ultimate warrior his ass shaking the ropes and the whole 9 ',\n",
       " 'you done started something got me all nostalgic and shit knowing good and damn well got work to do lol',\n",
       " ' mekdot yo heroes sucks loved season 1 despised 2 and feel like season 3 is lousy high school special boo hiss boo ',\n",
       " 'that sucks they owe you much ',\n",
       " 'boo to be fair they shouldn give away your room kick their ass ',\n",
       " 'wow that bad ass you re like stanley now well even more so ',\n",
       " 'lol figured so anyway anna is still being bitch sorry for the language she doesnt want to go on the trip so now onto plan b',\n",
       " 'anna just has to ruin the holidays for me just like every year damn you anna ',\n",
       " 'rock out with ur cock out dude ',\n",
       " 'that a shame hate having to unfollow someone p',\n",
       " 'big fat hard hawaiian dick too much ',\n",
       " ' hate that too have blocked few of stalker serial networkers on fb too maybe they should tweet first ',\n",
       " 'lol nah that just what we tell the loser guests that we usually toss down in the newsroom oh wait ',\n",
       " 'israelis to spanish fm kiss my ass ',\n",
       " 'no but m saying that money that has gone into gaza should be feeding people not waging war and breding hate ',\n",
       " 'i had dream involving rhino chasing me because of my polo cologne everyone says it represents fat woman my life sucks ',\n",
       " 'taking the piss talking trash perhaps',\n",
       " ' babysinead that dude is fucking psycho turned down working for him and he told ppl that did and that was trouble ',\n",
       " ' babysinead ve never even met him in person he a fucking douche ',\n",
       " 'i get that too it sucks ',\n",
       " 'hey fag why you gotta ask the whole world k your awesome',\n",
       " 'gotta love the gay kid who was drumming trying to get his head in the pic tho haha',\n",
       " 'sheeyat freezing rain is no punk hope you didn fall bust your ass in the parking lot almost did ',\n",
       " 'damn skippy should be dead 10 times over ',\n",
       " 'its foggy as hell here too looks like damn seattle ',\n",
       " 'lol penelope died thats so depressive have compaq it sucks dont have name for my computer tho ',\n",
       " 'do you really have big man ass ',\n",
       " 'i don know that bambi ass is nice place lol',\n",
       " 'attention whore ',\n",
       " 'i laughed so hard when first heard because my gay husband good friend lol says code 3 when he has an emergency',\n",
       " 'http twitpic com xipq this only makes me hate having verizon contract even more erg ',\n",
       " 'no guarantees hate the place m ust going there to make sure my parents are still alive ',\n",
       " 'awwww hate that had to buy that gadget you can stick your hard drive into to pull them off so sucks sorry 0 ',\n",
       " 'praying for your grandmother and your momma hate that they are facing so much ',\n",
       " 'bitch please your gorgeous',\n",
       " 'i fucking hate that word hahaha ',\n",
       " 'i know haha 1408 is so gay don even know why m watching it ',\n",
       " 'omg that sucks arse am so sorry ',\n",
       " 'sounds like good times m in the office until 7 00 and then ll probably go for run m fat boy getting fatter ',\n",
       " 'ye olde cock looks nice ',\n",
       " 'sure you can ll hide the flashlight go emo go ',\n",
       " 'emang lagu2nya emo bukannya mellow d',\n",
       " 'gitu emo jaman dulu ya d',\n",
       " 'listen rayray gave you the lowdown as soon as got it hadn heard it b4 and was shocked she seems to hate his guts ',\n",
       " 'i thinks you meant to say that twilight was epic fail not your mistake hate stephanie meyer and ve never even met her ',\n",
       " 'lawl sucks to be them then ',\n",
       " 'i die first damn fareway ',\n",
       " 'lmao he horrible the beatles changed the fucking world and are still an icon to this day who the fuck are you ',\n",
       " 'i need to see how this ravin rabids game works first it all have to be in the ass moving maybe not moving enough bad oral ',\n",
       " 'holy fucking jesus mother gad damnit wtf wow ',\n",
       " 'really thank fucking god for sleeping pills ',\n",
       " 'dude that pic of you in the gold 2009 flyer looks like friggen glamour shot fag hearts ',\n",
       " 'eff yeah give jeffreyparadise and richiepanic slap on the ass for me',\n",
       " 'you are fucking killing me please come to party at my house next time yer in la rice pilaf will be ready',\n",
       " 'i hate to open the flue after long fall we get birds or dead squirrels totally scary ',\n",
       " 'depends on how much you hate fighting your light read in the car lot while hub drives so very worth it to me ',\n",
       " 'he won wanna pet the guinea pig ',\n",
       " 'i love to visit or live in san diego cause of yr round warm weather hate cold so bad crowds traf would my probs there',\n",
       " 'no prob but watch out it fucking addictive ',\n",
       " 're fuck the creative industries blog post at squares of wheat say waaaay too much empty rhetoric there be the change ',\n",
       " 'did mention that among my new disciplines are dementation dominate presence and obtenebration am fucking awesome ',\n",
       " 'i really hate housework then again it was great waking up to clean lr kitchen maybe should do it more often ',\n",
       " 'i ve been wondering that myself its been down for quite damn long time tqbf any comment on that ',\n",
       " 'well damn we should have had tweet up was at kona last night as well ',\n",
       " 'ouch hope your alright i hate black ice almost broke my arm on it the other week p',\n",
       " 'eeeeew wanna cum ',\n",
       " ' aaye richard gre is not gay re p',\n",
       " 'fuck yeah bra',\n",
       " 'nope can deny that sweet face or lil schnauzer ears always wished hildie had her pig tails how is cropping still happening ',\n",
       " 'hey happy new year new friend enjoy the movie think of me when the crazy proff shows up damn can remember his name',\n",
       " ' name ',\n",
       " ' good now can bring ur happy lil ass over here help me finish hanging this garland ',\n",
       " 'guess there wont be much skidding then as is said hope you re on the ground floor or everyone will hate green grass and high tides ',\n",
       " 'the fa50 is low key ultra here in atl it stands for fat ass 50k loop course so you could do 25k half ass ',\n",
       " ' me too also hate closing then opening then closing shifts that gets me all out of wack ',\n",
       " 'says no more pizzas for the situation room or else we will be fat when the war is over ',\n",
       " 'hangs longer than while lay there on ur ass 1 day gonna look back these days ask urself where did ur life go ',\n",
       " 'i slept horribly kepted waking up every hour kept tossing and turning argh hate having to work today time for cardio ',\n",
       " 'if you can get me signed copy of jordan book we ll pull some qoutes during shows that guy kicks ass muchos muchos wow',\n",
       " 'werd you pick out 2 kick ass hip hop songs and we ll doit yo ',\n",
       " 'hola orli we are www luckystartups com looking to interview some kick ass peeps in israel you up to it ',\n",
       " 'yeah did that few months ago how your show doing man looks kick ass ',\n",
       " 'thinking about response actions have decided its not going 2b ideal 4 anyone its sticky bc its family theres love hate dislike',\n",
       " 'not talking about incident but more so the attitude that m gonna bitch make comp do something on subjective matter ',\n",
       " 'she doesnt want to scar you for life like could cant talk her into sending you the video of they guy with the jar in his ass ',\n",
       " 'when can meet your uncle maybe he could give wiki demo to our loser peeps ',\n",
       " 'what coincidence m wearing my fat jeans today and it felt like they were my skinny jeans ',\n",
       " 'sucks don it ',\n",
       " 'doc a dick ill manage without injuring myself self inflicted pain would be desperate which think am siiigghhh ',\n",
       " 'agreed twitter showed the way with the whale ',\n",
       " 'no shopping isn what sucks it the crowds that cause the trouble haha love your website btw ',\n",
       " 'fuck yeah bioshock tell me how the apartment hunt goes ',\n",
       " 'merry christmas to you too casey for tomorrow er or today grrr damn time zones ',\n",
       " 'are we going to see an appearance of the fuck me boots p',\n",
       " 'sounds more reasonable hate having to buy 8 presents for my very small family alone soulless myer gift cards ftw',\n",
       " 'wtf fuck you',\n",
       " 'lawlz yr bitch hoe ',\n",
       " 'sorry you bitch punched teo ',\n",
       " 'oh no always try to make my desk look neat fail whale there are always newspapers piling up cables are worse ',\n",
       " 'funny always thought job security is dependent to how much ass you can kiss wait guess they are one of the same if you think ',\n",
       " 'oh know it doesn hurt to have one of the richest woman in the world actually hate you elvis had the memphis mafia oprah ',\n",
       " 'lol m not enough of lotr nerd to need to install tolkien fonts ',\n",
       " 'it was good show dude did you call in gay rotfl',\n",
       " 'hmmm or do they hate you because you didn let them join in the parranda nah probably the corp council thing',\n",
       " 'lol hon have been saying for while now that this boy will be gay it really bothers the hubs when do so im tryin 2b good',\n",
       " 'lol exactly hey guys how about 13 sided paralellogram that ll fuck em up ',\n",
       " 'yeh but every nerd like to think he she is devastatingly good looking as revenge on those who snubbed them trust me kno',\n",
       " 'gee might if the person running this hadn been such bitch to me ll focus my efforts elsewhere thanks ',\n",
       " 'haha you think so right am giving something away though m just surprised cause it that high my sqz pg honestly sucks lol',\n",
       " 'heh m thunking friggin hate that word thunking how daft anyway is it con ',\n",
       " ' just fucking beat you ',\n",
       " 'holy fuck that was one tough fucking cow ',\n",
       " 'yeah know but its also too bad about the children ya know because fucking won ',\n",
       " 'heh his name jeremy stupid little nerd but he up for any challenge and he about to break anyway ',\n",
       " 'hippies hate that stuff too chemical this is true when used in enormous amounts ',\n",
       " 'i have to go inside of you tomorrow hate myself every time am in you feel cheap and dirty ',\n",
       " ' name ',\n",
       " ' rt fat bastard my beagle is writing his tail all confessional diary about online dating ',\n",
       " ' fat bastard sends hugs for retweet on austin girl blog http austingirlblog wordpress com need feedback on writing ',\n",
       " 'jizz in my pants is old news nigga keep up lol instead of doing it locally just come over early and do it here fuck local shit',\n",
       " ' lastlee that movie was good not boring very gay but equally good',\n",
       " 'fuck and ur early screenings jealous prepare for tuesday mash im coming with woody to freebirds mash',\n",
       " 'cant wait to get fucked the fuck up',\n",
       " 'well if they hate you are they still considered fan ',\n",
       " 'i kinda meh on it it wouldn even be contest as madonna would kick his ass while he was running around screaming ',\n",
       " 'ok take you off of my hate list and send you hugs am in business this is my alter ego mwahahah',\n",
       " 'http twitpic com rt32 omg sucks to be hope got some good tunes going makes it more delightful to sit through ',\n",
       " 'it one thing if it my friends using it on me but hate when 23 year olds message me on okc and call me that or older woman',\n",
       " 'that would be one shocking pussy lol',\n",
       " ' totally agree with you fuck prop 8 very cool that apple came out publicly against 8 on the website ',\n",
       " 'u know that what hate about ohio seeing grown up idiots in shorts when it freezing outside 0 ',\n",
       " 'fuck yes',\n",
       " ' if she is dumb hoe why he put his cock in her ',\n",
       " 'still nothing lucky for you have the free time to hop on twitter and remind you that you still fucking owe me ',\n",
       " 'charter sucks as is nothing but trouble att needs to roll out uverse faster ',\n",
       " 'did santa cum visit huny ',\n",
       " 'nice voicemail didn enjoy it cuz am bitch ',\n",
       " 'summer workout tape how you gonna workout to kanyes depressing ass album ok maybe 2 songs',\n",
       " 'well i said some words about pollgod that didnt mean because sp member was being fuck head lol',\n",
       " 'i with you on the new yrs res m 10lbs chubbier than was 8 mos ago and also thought was completely immune to fat ',\n",
       " 'oh you bastard you couldn wait until m not busy ll probably catch the tail end again damn it all ',\n",
       " 'how is the loser episode lotsa crying ',\n",
       " 'i am dutch over here there a difference between the fat ho ho santa and st nicolas sinterklaas ',\n",
       " 'fuck off ',\n",
       " 'ducking ducking ducking stupid ass autocorrect',\n",
       " 'damn tj you getting called out in songs now ',\n",
       " 'lmao aint gonna front shit did look kinda moist ol duncan hines ass lol ',\n",
       " 'my programs is telling me the same damn thing wth ',\n",
       " 'i wanna see her tall lanky ass playin tennis lol',\n",
       " 'the guy who runs it is major dick underpays or doesn pay models he harassed me and belittled me ',\n",
       " 'yeah it was four years ago but have long memory also still hate the avalanche even though they ve sucked for years ',\n",
       " 'grew up habs fan which meant had to hate the leafs when moved to toronto which meant embracing the wings ',\n",
       " 'wilt fresh spinach with hot bacon fat and top with bacon ',\n",
       " ' graphic novel class hate you but love you but still hate you and oh yesh hows ya boy jimmy ',\n",
       " 'usually if am at the point where m ready to say something mean will click away hate mean people hate them ',\n",
       " 'yes it winter time and d hate for her ears to get cold out there on the ocean city boardwalk ',\n",
       " 'now know you re really are gay ',\n",
       " 'me hairy ass wtf would laser that shit ',\n",
       " 'which keyboard do hate hate iphone keyboard yes touchscreen is cool but wish had actual buttons 2 push less typo s',\n",
       " 'write more books sccessful new venture with me bring fat fat 2 a so we can hang out and buy our sons bunch of cute clothes',\n",
       " 'fuck you mcgaffigan want to go nao ',\n",
       " 'you can stop voting now holy fuck if only mccain had you on his side and you were 18 ',\n",
       " 'you bash nickelback but you listen to staind wtf hate both btw ',\n",
       " 'i nominate badhorse for shorty award in green because why the fuck not ',\n",
       " 'joanne angel you know how much hate you right now lt 3 xxxorcist',\n",
       " 'i also lost my wallet over the weekend its sucks in my case was just dumb and appear to have dropped it somewhere ',\n",
       " 'dunno just saw her go at the top of stairs it seemed like an ass slide ',\n",
       " 'it just crazy this boy is fucking up my sleep schedule probably why don mind too much ',\n",
       " 're hugh daughter just hate to see when female ceo step down and says it so company can evolve aaarrrg ',\n",
       " 'like tha new 50 shit fire finally sum club gangsta shit neede that hook is catchy as fuck and 50 whas rappin good ',\n",
       " 'i fuck wit u got skillz homie ',\n",
       " ' damn fool you re 247 workhorse ',\n",
       " ' name ',\n",
       " ' damn homie in highschool you was the man homie fuck happened to you ',\n",
       " ' that shit right there fool is fucking tight http tinyurl com 6fro26',\n",
       " 'no ur 13 get the fuck off the internet and get back to playing with ur easy bake oven stupid parents buyin brats iphones ',\n",
       " 'if is there tell him he sucks he dark and plays suspect lol',\n",
       " 'thats the only set back and its bitch to send ish back',\n",
       " 'blocked what fucking load of old shit ',\n",
       " 'lol the fuck what concert was that',\n",
       " 'because hate you the last one rewrote cuz there was typo and it was bothering me',\n",
       " 'oops but you re forgiven hope they win never had good exp with shelter they hate us military types glad you did though ',\n",
       " 'fuck yo couch',\n",
       " 'ground her now and she ll kick your ass lol',\n",
       " 'can make up my mind go out my girl vip style and leave the dog home alone till morn stay in or go to gay pj party',\n",
       " 'oh hannah am so so sorry for your loss ve done the deathbed vigil and it sucks hope your pain eases with time love',\n",
       " 'happy birthday you damn sexy hobo ',\n",
       " 'i celebrating and drinking to the fact you re an annoying fuck ',\n",
       " 'i doing nothing was thinking about going to the flaming lips concert but hate going alone ',\n",
       " 'dude the talk about universe at leweb is awesome as nerd guy you have to watch it',\n",
       " 'jerry is cowboy problem he won hire real coach cuz then the credit wouldn go to him he poster child for attn whore ',\n",
       " 'u pussy lulz ',\n",
       " 'don you just hate that especially when it is over the most irrelevant crap',\n",
       " 'yes freakin 17 and in college since was 16 ugh it sucks hah',\n",
       " 'then why cryn hate on me ',\n",
       " 'if it wasn for at s spotty network d switch in heartbeat that where verizon kicks some serious ass ',\n",
       " 'you fart like fucking bass drum lol',\n",
       " 'what da drilly wit dat do oh and still got distribution in japan damn that chick was the worst that night',\n",
       " 'yeah but that running time ll be there 2morrow that mmovie is long as fuck ',\n",
       " 'damn bossman let find out got 2 jobs what are a single parent or somethin ',\n",
       " 'no sign dont fuck with rats ',\n",
       " 'http twitpic com s13a omg hate scottiethehottie he is retarded spammer he is photographer08 it got deleted ',\n",
       " 'no fuck you',\n",
       " 'i don bother arguing that about bush anymore because people who admire him have damn near no power post 2008 elections ',\n",
       " 'do you think you are nudging me to change my update whore nails ',\n",
       " 'thats what you get for being fat ass fat ass ',\n",
       " 'i hate you ',\n",
       " 'i ve been on twitter 1 week and am about 20 shy of 500 does that make me loser lol lol lol',\n",
       " 'well either wy thy like dick wayyy to much ',\n",
       " 'omg son just figured out how to reply to youuuuuuu hate this lmao',\n",
       " 'fail whale ',\n",
       " 'cluster fuck indeed ',\n",
       " ' you can trust me to do my part to help adamcallender win his biggest loser contest ',\n",
       " 'dang hate the little buttons go back one tweet ',\n",
       " 'ironic normally hate plastic 4 environmental reasons this time it actually saved some of the patterns from the wet grass',\n",
       " 'god damn ok how about peter duncan then ',\n",
       " 'damn you overload issues ',\n",
       " 'that killer wish it was even cool here but it been damn near 80 most of the week no where near festive temps ',\n",
       " 'ugh yes am consumer whore and how ',\n",
       " 'shut the fuck up ',\n",
       " 'i hear ya ipods can get annoying with that damn clicking noise ',\n",
       " 'dude if didnt tell me how 2 do this fucking thing twittr wud prob still lyk nowhere with it ',\n",
       " 'don you just hate deciding on things ',\n",
       " 'eddie izzard says the brits pronounce herb with the because there a fucking in it ',\n",
       " 'i feel like such nerd watching this love it ',\n",
       " ' name ',\n",
       " 'wtf that is so gay ',\n",
       " 'would you believe the same article said eating less helps us live longer too damn those scientists ',\n",
       " 'you re gay lt 3 you',\n",
       " 'there some dude at this bar that totally looks like you should kick his ass for impersonating ',\n",
       " 'all these awesome people just flock to me guess m about cool as fuck ',\n",
       " ' kitchengirljo what the fail whale ',\n",
       " 'oh lol use client so never get the fail whale p',\n",
       " 'could be that m not typing hard enough happened lot more when first got this laptop about 3 weeks ago sucks ass',\n",
       " 'you re fucking bully man ',\n",
       " 'damn son',\n",
       " 'fuck the world or for the win',\n",
       " 'http is gd brvs itunes or http is gd b4yp antrel rolle previewed today min game on the best damn sports show podcast ',\n",
       " 'oh come on mean we all love to hate myzou but it one thing to hate myzou and another to take time machine to the 70s ',\n",
       " 'no dont he does hate his guts ',\n",
       " 'this makes mme smile lol hate him but we still dont bring him up bc to us he is dead and non existant ',\n",
       " 'i hope so that way can fuck him over continuously ',\n",
       " 'your effin cunt ihu ',\n",
       " 'dude that sucks man ',\n",
       " 'im glad to meet someone with similar freak gifts to me haha',\n",
       " 'read the emacs rails codebase and then see why emacs is just damn cool',\n",
       " 'omg omg omg finally the shoes coming out yay yay want them so so so so bad fuck cancer this literary made my day',\n",
       " 'god free cure show damn didn know about this live close ugh lucky lucky how was it ',\n",
       " 'girl talked to black milk on the phn for an hour watching big bang theory drunk as fuck eating cereal its cold in the ',\n",
       " 'are you out celebrating your birthday if so birthday drink is ok but don forget the marathon hate being such stickler ',\n",
       " 'damnit ve started new short story about dentist fuck ',\n",
       " 'all of my friends are married gay or have been burned so badly they don want 2 even think about another relationship i ve',\n",
       " 'well if he a pussy he surely isn that man of substance your looking for lol don settle when you know you want more ',\n",
       " 'the fail whale ',\n",
       " 'damn you ve had more jobs than um er well you re just always employed lol',\n",
       " 'lol maaan fuck this almost busted my shit like 5 times tryna walk on this damn ice ',\n",
       " 'burger in each hand wut fat ass lol',\n",
       " 'yo only peeped the last 30mins and saw here and thought it was her but figured naaah this bitch looks way broker lol yikes',\n",
       " 'yeah id do her like my nigga did them white chicks at the club on knocked up fuck the shit out old bitch but no clubin',\n",
       " 'yeah she pretty cool but she got moments where be like ehhhh idk now id fuck but the ass lick wud depend on the nite',\n",
       " 'son just got finished watchin big mommas house wow she damn sure can and she milf so thats bonus',\n",
       " 'yep ur an uber nerd now',\n",
       " 'and rapperbigpooh was that sheila easton nah it was that chick that used to fuck with prince right ',\n",
       " 'damn fucking skippy m onthe same shit',\n",
       " 'oldest son just turned 19 months and youngest is 5 weeks old damn dude look too young to have 17 year old ',\n",
       " 'bill donahue seriously ask him why he uses hate speech against gays women and jews and maybe d listen to his complaints',\n",
       " 'i used to do the shopping but when my wife stopped worked few years back she took over it is just damn cold until april',\n",
       " 'i just got done busting my ass for the day need booze ',\n",
       " 'i nominate igorthetroll cuz he thee best damn troll we gots ',\n",
       " 'thats why hate megavideo ll see if can get someone to update the episodes with an offshore video hoster ',\n",
       " 'what cunt ',\n",
       " 'that sucks loxy wish there was smtg could do is chury back in cgy as well ',\n",
       " 'and the arabs pussy count reaches 250 million there said it we re all bunch of pussies no offence to the pussies',\n",
       " ' yeah its seems like most of the time unexplained highs are related to bad site or fat delays',\n",
       " 'duh fat fish and winning the lottery go hand in hand',\n",
       " ' name ',\n",
       " ' politicians should have to pass an ethics exam 2x yearly wonder if that a piss test for them ',\n",
       " 'i think that another one that haven seen that makes me eligible for gay card revocation',\n",
       " 'looool ta photo tu as aim 233 silvester ou pas jamais bourr 233 ensemble  mais trop ch 232 l 224 bas lol et le gay mdr lieb dich',\n",
       " 'alors nerd 233 tait bien vous avez du 234 tre folles pendant lapdance xd 224 samediiii lt 3',\n",
       " 'np you are happy with the service do you have anything to compare to hate 3 not working out of cities and whirlpool likes exe',\n",
       " 'lmmfao shuddup any grown ass man that let other grownass men call him timmy is gaaaaay ',\n",
       " 'both think liked the first one better they both beat harry potter though that damn rubbish ',\n",
       " 'look im sitting at home twittering my ass off on friday night should know better then anyone lol',\n",
       " 'lmao damn right but we aint talkin bout me here',\n",
       " 'i fuck wit the lows if there dope but know all got me fam ain trippin',\n",
       " 'lol britt just said it look like big ass pillow fight outside',\n",
       " 'wow that sucks merry christmas to you and your honey wow we are both celebrating firsts on that one the bs',\n",
       " 'damn skippy demand to see you before leave you going to come meet blendmom ',\n",
       " 'arsclan would freak on tower def is build series of midieval like towers upgradable near pathway of continual attacks ',\n",
       " 'some liberal gay atheists or republican fund raisers should jump on that ',\n",
       " 'what are you gonna stab bitch with scissors knife spear sword cock pencil dildo cattle prod broken glass ',\n",
       " 'i once let delta chi fuck me in the ass in raleigh nc he took me to bahama breeze and that sealed the deal doesn take much ',\n",
       " 'are you sure they weren looking for my blog wine bottle in ass ',\n",
       " 'i like to fuck when tweetup ',\n",
       " ' 10 for water is better than the throat fucking got for free the last time was there ',\n",
       " 'better give dochobbes the nerd prize he the nicest nerd know ',\n",
       " 'dude the ep is sick pussy and tween me are my jams ',\n",
       " 'lol did zackly same thing btw thanks for leading me to chipeft just reqd born loser guide to abundance http rurl org 18kr',\n",
       " 'damn those jets hears hoping for happier fucks in the future blinks ',\n",
       " ' my pussy is still sadly missing blinks do you think this will affect my popularity evil grin ',\n",
       " ' shakes head you for calling kitty pussy he a boy you know lol',\n",
       " ' work with very limited bankroll when m running bad have to go for broke now up for the night also fuck poker ',\n",
       " 'i hate those backgrounds because you can click on any of those listed links find it frustrating ',\n",
       " 'yes there is definitely an element of bush fatigue in all this can wait til we can ship his ass back to texas ',\n",
       " 'dat bitch left lol',\n",
       " 'no fucking crazy josh ',\n",
       " 'no ahhh he is fucking crazy hes been killing himself since yesterday still nothing ',\n",
       " 'call me emo again and ll cut myself',\n",
       " 'i hate that know some french and the french you used was the french know',\n",
       " ' dncr1804 don even know what did or said that was emo esque ',\n",
       " ' twitch hate you k ',\n",
       " 'oh man that sucks m sorry sucks to live with people who are dirty trust me can relate ',\n",
       " 'i felt the same way 3 weeks ago and then proceeded to watch the whole damn thing lol',\n",
       " 'well you can send me two and get fat on the rest ',\n",
       " 'you were right the uv filter that came with that kit sucks freakin glare spots all over my shots',\n",
       " 'a party bored as fuck god need grown man party',\n",
       " 'it like gay people using the word somehow allowed ',\n",
       " 'damn that is so unfair where is the version of firefox for white slightly balding men ',\n",
       " 'can he seriously help me out or are you taking the piss of him ',\n",
       " 'home now misses wont let me drink beer tonight cus gotta do shit tomorow morning sucks ',\n",
       " 'man it sucks dont it on the plane home yesterday was in agony with the cabin pressure my ears still are not right now ',\n",
       " 'so if lifes bitch and sleep is the cousin of death that whole dam family needs help ',\n",
       " 'tell them to fuck off give it few years then laugh at how much better you are then them ',\n",
       " 'depends on your plan if you pay out the ass for it no ',\n",
       " ' that a very interesting point and one hadn heard before copper for elec motors damn love twitter ',\n",
       " 'agree entirely d hate to see graph for my twitter input this week ',\n",
       " 'guy walks in to bar with duck on his head the bartender says can help you the duck says yeah get this guy off my ass ',\n",
       " ' nazi and facist could you call you commie pig but that not very gentleman like gaza',\n",
       " 'i miss being here wish they had corporations here instead of damn aquarium miss jimmies hotdogs that dog food be jumpin lol',\n",
       " 'dupa cum vezi eu mai putin cu excelurile mai mult cu povestile ',\n",
       " 'i nominate yiyinglu for shorty award in design because he designed the fail whale ',\n",
       " 'lol why do you do this hate your guts p',\n",
       " 'but now really want one damn you hadn even realised needed one til you told me they existed ',\n",
       " 'niiice likewise sure the boricua gave that away ah yes we boricuas have good taste rob pattinson hehe damn sexy brits lol',\n",
       " 'i hate having to wait till jan for the big game lol tedious tell ya',\n",
       " 'would be at least 4gb at guess ain using it atm if you don leech ur ass off you re welcome to lend it',\n",
       " 'meh all year round baby they re actually growing like fuck at the moment except for the caterpillar incident yesterday ',\n",
       " 'don hate on ghajini it was an awesome movie ',\n",
       " 'if you re hard at work or just leisurely reading you re not poser ',\n",
       " 'god ashley is bitch but still congrats ',\n",
       " 'i cry but then m just like that fucking woman is bitch god hate her yolanda m getting mad just thinking lol',\n",
       " 'lulz fat chance good news is no bacn from friends adding you d',\n",
       " 'looks like lobby card for ocean 21 on the half ass ',\n",
       " 'check replies from hahlo twhirl tweetdeck et al they reply to the user not specific id makes following convos bitch ',\n",
       " 'unless adobe gets their head out of their ass flash will die because mobile will be the dominant platform ',\n",
       " 'lobsters and ligatures are you portland area type nerd then ',\n",
       " ' touche hate getting shut down guess that what get when pray for humility at least am better student ',\n",
       " 'so it seems you are an attn whore no comment ',\n",
       " 'posted the fat man version to the beyonce song ',\n",
       " ' bitch you wish keep dreamin ',\n",
       " 'ahah and ll say exactly what d say to him bitch make your own kid p',\n",
       " 'lol think she a huge bitch but she good at what she does and is entertaining at times ',\n",
       " 'ah was too hated that bitch want bob or sugar to win ',\n",
       " 'i prefer women to be fat in other places anyway fat toes and earlobes are so cute ',\n",
       " 'nigella is bit of tease reckon imagine how fat you be stayin at hers',\n",
       " 'twinface it atcq your drunk ass can type lol',\n",
       " 'there only few shows really look forward to seeing hate when they put reality show on instead with no warning ',\n",
       " 'compared to eeyore and that stupid bear and that demented pig think he 8217 fine ',\n",
       " ' fat lot of good my medieval history degree is doing me these days ',\n",
       " 'who owns one just fix em hate it when electricals go to hades ',\n",
       " 'unnecessary pain in the ass too much effort ',\n",
       " 'damn ecoterrorists he shoulda just rented helicopter better for the enviroment anyways ',\n",
       " 'yeah m with ya hate to see guys get hurt but it a little easier when it roth if only it had been ward or polamalu',\n",
       " 'yeah especially if they re those big ass soft pretzels those things are the bomb diggity ',\n",
       " 'just read the archive artile on your old site love the jones comparison how much hate mail did you get ',\n",
       " 'i forgot 2 call in gay 2day too blast ',\n",
       " 'we miss you back my haiku famous dickenson exactly why m not sure her poetry sucks ',\n",
       " 'he was just being dick in cot4 his attitude caused wipes which made him bigger dick it was vicious circle ',\n",
       " 'how you gonna call me hater m entitled to an opinion and that opinion is sb sucks hog ass don give f about it',\n",
       " 'heard there were 2do fairies tht come do ur 2do list if put list by the freplce kinda like leaving cookies 4 the fat guy ',\n",
       " 'i got the 8330 bigger keyboard got fat thumbs',\n",
       " 'yo you should have another show tomorrow cuz we had to record the past two days damn albums ',\n",
       " 'ok can believe just told the haters on momlogic to kiss your million dollar ass ',\n",
       " 'oh gdnss jus saw vlog wow met that fool yrs ago mj restaurant dc what loser ',\n",
       " 'i was trying 2 use it the other day also had the hardest time said fuck it just called the person it wasn working ',\n",
       " 'yeah was just saying that why did cnn decide he would be good move he sucks try to support but can ',\n",
       " 'we loovveee chicken damn do also so really shouldn complain and since found the chicken am in better mood ',\n",
       " 'social network whore ',\n",
       " 'why do hate dms so many reasons one is you can send them to someone if they re aren following you what pain that is ',\n",
       " 'another reason hate dms is they ring in on my sms even though they are often lame ads and not urgent for the sender nor myself ',\n",
       " 'i responded and asked you but yes it does vary some think gay marriage is immoral think those people are bigots ',\n",
       " 'i hate you with the hate of thousand hates ',\n",
       " 'now wait second mr fanboy you cant judge it without seeing it you already think it sucks and its not even out ',\n",
       " 'clearly manufacturers rarely use common sense to make customers happy when they can easily just piss you off and make ',\n",
       " 'that really sucks m sorry d get shitfaced with you but m stuck up here on the plateau ',\n",
       " 'fuck no don feel silly worked hard for that ',\n",
       " 'wow bang bros was the ish haven watched it for while tho damn now wanna see that lol',\n",
       " 'damn prolly not now wanna know lol',\n",
       " 'well damn thanx for nothing ',\n",
       " 'listen to who the freak now lol',\n",
       " 'hmmm had feeling bout but damn no label wow',\n",
       " 'you could be jobless praise god for it despite how much ya hate how it comes at least it coming in rather than out lol',\n",
       " 'ohhhh jeez that sucks hope she gets well ',\n",
       " 'i don have damn clue what you re talking about m just now on better halves ',\n",
       " 'pussy ',\n",
       " 'dang need to stop eatting cheese damn you kraft ',\n",
       " 'oh jeez had mercifully forgotten about fatman should have been assholeman who will piss everyone completely the fuck off ',\n",
       " 'sorry man hope you stop ass bleeding soon wow that was awkward just thinking about it ',\n",
       " 'http twitpic com t9za hahaha that looks so emo poor guy thats i prefer drums',\n",
       " 'i guess that song represents bono dark period fuck saving them be happy with your wealth ',\n",
       " 'i always respond to that use of gay by asking if the subject really is fag licious ',\n",
       " 'i hate nearly everything about the first two hp movies ',\n",
       " 'george lucas guide to sucking cock ',\n",
       " 'yah after more tries than want to cop to damn static in my place is making the laptop jump all over the fookin place augh ',\n",
       " 'yah you think d lose some fat doing all this shovelin but guess eating brownies when m done negates something hah',\n",
       " 'i had no clue damn homie ',\n",
       " 'damn break me off some bread ',\n",
       " 'damn dame lil magic need some signings he love boobie',\n",
       " 'man you got out that garage hit them stairs so damn fast lmao im like look at this nicca lol ',\n",
       " 'seriously oh great giant american flag wtf are we supposed to do with it fuck it send it to price is right ',\n",
       " ' nakedbard always hated when people bought practical things like carpet or knife set buy the fucking dalmatian people ',\n",
       " 'you know damn well your boss is going to leave early when the mouse is away ',\n",
       " 'a bolt flew of the trucks tire and hit my windshield cracked the fuck of of it ',\n",
       " 'i hate you',\n",
       " 'im not sure if should taunt you with how awesome it is or say im surprised it took this long to get snow hate twitters',\n",
       " 'omg would shop my ass off but that because have like zero long term goals ',\n",
       " 'better than that shit ass falafel box you eat once week m sure ',\n",
       " 'thank you she such big baby lol but such an incredible dog hate to think of life without her pain in the butt self',\n",
       " 'it really depends on the situation but when get mad just call old girl up and get the freak on',\n",
       " 'take ur ass home',\n",
       " 'haha emo lawn dig that ',\n",
       " 'lol disagree dick in box got too built up for me it funnier now but it wasn when saw it jiz in my pants rocks ',\n",
       " 'on dude whale remember',\n",
       " 'i am doing no such thing fuck you',\n",
       " 'you didn imagine it it was the get away from her you bitch climax scene being parodied ',\n",
       " 'we could call it nerd land and charge ppl 2bits gander ',\n",
       " 'yeah fucking predictive text',\n",
       " 'omg know everyone tells me m twitter whore lol',\n",
       " 'yeah she did this huge ass rant to me about how m going to die alone and how m going to regret ever breaking up with her ',\n",
       " ' doll you know m fucking feelingggggg you thank god you recoming this weekend so it forces these fuckers to get on it ',\n",
       " 'i don know how to pronounce it but it sounds like fucking jersey ',\n",
       " 'fuck xmas give and receive presents whenever feeling presentyyyy lt 3 ',\n",
       " 'yeah they seemed to have fixed most of the fail whale problems ',\n",
       " 'hell yeah the drunker the better is drunker word more drunk think its more drunk fuck it our show is hood drunkener',\n",
       " 'fuck no don want to be pm or even politician m just tired of getting anally raped without any lube ',\n",
       " 'seriously we re fucking soft in this country the french wouldn put up with this shit ',\n",
       " ' pissed off m ready to go mumbai on their fucking asses we re too soft we need to start blowing shit up ',\n",
       " 'rofl you got me monkey would totally kick bruce lee ass bow down to your superior wisdom ',\n",
       " 'i wonder if can write kevin rudd is cunt for the next 30 ',\n",
       " 'they won let us live anywhere without coming up our ass want to move now a',\n",
       " 'great that lady is cunt that serves me right for getting excited over something',\n",
       " 'fuck yeah ryan ross il his lyrics way more than wbeckett tbh donut care if they make no sense btw rolling stone fails ',\n",
       " 'fuck asshole we aint even watchin the game shyt we slda goten closer so cn betr how those cheerleaders 4 ya',\n",
       " 'ud lyk it if they suxd ur dick bt id kill them rit b4 killed ',\n",
       " 'hes goin dwn we cld kick his ass dominate him',\n",
       " 'maybe he sldnt cum out in his mofo boxers dance around hes guna jumpin around his junk fall out',\n",
       " 'yeah what is it that called me ass clown lmao was like uhhhh welllll then hahahaah',\n",
       " 'ohhh hate snow days because then we have to make them up later ',\n",
       " 'woot 8 pounds is awesome yes you can 1 pound at time need to get my ass in gear ',\n",
       " 'damn why don all harem leads shout that kouhai would be interesting the resulting chaos',\n",
       " ' icystorm think the thing to note here is that everyone has an emo phrase re romance in high school and eventually it blows over',\n",
       " 'what happened in 93 also would have accepted 29 5 4 bitch ',\n",
       " 'sure glad you found something better to listen to would hate to hear you make the news that way',\n",
       " 'awesome love it or hate it an atmospher of change is here',\n",
       " 'top three tips 1 scan updates 2 pay more attention to replies and 3 set time limits before it sucks your day ',\n",
       " 'i find the exact opposite to be true can review book hate in fifteen minutes good books take hours ',\n",
       " 'that the coolest damn thing yet have you put it on your own website yet its pretty simple ap just don use huge pics',\n",
       " 'yeah was teasing dad he got new snow blower and said as much as hate rain don have to shovel it get home and snow ',\n",
       " ' oh and that guy in dark knight totally was wearing guy liner he gay ',\n",
       " ' because they are fucking dumb and annoying',\n",
       " 'damn how burn spaghetti ',\n",
       " ' oh yikes hate that will she willingly use the toilet for it my boys won ',\n",
       " 'she says have gubgivits teeth thingies and she stole more blood every six months with the blood stealing it sucks ',\n",
       " 'will ferrell can suck my dick go on yim ',\n",
       " 'church can also suck my dick ',\n",
       " 'seriously so precious laugh every time think of nate rocking out to that shitty ass band ',\n",
       " 'i may hate you lot right now please die d',\n",
       " 'hahahahahahjdshgskdg hate you so much ',\n",
       " 'my job has made me feel like tool so am trying to change how consume things fucking cvs ',\n",
       " 'holy fuck would just make pasta or something if were you that is ridiculous ',\n",
       " 'if you re going to have to spend that much for fucking pizza at least go to mellow mushroom or somewhere not disgusting ',\n",
       " 'frankly m shocked that they use coal at all around here hello hydro anyone there a fucking ocean right there ',\n",
       " 'work on this glorous sat with this crazy ass shoppers',\n",
       " 'what happens when you run out of word of the gay words ',\n",
       " 'that was fucking epic ',\n",
       " 'i nominate phillyd for shorty award in entertainment because he emo ',\n",
       " 'admit it you re secretly in training for rsa beaker who can see it now cigar red bull and can of whoop ass nice ',\n",
       " 'lol yeah coulda told you that cuz m big fucking dorkass about that movie as wel all very well know actually had dream',\n",
       " 'meeting friend for lunch coffee getting hair cut although hate that bit and my works do in the evening ',\n",
       " 'yea brang yo ass down son ll be essence again staying the thanxxxxxx sony woop woop da poop poop ',\n",
       " 'i hate weddings shud be grateful for being male not worrying about what got to wear ',\n",
       " 'dick whittington lolcat was doin caps for lolspeak sorry fer confyushion twitpanto',\n",
       " 'http twitpic com vk9k dick whittington lolcat nice space trousrs boss twitpanto',\n",
       " 'twins we ve been watching this one guy he sucks with hammer',\n",
       " 'peta is an ass in the article big time ',\n",
       " 'canadians always make me think shut your fucking face uncle fucker http kenny smoovenet com grabpics terrance gif',\n",
       " 'oh in that case wtf thats some ugly ass shit to do ',\n",
       " ' midget a hookhand hangin off your collar im fucking dead bury me e d dead ',\n",
       " 'i hate people sometimes today is one of those more than usual days',\n",
       " 'yes the thing is big enough for my ass plus another half its like my parents couch ',\n",
       " 'well shit then know ll catch on who the fuck wouldn be interested in what have to say lol ',\n",
       " 'lmfao hurry and get the fucking lyrics ',\n",
       " 'ill settle that bitch down real quick ',\n",
       " 'you work in cape cod why the fuck am up so early argh stupid cousin brother ',\n",
       " 'damn twitpic that shizzle ',\n",
       " 'exactly damn cops disagree though',\n",
       " 'dont hate ur life  ',\n",
       " 'dont hate ',\n",
       " 'i hate ism as much as the next guy but when the shoe fits ',\n",
       " 'oh conservation you mean that is good point admire many socialists but hate their ideals socialism brings with it ',\n",
       " 'can you tell loser tudds to turn his fucking phone on ',\n",
       " 'whoever created chocolate pecan pie thank thank you for my big fat ass ',\n",
       " 'if you hate sprint try jogging and stop once and while for eggnog ',\n",
       " 'cont and you must rt every little thing someone says then damn do feel sorry for you and your friends ',\n",
       " ' rt this then go fuck yourself stay the fucl out of lives and hopefully you ll die horrendous death for all to watch ',\n",
       " 'do you realize your comment on parents dying comes off as tad insensitive like sucks to be you comment',\n",
       " 'you won die in queens we re civilized here in queens hell there a starbucks mcdonald on damn near every corner have fun',\n",
       " 'what yours works hate you ',\n",
       " ' hey ve just proved how fucking irrelevant they are by making you go and read them ',\n",
       " ' sometimes hate how contagious us culture is',\n",
       " 'the eyes followng me are creepy damn creepy and that smile makes it worse ',\n",
       " 'cock flavored seasoning wtf',\n",
       " 'that depends on if you are dealing with pain slut or not ',\n",
       " 'you re going to find woman and tease her to make her have to cum silently at work ',\n",
       " 'exactly poor kids that damn thing has me watching weird videos on youtube now argh ',\n",
       " 'she probably saying all kinds of phony shit and giggling like she 13 years old god hate her ',\n",
       " 'she makes me sick she thinks she cool and youthful cuz she watches that show phony bitch ',\n",
       " ' lol fat niggaz unite fatron hahahaha',\n",
       " 'let be gay together ',\n",
       " 'the new fucking general of the world that what ',\n",
       " 'hahah word their set was off the fucking hezay',\n",
       " 'damn straight you do',\n",
       " 'well mine are double flared so they are fucking homo bitch cunt to get out aggrivation ',\n",
       " 'i hate you',\n",
       " 'kurt you re on the most watched tv station in central ohio your ass should be 1 already lol m just cooler than you ',\n",
       " 'a jtp is douchebag stewart kicks ass ',\n",
       " 'i cunt wait for to start shitting out the gifts sent jew ',\n",
       " 'what is this dick suck moment lol happy new year',\n",
       " 'wpmu can go fuck itself',\n",
       " 'there you go denying stuff again until maury clears you on tv an aint yo daddy test your ass is suspect ',\n",
       " 'this week in fuck ',\n",
       " 'i did ur mom last night naww don like old fat white bitches 58390 ',\n",
       " 'damn we got bwnt where you headed tonight ',\n",
       " 'frickin turnovers dang flags sd gonna beat our ass and denver is going to blow 3 game lead they don deserve to win ',\n",
       " 'i meant boo you whore ',\n",
       " 'you are such whore lol',\n",
       " ' yep m real ass everybody knows that ',\n",
       " ' wow so you bought what fashionable at gay biker bars congrats ',\n",
       " 'yeah are asian ass embrace it',\n",
       " 'so when he laughs comes down the chimney does he say whore whore whore and shake like bowl full of jelly ',\n",
       " 'how would you fancy being jeff resident bitch just his pet he can take you out for walk and stuff straighten your hair ',\n",
       " 'you clearly said would have to fuck anyone ',\n",
       " 'lol ur bitch ve done hondurans and chileans and don need some closet gay peruvian dressing better than do ',\n",
       " '2008 is over damn what i miss quit keeping track of years after buffy went of the air ',\n",
       " 'that why hate them oooops why don i go this way and destroy your whole story or maybe ill refuse to say anything ',\n",
       " 'damn cat she snuck into aidan crib 1st time he woke screaming went in he was squeezing her she was kicking his tummy ',\n",
       " ' cont say the whole sheet costs 8 40 buy one of each and get the fuck out of my way ',\n",
       " 'yes you remember me trying to keep my lashes on for the awards this year never fucking wearing those damn things again',\n",
       " 'called in gay lmao ',\n",
       " 'this isn hate this is survival for the eagles stompin the giants alone won get us in the playoffs the cowgurls gotta lose',\n",
       " 'the lox k you keep it thoro prodigy we run this fat joe come thru styles and nore broken language smooth',\n",
       " 'you sir are an ass ',\n",
       " 'i never really thought about it but nearly always eat big ass plate of spaghetti and watch goodfellas on christmas eve',\n",
       " ' are you kidding me quick forget the prenup get lo jack implanted in the new wife instead think he an ass ',\n",
       " 'that weird because hate them the second time see them first time is ok but they get old quick ',\n",
       " 'because the sandman is being punk ass ho ',\n",
       " 'we just call that whiskey dick ',\n",
       " 'lol just rhyming gay know',\n",
       " 'i glad someone is teaching that 3 year old how to slap dat ass ',\n",
       " 'yeah but zro rly is the emo city don',\n",
       " 'then you should make fun of her for not looking at your ass ',\n",
       " 'i second that hate banks',\n",
       " 'she can bust her ass on stage and gain fans you gotta love her ',\n",
       " ' davemalby acting as colfax chick agent after 100 followers will make sure to get her ass down here and tweet with everyone',\n",
       " 'the fail whale was shown when twitter went down it was whale being lifted by birds ',\n",
       " 'dont hate too hard it hasn been very warm here lately ',\n",
       " 'fuck right',\n",
       " 'omg what are you in the mood for crock pot my ass off ',\n",
       " 'ooh im sorry my non celibate ass mourns for ur celibacy and it sorry demise my condolences http twurl nl a16z8c',\n",
       " 'damn kid condolences homie http twurl nl i3pwps',\n",
       " 'i never took you for sore at least for the players getting kicked in the goolies loser lol',\n",
       " ' derekbender it takes real scumbag to steal from community whoever stole the foosball table can bet will fuck you up ',\n",
       " 'did you come up with the server hugger moniker or what some other wise ass ',\n",
       " 'pains in the ass cause that twitch am telling ya',\n",
       " 'horrified mum can squlor he hasnt been gone long enough im chiness pig its what we do riding this till the end of 2008',\n",
       " ' big ass was this past weekend and went well 2 last minute maul is this weekend ',\n",
       " 'you need some sort of ass whoopin ',\n",
       " 'im not that crippled in gym we were laying on our stomachs and some fat kid landed on my upright foot and it hurts like mofo',\n",
       " 'that and m not gay aw miss bonez hope he not in prison ',\n",
       " ' you are man of action great work daniel don forget to record your fat loss seminar ',\n",
       " 'not really think named all of them which kind of sucks ',\n",
       " 'i thought emo don squeeee thought it was more of moan',\n",
       " '18 fuckin children damn ',\n",
       " 'he was given one extra ticket from coworker so henceforth my ass stays here ',\n",
       " 'i sick of this bitch he wrecked enough of my life and want him gone ',\n",
       " 'i still hate you ',\n",
       " 'sucks for you',\n",
       " 'yeah cuz his show was on some wack ass arsenio for sports type shit they need him in jim rome type setting',\n",
       " 'was that racial comment on it going down bitch ',\n",
       " 'your mom dad hate my monroe ',\n",
       " 'yeah dat bitch stabbed me in my eye when was trying to hit the snooze buttone this morning',\n",
       " 'damn danica know bk went hard but shiit we evoke tears too lol',\n",
       " 'i hate 2 sound like nigga but will there be food lol',\n",
       " ' tweet tweet you cookie crumble ass nigga',\n",
       " 'his haircut look like them fast ass black beetles on super mario bros ',\n",
       " 'what the fuck why do they have fucking brains ',\n",
       " 'i would have done it by now tbh have no words except just what the shitting fuck are they thinking ',\n",
       " 'in time for when travel and the train company still refused to let me travel the fucking wankers ',\n",
       " 'i fucking hate when free 70 cheques just up and think they can walk away',\n",
       " 'get shit done day is almost over fuck it you should come',\n",
       " 'fuck em ',\n",
       " 'thats what my aunt says still tmi lol what are watchin wit fat folks on it ',\n",
       " ' throws all 52 dollars in my pocket at you let me hit the mac ill be right back hold that pose forgets pin number fuck ',\n",
       " ' loser ',\n",
       " 'ok had to say cock blocked cuz you know it a rooster but apparently favrd doesn like me',\n",
       " 'there was no fucking egg nog at the store got low fat chocolate milk fuck this bullshit',\n",
       " 'retard section is ',\n",
       " 'you need to work in that department so you can clean your smelly ass ',\n",
       " 'i can guess smelly slut ',\n",
       " 'bitch you wanna go ill kick your ass',\n",
       " 'whoa be nice guys whats all this fool and loser talk ',\n",
       " 'wow thats how people get fat haha',\n",
       " 'i keeping it now just to piss you off hehehe',\n",
       " 'or he just sick of hearing me bitch about the cold and doesn know what else to get me like your theory better lol ',\n",
       " 'oic but what do you want sir did get you book on conspiracies and shit already yes did hmmmm fuck thinks',\n",
       " 'i would be saying the same damn thing about you lmao idc if know you d be like see that ridiculous bitch ri dic lous',\n",
       " 'wristband is shipping can they put those assclowns in the mail next to be delivered to an ass whoopin ',\n",
       " 'the day after christmas and not yet so will be there early sigh fuck my life',\n",
       " 'and want mansion in the countryside motorcycle two cars wife kid dog and big fat wallet that says bad motherfucker ',\n",
       " 'fuck dreamhost that is all ',\n",
       " 'ooh you mean whooty wht grls bootys lol my lil bro put me on to that corny ass saying ',\n",
       " 'dude fucking seriously you watched hella now pay or wait an hour bull shit want stage 6 back ',\n",
       " 'gay ',\n",
       " 'grab that it yours bitch ',\n",
       " 'okay now we ve established that would you go gay for 7 ',\n",
       " 'gay people have just as much of right to be as miserable as straight people ',\n",
       " 'in ala god damn bama that would be bidness skool right ',\n",
       " 'att is run by the devil hate them',\n",
       " ' name ',\n",
       " 'damn guess he has life hahahahahha',\n",
       " 'did you just call me bitch you re still upset because catalinaloves is moving in on your bitch ',\n",
       " 'you should start obsessing over him it might freak the delivery guy out ',\n",
       " ' holy fucking shit this is rip off of foolin by def leppard hahahahahahahhaahahhahaa fucking gay ',\n",
       " 'lots of ppl know hate the song was spreading it around most ppl ask me whats wrong with me hehe think its so fantastic ',\n",
       " 'fuck dude you manage to do this every week ',\n",
       " 'yes flickr upload photo its sucks on eventbox huhuhu tooos gw juga gak make digg sama pownce',\n",
       " 'i almost punched her vagina into the new year grrr she was cunt bag how is your trip going ',\n",
       " 'lets just hope dont kick any ass im in violent mood ',\n",
       " 'yey for drunkenness fuck drunk dialing or drunk texting its all about the drunk tweeting ',\n",
       " 'hehe its all good my drunken ass is moving off of twirl and to the crack berry that is feel free to txt me yo 3204694136',\n",
       " 'i hate when text somebody and they immediately call me hey fuckface if wanted to hear your ugly voice would have called you ',\n",
       " 'did jus get reply from an emo asian crazy ',\n",
       " 'and yes true life have tourettes is genius so is went to fat camp lmaooooooo',\n",
       " 'aliea you better stay away from jesse james joplin the third don give fuck bitch',\n",
       " 'get on messenger already whore ',\n",
       " 'i just assumed when you said meet you mean suck his dick cuz that what you do when you go to meet people ',\n",
       " 'no im just fucking pissed at shit',\n",
       " 'fuck that shit she wasn even right about the older men was hitting on ',\n",
       " 'like you hate hundred dollar tip the other strippers must be so jelly jaaaay kaaaaayyyyyy',\n",
       " 'omfg just figured out that shit and my firm it guy tried to get me into chuck it really nerd ',\n",
       " 'i wouldn with ur dick now owe me one ',\n",
       " 'like said wouldn even do it with your dick ',\n",
       " 'my dad started all this bullshit with my fam he such fucking dumbass ',\n",
       " 'why do imagine gouthami in police dress kannu adchifying and asking for lift damn must stop these perverted thoughts ',\n",
       " 'lock it yank his rights on both his accounts he been little bitch lately and m sick of it ',\n",
       " 'then clive is total pussy and after reading his dominion shit do not believe that oh clive so many missteps ',\n",
       " 'fuck you',\n",
       " 'maybe you should get your dick out of your ear next time m explaining them to you ',\n",
       " 'nerd ',\n",
       " 'congrats on the entrepreneur com plug for your pitch sucks http bit ly ps0m ',\n",
       " 'yo will nerd out on this shit all day ',\n",
       " 'dude ur wack ass better be playin at medium or above cuz need to step up ur game if wanna challenge rock god such as myself',\n",
       " 'fuck outta here for reals ',\n",
       " 'i love how that statement was misconstrued as gay ',\n",
       " 'lol violator is the truth hate them and must hate urself ',\n",
       " 'you re soft dude ran our country into the ground with no shame whatsoever people need to be throwing boots fuck shoe ',\n",
       " 'damn homie ve got comfy ass couch at my spot zimbabwe that puts nyc to shame you should have hit me up ',\n",
       " 'fuck that boo the djs who don play che dude has at least 5 songs every dj should be playin heavily djs need to stop slackin ',\n",
       " 'fuck serato record was worried about my windows crackin lol can live o serato record don have backup window ',\n",
       " 'i think bangladesh did what your fantasy and fuck what anyone says that song is jam can front on it ',\n",
       " 'grown ass kid lol',\n",
       " 'hate it all you want but its hit record and jumpin out the window is by ron browz know its gotta be hot in ny ',\n",
       " 'women lie too know bitch who was pimping herself out on craigslist yes craigslist didn believe it till that email ',\n",
       " 'bitch will cut you strongbow whatever happened to just smoking weed inject because it makes us feel so good ',\n",
       " 'beat that bitch with bat',\n",
       " 'biiiiiishop fuck want yo ass punk ',\n",
       " 'yo zee you keep your hair tighter than frog ass ',\n",
       " 'if you don know who am why follow me get fucking life and stop bitching about the past',\n",
       " 'noononoononnnoononnonononoonon cock mongler you didn eve nstraighten it ',\n",
       " 'i think done bounced half my ass off lol',\n",
       " 'yo freak sarath freak ',\n",
       " 'i nominate jcroft for shorty award in down ass bitches because she totally is one ',\n",
       " 'sucks man ',\n",
       " 'totally agree dude pushed carts at safeway for 2yrs in hs people are fucking retarded',\n",
       " 'love hate ',\n",
       " 'reminds me of another apt metaphor northerners say fuck you to mean how nice southerners say how nice to mean fuck you ',\n",
       " 'that just one of many examples of superman being dick http tinyurl com 5sgv8c',\n",
       " ' run over my hyundai and ass raped by clay aiken would so prefer it the other way around ',\n",
       " 'well the giant carts slamming into your ass isn sooo bad but the sample hogs are pretty gross ',\n",
       " ' alwaysgayalways you both need to watch rewatch it but more to sate your nerd jones than your gay wadishness ',\n",
       " 'you ll be a monit whore ',\n",
       " 'i hate you',\n",
       " 'ohh damn bummer',\n",
       " 'ohh everytime see that nasty ass husband wants me to beat the shit outta him',\n",
       " 'lmao seriously and live in the middle of bfe will you combat being glow stick or let winter be bitch ',\n",
       " 'haha naw pink fuck that you just know what you want and feel you whoo hoo lmao ',\n",
       " 'no flash how good is the low light setting on cameraphones these days it pretty much sucks on my tilt ',\n",
       " 'they beeped out cock eh gad what do they do with vera on corination street with here coming to the rovers cock ',\n",
       " 'loser are you back for chrimbo or staying out there ',\n",
       " 'you need to get rid of that game cock you have running the team guy is worthless crybaby just like all uf staff players',\n",
       " 'holy shit just looking at that list pisses me off why the fuck are the jonas brothers on there ',\n",
       " 'trade secret it an animated gif woke up really early couldn sleep my mind said let freak out calamityjen more ',\n",
       " 'i promise it ll go away as soon as calamityjen wakes up and kicks my ass ',\n",
       " 'i know would like to find out if am right wow need to shut the fuck up ',\n",
       " 'no can do maria m going out alone don stress about your shitty wombat friend he sounds like loser get some sleep ',\n",
       " 'haha word m having glass of wine and retooling my erotica blog project if m gonna be all emo may as well channel it',\n",
       " 'booooooo have some hot ass mushroom stock if you wanna come get it after work',\n",
       " 'amazingly have yet to hit the one down the street with molotov scream fuck the police while doing so ',\n",
       " 'my sis made me think your femmes fags blog she is total boi but so extra that you would think she was fag lol',\n",
       " 'damn you mean could have been rescued last night well fuck ',\n",
       " 'lmao ikr knew you would hate it couldn watch it without laughing hysterically',\n",
       " ' nannonx who the fuck is charles yoooooooooouuuuuuuuuuuu',\n",
       " 'coz it is attended by lot of fat people you don want me to show you the pics do you oh you were in it too ',\n",
       " 'no but listening to deathcab for cutie while missing burning man staff party etc would have been way emo ',\n",
       " 'you can have my dick its delicious',\n",
       " 'dig him up fuck that m picturing next years halloween costume already ',\n",
       " 'i hate stupid people ',\n",
       " 'is like putting lipstick on pig you were perogued live with it canadawest',\n",
       " 'lol just hate that designers alwaysthink they know best and likewise other people are clueless it insulting',\n",
       " 'yo can kick yall ass for that synth in the begining good shit ',\n",
       " 'lemme make fun of you for crying at dog movie for pete sake nerd ',\n",
       " 'damn that is pimp ',\n",
       " 'heh and then yell holy shit im fat ',\n",
       " 'holy fuck ',\n",
       " 'cuz montana sucks ',\n",
       " 'your mom sucks bitach ',\n",
       " 'twitter slut ',\n",
       " 'fine ll stop quit stompin my cock ',\n",
       " 'my bleeping employment agency ed up my pay again didn come on 24 dec now have to wait until 2 jan hate temping',\n",
       " 'well at least swift kick in the ass but yeah take issue with some of these retarded names parents give their kids ',\n",
       " ...]"
      ]
     },
     "execution_count": 3,
     "metadata": {},
     "output_type": "execute_result"
    }
   ],
   "source": [
    "X = df[\"content\"]  \n",
    "y = df[\"label\"]\n",
    "\n",
    "processed_tweets = []\n",
    "\n",
    "for tweet in range(0, len(X)):  \n",
    "    # Remove all the special characters\n",
    "    processed_tweet = re.sub(r'\\W', ' ', str(X[tweet]))\n",
    "\n",
    "    # remove all single characters\n",
    "    processed_tweet = re.sub(r'\\s+[a-zA-Z]\\s+', ' ', processed_tweet)\n",
    "\n",
    "    # Remove single characters from the start\n",
    "    processed_tweet = re.sub(r'\\^[a-zA-Z]\\s+', ' ', processed_tweet) \n",
    "\n",
    "    # Substituting multiple spaces with single space\n",
    "    processed_tweet= re.sub(r'\\s+', ' ', processed_tweet, flags=re.I)\n",
    "    \n",
    "    #Removing punctuation\n",
    "    processed_tweet = processed_tweet.translate(str.maketrans('', '', string.punctuation))\n",
    "\n",
    "    # Converting to Lowercase\n",
    "    processed_tweet = processed_tweet.lower()\n",
    "\n",
    "    processed_tweets.append(processed_tweet)\n",
    "processed_tweets\n"
   ]
  },
  {
   "cell_type": "code",
   "execution_count": 38,
   "metadata": {},
   "outputs": [],
   "source": [
    "df[\"processed tweet\"]=processed_tweets"
   ]
  },
  {
   "cell_type": "code",
   "execution_count": 39,
   "metadata": {},
   "outputs": [],
   "source": [
    "bully_df=df"
   ]
  },
  {
   "cell_type": "code",
   "execution_count": 40,
   "metadata": {},
   "outputs": [],
   "source": [
    "bully_df_idx=df[df['label'] == '0' ].index"
   ]
  },
  {
   "cell_type": "code",
   "execution_count": 41,
   "metadata": {},
   "outputs": [],
   "source": [
    "bully_df.drop(bully_df_idx , inplace=True)"
   ]
  },
  {
   "cell_type": "code",
   "execution_count": 231,
   "metadata": {},
   "outputs": [],
   "source": [
    "from wordcloud import WordCloud, STOPWORDS \n",
    "import matplotlib.pyplot as plt  "
   ]
  },
  {
   "cell_type": "code",
   "execution_count": 247,
   "metadata": {},
   "outputs": [
    {
     "data": {
      "image/png": "[encoded data removed]",
      "text/plain": [
       "<Figure size 576x576 with 1 Axes>"
      ]
     },
     "metadata": {},
     "output_type": "display_data"
    }
   ],
   "source": [
    "comment_words = ' '\n",
    "stopwords = set(STOPWORDS) \n",
    "  \n",
    "# iterate through the csv file \n",
    "for tweets in bully_df['processed tweet']: \n",
    "      \n",
    "    # typecaste each val to string \n",
    "    val = str(tweets) \n",
    "  \n",
    "    # split the value \n",
    "    tokens = val.split() \n",
    "      \n",
    "    # Converts each token into lowercase \n",
    "    for i in range(len(tokens)): \n",
    "        tokens[i] = tokens[i].lower() \n",
    "          \n",
    "    for words in tokens: \n",
    "        comment_words = comment_words + words + ' '\n",
    "  \n",
    "  \n",
    "wordcloud = WordCloud(width = 800, height = 800, \n",
    "                background_color ='white', \n",
    "                stopwords = stopwords, \n",
    "                min_font_size = 10).generate(comment_words) \n",
    "  \n",
    "# plot the WordCloud image                        \n",
    "plt.figure(figsize = (8, 8), facecolor = None) \n",
    "plt.imshow(wordcloud) \n",
    "plt.axis(\"off\") \n",
    "plt.tight_layout(pad = 0) \n",
    "  \n",
    "plt.show() "
   ]
  },
  {
   "cell_type": "code",
   "execution_count": 5,
   "metadata": {},
   "outputs": [],
   "source": [
    "porter = PorterStemmer()\n",
    "class TfidfVectorizer(TfidfVectorizer):\n",
    "    def build_analyzer(self):\n",
    "        analyzer = super(TfidfVectorizer, self).build_analyzer()\n",
    "        return lambda doc: ([porter.stem(w) for w in analyzer(doc)])\n",
    "\n",
    "vectorizer_s = TfidfVectorizer(max_features=2000,smooth_idf=True,use_idf=True, stop_words=stopwords.words('english'))\n",
    "X = vectorizer_s.fit_transform(processed_tweets).toarray()"
   ]
  },
  {
   "cell_type": "code",
   "execution_count": 6,
   "metadata": {},
   "outputs": [],
   "source": [
    "X_train, X_test, y_train, y_test = train_test_split(X, y, test_size=0.2, random_state=16)"
   ]
  },
  {
   "cell_type": "code",
   "execution_count": 6,
   "metadata": {},
   "outputs": [
    {
     "data": {
      "text/plain": [
       "GridSearchCV(cv=5, error_score='raise',\n",
       "       estimator=RandomForestClassifier(bootstrap=True, class_weight=None, criterion='gini',\n",
       "            max_depth=None, max_features='auto', max_leaf_nodes=None,\n",
       "            min_impurity_decrease=0.0, min_impurity_split=None,\n",
       "            min_samples_leaf=1, min_samples_split=2,\n",
       "            min_weight_fraction_leaf=0.0, n_estimators=10, n_jobs=1,\n",
       "            oob_score=False, random_state=42, verbose=0, warm_start=False),\n",
       "       fit_params=None, iid=True, n_jobs=1,\n",
       "       param_grid={'n_estimators': [100, 120, 140], 'max_features': ['auto', 'sqrt', 'log2'], 'criterion': ['gini', 'entropy']},\n",
       "       pre_dispatch='2*n_jobs', refit=True, return_train_score='warn',\n",
       "       scoring='accuracy', verbose=0)"
      ]
     },
     "execution_count": 6,
     "metadata": {},
     "output_type": "execute_result"
    }
   ],
   "source": [
    "from sklearn.ensemble import RandomForestClassifier\n",
    "from sklearn.model_selection import GridSearchCV\n",
    "\n",
    "\n",
    "rfc=RandomForestClassifier(random_state=42)\n",
    "param_grid = { \n",
    "    'n_estimators': [100, 120, 140],\n",
    "    'max_features': ['auto', 'sqrt', 'log2'],\n",
    "    'criterion' :['gini', 'entropy']\n",
    "}\n",
    "CV_rfc = GridSearchCV(rfc, param_grid=param_grid, cv= 5,scoring='accuracy')\n",
    "CV_rfc.fit(X_train, y_train)"
   ]
  },
  {
   "cell_type": "code",
   "execution_count": 7,
   "metadata": {
    "scrolled": true
   },
   "outputs": [
    {
     "data": {
      "text/plain": [
       "RandomForestClassifier(bootstrap=True, class_weight=None, criterion='entropy',\n",
       "            max_depth=None, max_features='log2', max_leaf_nodes=None,\n",
       "            min_impurity_decrease=0.0, min_impurity_split=None,\n",
       "            min_samples_leaf=1, min_samples_split=2,\n",
       "            min_weight_fraction_leaf=0.0, n_estimators=120, n_jobs=1,\n",
       "            oob_score=False, random_state=42, verbose=0, warm_start=False)"
      ]
     },
     "execution_count": 7,
     "metadata": {},
     "output_type": "execute_result"
    }
   ],
   "source": [
    "CV_rfc.best_estimator_"
   ]
  },
  {
   "cell_type": "markdown",
   "metadata": {},
   "source": [
    "RandomForestClassifier(bootstrap=True, class_weight=None, criterion='entropy',\n",
    "            max_depth=None, max_features='log2', max_leaf_nodes=None,\n",
    "            min_impurity_decrease=0.0, min_impurity_split=None,\n",
    "            min_samples_leaf=1, min_samples_split=2,\n",
    "            min_weight_fraction_leaf=0.0, n_estimators=120, n_jobs=1,\n",
    "            oob_score=False, random_state=42, verbose=0, warm_start=False)"
   ]
  },
  {
   "cell_type": "code",
   "execution_count": 7,
   "metadata": {},
   "outputs": [],
   "source": [
    "from sklearn.model_selection import KFold\n",
    "\n",
    "kf = KFold(n_splits=5,random_state=0,shuffle=True)\n",
    "\n",
    "\n",
    "def cross_validate(model):\n",
    "# these are you training data points:\n",
    "# features and targets\n",
    "\n",
    "    accuracies=[]\n",
    "    for train_index, test_index in kf.split(X):\n",
    "\n",
    "        data_train   = X[train_index]\n",
    "        target_train = y[train_index]\n",
    "\n",
    "        data_test    = X[test_index]\n",
    "        target_test  = y[test_index]\n",
    "\n",
    "        # if needed, do preprocessing here\n",
    "  \n",
    "        model.fit(data_train, target_train)\n",
    "\n",
    "        model_pred = model.predict(data_test)\n",
    "\n",
    "        # accuracy for the current fold only    \n",
    "        accuracy = accuracy_score(target_test,model_pred)\n",
    "        print(\"Train index \",train_index,\" accuracy \",accuracy)\n",
    "        accuracies.append(accuracy)\n",
    "\n",
    "        # this is the average accuracy over all folds\n",
    "    average_accuracy = np.mean(accuracies)\n",
    "    print(\"Average accuracy : \",average_accuracy)"
   ]
  },
  {
   "cell_type": "code",
   "execution_count": 17,
   "metadata": {},
   "outputs": [],
   "source": [
    "from sklearn.ensemble import RandomForestClassifier\n",
    "text_classifier = RandomForestClassifier(bootstrap=True, class_weight=None, criterion='entropy',\n",
    "            max_depth=None, max_features='log2', max_leaf_nodes=None,\n",
    "            min_impurity_decrease=0.0, min_impurity_split=None,\n",
    "            min_samples_leaf=1, min_samples_split=2,\n",
    "            min_weight_fraction_leaf=0.0, n_estimators=120, n_jobs=1,\n",
    "            oob_score=False, random_state=42, verbose=0, warm_start=False)"
   ]
  },
  {
   "cell_type": "code",
   "execution_count": 11,
   "metadata": {},
   "outputs": [
    {
     "name": "stdout",
     "output_type": "stream",
     "text": [
      "Train index  [    0     1     2 ... 19998 19999 20000]  accuracy  0.9277680579855037\n",
      "Train index  [    0     1     2 ... 19995 19997 19999]  accuracy  0.9225\n",
      "Train index  [    1     4     6 ... 19997 19998 20000]  accuracy  0.9295\n",
      "Train index  [    0     2     3 ... 19998 19999 20000]  accuracy  0.921\n",
      "Train index  [    0     1     2 ... 19998 19999 20000]  accuracy  0.93275\n",
      "Average accuracy :  0.9267036115971006\n"
     ]
    }
   ],
   "source": [
    "\n",
    "cross_validate(text_classifier)"
   ]
  },
  {
   "cell_type": "code",
   "execution_count": 10,
   "metadata": {
    "scrolled": true
   },
   "outputs": [
    {
     "name": "stdout",
     "output_type": "stream",
     "text": [
      "tuned hpyerparameters :(best parameters)  {'C': 50, 'penalty': 'l2'}\n",
      "accuracy : 0.7491875\n"
     ]
    }
   ],
   "source": [
    "grid={\"C\":[1,50,100], \"penalty\":[\"l1\",\"l2\"]}# l1 lasso l2 ridge\n",
    "logreg=LogisticRegression()\n",
    "logreg_cv=GridSearchCV(logreg,grid,cv=4)\n",
    "logreg_cv.fit(X_train,y_train)\n",
    "\n",
    "print(\"tuned hpyerparameters :(best parameters) \",logreg_cv.best_params_)\n",
    "print(\"accuracy :\",logreg_cv.best_score_)"
   ]
  },
  {
   "cell_type": "code",
   "execution_count": 7,
   "metadata": {},
   "outputs": [
    {
     "name": "stdout",
     "output_type": "stream",
     "text": [
      "Train index  [    0     1     2 ... 19998 19999 20000]  accuracy  0.754811297175706\n",
      "Train index  [    0     1     2 ... 19995 19997 19999]  accuracy  0.74825\n",
      "Train index  [    1     4     6 ... 19997 19998 20000]  accuracy  0.76075\n",
      "Train index  [    0     2     3 ... 19998 19999 20000]  accuracy  0.75925\n",
      "Train index  [    0     1     2 ... 19998 19999 20000]  accuracy  0.75075\n",
      "Average accuracy :  0.7547622594351411\n"
     ]
    }
   ],
   "source": [
    "from sklearn.linear_model import LogisticRegression\n",
    "LR_clf = LogisticRegression(C=50,penalty=\"l2\")\n",
    "cross_validate(LR_clf)"
   ]
  },
  {
   "cell_type": "code",
   "execution_count": 36,
   "metadata": {},
   "outputs": [],
   "source": [
    "from sklearn.metrics import classification_report, confusion_matrix\n",
    "#Import svm model\n",
    "from sklearn import svm\n",
    "from sklearn.svm import SVC\n",
    "\n",
    "#Create a svm Classifier\n",
    "#clf = svm.SVC(kernel='linear') # Linear Kernel\n",
    "clf_svm = svm.SVC(kernel='linear')\n",
    "\n"
   ]
  },
  {
   "cell_type": "code",
   "execution_count": 37,
   "metadata": {},
   "outputs": [
    {
     "name": "stdout",
     "output_type": "stream",
     "text": [
      "Train index  [    0     1     2 ... 19998 19999 20000]  accuracy  0.7488127968007998\n",
      "Train index  [    0     1     2 ... 19995 19997 19999]  accuracy  0.74275\n",
      "Train index  [    1     4     6 ... 19997 19998 20000]  accuracy  0.7455\n",
      "Train index  [    0     2     3 ... 19998 19999 20000]  accuracy  0.7535\n",
      "Train index  [    0     1     2 ... 19998 19999 20000]  accuracy  0.75275\n",
      "Average accuracy :  0.74866255936016\n"
     ]
    }
   ],
   "source": [
    "cross_validate(clf_svm)"
   ]
  },
  {
   "cell_type": "code",
   "execution_count": 20,
   "metadata": {},
   "outputs": [],
   "source": [
    "clf_svm.probability = True"
   ]
  },
  {
   "cell_type": "code",
   "execution_count": 9,
   "metadata": {},
   "outputs": [],
   "source": [
    "from sklearn.naive_bayes import MultinomialNB\n",
    "#Import scikit-learn metrics module for accuracy calculation\n",
    "# Model Generation Using Multinomial Naive Bayes\n",
    "NB_clf = MultinomialNB().fit(X_train, y_train)"
   ]
  },
  {
   "cell_type": "code",
   "execution_count": 10,
   "metadata": {},
   "outputs": [
    {
     "name": "stdout",
     "output_type": "stream",
     "text": [
      "Train index  [    0     1     2 ... 19998 19999 20000]  accuracy  0.7190702324418895\n",
      "Train index  [    0     1     2 ... 19995 19997 19999]  accuracy  0.71525\n",
      "Train index  [    1     4     6 ... 19997 19998 20000]  accuracy  0.70725\n",
      "Train index  [    0     2     3 ... 19998 19999 20000]  accuracy  0.72\n",
      "Train index  [    0     1     2 ... 19998 19999 20000]  accuracy  0.71225\n",
      "Average accuracy :  0.7147640464883779\n"
     ]
    }
   ],
   "source": [
    "\n",
    "cross_validate(NB_clf)"
   ]
  },
  {
   "cell_type": "code",
   "execution_count": 16,
   "metadata": {},
   "outputs": [
    {
     "data": {
      "text/plain": [
       "{'n_neighbors': 1}"
      ]
     },
     "execution_count": 16,
     "metadata": {},
     "output_type": "execute_result"
    }
   ],
   "source": [
    "from sklearn.neighbors import KNeighborsClassifier\n",
    "from sklearn.model_selection import GridSearchCV\n",
    "#create new a knn model\n",
    "knn_clf = KNeighborsClassifier()\n",
    "#create a dictionary of all values we want to test for n_neighbors\n",
    "param_grid = {'n_neighbors': np.arange(1,3)}\n",
    "#use gridsearch to test all values for n_neighbors\n",
    "knn_gscv = GridSearchCV(knn_clf, param_grid, cv=5)\n",
    "knn_gscv.fit(X_train,y_train)\n",
    "knn_gscv.best_params_"
   ]
  },
  {
   "cell_type": "code",
   "execution_count": 11,
   "metadata": {},
   "outputs": [],
   "source": [
    "from sklearn.neighbors import KNeighborsClassifier\n",
    "knn_clf = KNeighborsClassifier(n_neighbors=1)\n"
   ]
  },
  {
   "cell_type": "code",
   "execution_count": 12,
   "metadata": {},
   "outputs": [
    {
     "name": "stdout",
     "output_type": "stream",
     "text": [
      "Train index  [    0     1     2 ... 19998 19999 20000]  accuracy  0.7960509872531867\n",
      "Train index  [    0     1     2 ... 19995 19997 19999]  accuracy  0.78525\n",
      "Train index  [    1     4     6 ... 19997 19998 20000]  accuracy  0.79475\n",
      "Train index  [    0     2     3 ... 19998 19999 20000]  accuracy  0.789\n",
      "Train index  [    0     1     2 ... 19998 19999 20000]  accuracy  0.7875\n",
      "Average accuracy :  0.7905101974506373\n"
     ]
    }
   ],
   "source": [
    "# Train the model using the training sets\n",
    "cross_validate(knn_clf)"
   ]
  },
  {
   "cell_type": "code",
   "execution_count": 13,
   "metadata": {},
   "outputs": [],
   "source": [
    "from sklearn.metrics import classification_report, confusion_matrix\n",
    "import xgboost as xgb\n",
    "model = xgb.XGBClassifier()\n"
   ]
  },
  {
   "cell_type": "code",
   "execution_count": 18,
   "metadata": {},
   "outputs": [
    {
     "name": "stdout",
     "output_type": "stream",
     "text": [
      "Fitting 3 folds for each of 18 candidates, totalling 54 fits\n",
      "[CV] colsample_bytree=0.4, gamma=0.0, learning_rate=0.1 ..............\n"
     ]
    },
    {
     "name": "stderr",
     "output_type": "stream",
     "text": [
      "C:\\Users\\mail2\\Anaconda3\\lib\\site-packages\\sklearn\\preprocessing\\label.py:151: DeprecationWarning: The truth value of an empty array is ambiguous. Returning False, but in future this will result in an error. Use `array.size > 0` to check that an array is not empty.\n",
      "  if diff:\n",
      "C:\\Users\\mail2\\Anaconda3\\lib\\site-packages\\sklearn\\preprocessing\\label.py:151: DeprecationWarning: The truth value of an empty array is ambiguous. Returning False, but in future this will result in an error. Use `array.size > 0` to check that an array is not empty.\n",
      "  if diff:\n",
      "[Parallel(n_jobs=1)]: Done   1 out of   1 | elapsed:   35.7s remaining:    0.0s\n"
     ]
    },
    {
     "name": "stdout",
     "output_type": "stream",
     "text": [
      "[CV]  colsample_bytree=0.4, gamma=0.0, learning_rate=0.1, total=  35.2s\n",
      "[CV] colsample_bytree=0.4, gamma=0.0, learning_rate=0.1 ..............\n"
     ]
    },
    {
     "name": "stderr",
     "output_type": "stream",
     "text": [
      "C:\\Users\\mail2\\Anaconda3\\lib\\site-packages\\sklearn\\preprocessing\\label.py:151: DeprecationWarning: The truth value of an empty array is ambiguous. Returning False, but in future this will result in an error. Use `array.size > 0` to check that an array is not empty.\n",
      "  if diff:\n",
      "C:\\Users\\mail2\\Anaconda3\\lib\\site-packages\\sklearn\\preprocessing\\label.py:151: DeprecationWarning: The truth value of an empty array is ambiguous. Returning False, but in future this will result in an error. Use `array.size > 0` to check that an array is not empty.\n",
      "  if diff:\n"
     ]
    },
    {
     "name": "stdout",
     "output_type": "stream",
     "text": [
      "[CV]  colsample_bytree=0.4, gamma=0.0, learning_rate=0.1, total=  33.2s\n",
      "[CV] colsample_bytree=0.4, gamma=0.0, learning_rate=0.1 ..............\n"
     ]
    },
    {
     "name": "stderr",
     "output_type": "stream",
     "text": [
      "C:\\Users\\mail2\\Anaconda3\\lib\\site-packages\\sklearn\\preprocessing\\label.py:151: DeprecationWarning: The truth value of an empty array is ambiguous. Returning False, but in future this will result in an error. Use `array.size > 0` to check that an array is not empty.\n",
      "  if diff:\n",
      "C:\\Users\\mail2\\Anaconda3\\lib\\site-packages\\sklearn\\preprocessing\\label.py:151: DeprecationWarning: The truth value of an empty array is ambiguous. Returning False, but in future this will result in an error. Use `array.size > 0` to check that an array is not empty.\n",
      "  if diff:\n"
     ]
    },
    {
     "name": "stdout",
     "output_type": "stream",
     "text": [
      "[CV]  colsample_bytree=0.4, gamma=0.0, learning_rate=0.1, total=  33.4s\n",
      "[CV] colsample_bytree=0.4, gamma=0.0, learning_rate=0.3 ..............\n"
     ]
    },
    {
     "name": "stderr",
     "output_type": "stream",
     "text": [
      "C:\\Users\\mail2\\Anaconda3\\lib\\site-packages\\sklearn\\preprocessing\\label.py:151: DeprecationWarning: The truth value of an empty array is ambiguous. Returning False, but in future this will result in an error. Use `array.size > 0` to check that an array is not empty.\n",
      "  if diff:\n",
      "C:\\Users\\mail2\\Anaconda3\\lib\\site-packages\\sklearn\\preprocessing\\label.py:151: DeprecationWarning: The truth value of an empty array is ambiguous. Returning False, but in future this will result in an error. Use `array.size > 0` to check that an array is not empty.\n",
      "  if diff:\n"
     ]
    },
    {
     "name": "stdout",
     "output_type": "stream",
     "text": [
      "[CV]  colsample_bytree=0.4, gamma=0.0, learning_rate=0.3, total=  32.8s\n",
      "[CV] colsample_bytree=0.4, gamma=0.0, learning_rate=0.3 ..............\n"
     ]
    },
    {
     "name": "stderr",
     "output_type": "stream",
     "text": [
      "C:\\Users\\mail2\\Anaconda3\\lib\\site-packages\\sklearn\\preprocessing\\label.py:151: DeprecationWarning: The truth value of an empty array is ambiguous. Returning False, but in future this will result in an error. Use `array.size > 0` to check that an array is not empty.\n",
      "  if diff:\n",
      "C:\\Users\\mail2\\Anaconda3\\lib\\site-packages\\sklearn\\preprocessing\\label.py:151: DeprecationWarning: The truth value of an empty array is ambiguous. Returning False, but in future this will result in an error. Use `array.size > 0` to check that an array is not empty.\n",
      "  if diff:\n"
     ]
    },
    {
     "name": "stdout",
     "output_type": "stream",
     "text": [
      "[CV]  colsample_bytree=0.4, gamma=0.0, learning_rate=0.3, total=  32.7s\n",
      "[CV] colsample_bytree=0.4, gamma=0.0, learning_rate=0.3 ..............\n"
     ]
    },
    {
     "name": "stderr",
     "output_type": "stream",
     "text": [
      "C:\\Users\\mail2\\Anaconda3\\lib\\site-packages\\sklearn\\preprocessing\\label.py:151: DeprecationWarning: The truth value of an empty array is ambiguous. Returning False, but in future this will result in an error. Use `array.size > 0` to check that an array is not empty.\n",
      "  if diff:\n",
      "C:\\Users\\mail2\\Anaconda3\\lib\\site-packages\\sklearn\\preprocessing\\label.py:151: DeprecationWarning: The truth value of an empty array is ambiguous. Returning False, but in future this will result in an error. Use `array.size > 0` to check that an array is not empty.\n",
      "  if diff:\n"
     ]
    },
    {
     "name": "stdout",
     "output_type": "stream",
     "text": [
      "[CV]  colsample_bytree=0.4, gamma=0.0, learning_rate=0.3, total=  32.7s\n",
      "[CV] colsample_bytree=0.4, gamma=0.0, learning_rate=0.5 ..............\n"
     ]
    },
    {
     "name": "stderr",
     "output_type": "stream",
     "text": [
      "C:\\Users\\mail2\\Anaconda3\\lib\\site-packages\\sklearn\\preprocessing\\label.py:151: DeprecationWarning: The truth value of an empty array is ambiguous. Returning False, but in future this will result in an error. Use `array.size > 0` to check that an array is not empty.\n",
      "  if diff:\n",
      "C:\\Users\\mail2\\Anaconda3\\lib\\site-packages\\sklearn\\preprocessing\\label.py:151: DeprecationWarning: The truth value of an empty array is ambiguous. Returning False, but in future this will result in an error. Use `array.size > 0` to check that an array is not empty.\n",
      "  if diff:\n"
     ]
    },
    {
     "name": "stdout",
     "output_type": "stream",
     "text": [
      "[CV]  colsample_bytree=0.4, gamma=0.0, learning_rate=0.5, total=  32.7s\n",
      "[CV] colsample_bytree=0.4, gamma=0.0, learning_rate=0.5 ..............\n"
     ]
    },
    {
     "name": "stderr",
     "output_type": "stream",
     "text": [
      "C:\\Users\\mail2\\Anaconda3\\lib\\site-packages\\sklearn\\preprocessing\\label.py:151: DeprecationWarning: The truth value of an empty array is ambiguous. Returning False, but in future this will result in an error. Use `array.size > 0` to check that an array is not empty.\n",
      "  if diff:\n",
      "C:\\Users\\mail2\\Anaconda3\\lib\\site-packages\\sklearn\\preprocessing\\label.py:151: DeprecationWarning: The truth value of an empty array is ambiguous. Returning False, but in future this will result in an error. Use `array.size > 0` to check that an array is not empty.\n",
      "  if diff:\n"
     ]
    },
    {
     "name": "stdout",
     "output_type": "stream",
     "text": [
      "[CV]  colsample_bytree=0.4, gamma=0.0, learning_rate=0.5, total=  32.6s\n",
      "[CV] colsample_bytree=0.4, gamma=0.0, learning_rate=0.5 ..............\n"
     ]
    },
    {
     "name": "stderr",
     "output_type": "stream",
     "text": [
      "C:\\Users\\mail2\\Anaconda3\\lib\\site-packages\\sklearn\\preprocessing\\label.py:151: DeprecationWarning: The truth value of an empty array is ambiguous. Returning False, but in future this will result in an error. Use `array.size > 0` to check that an array is not empty.\n",
      "  if diff:\n",
      "C:\\Users\\mail2\\Anaconda3\\lib\\site-packages\\sklearn\\preprocessing\\label.py:151: DeprecationWarning: The truth value of an empty array is ambiguous. Returning False, but in future this will result in an error. Use `array.size > 0` to check that an array is not empty.\n",
      "  if diff:\n"
     ]
    },
    {
     "name": "stdout",
     "output_type": "stream",
     "text": [
      "[CV]  colsample_bytree=0.4, gamma=0.0, learning_rate=0.5, total=  32.7s\n",
      "[CV] colsample_bytree=0.4, gamma=0.1, learning_rate=0.1 ..............\n"
     ]
    },
    {
     "name": "stderr",
     "output_type": "stream",
     "text": [
      "C:\\Users\\mail2\\Anaconda3\\lib\\site-packages\\sklearn\\preprocessing\\label.py:151: DeprecationWarning: The truth value of an empty array is ambiguous. Returning False, but in future this will result in an error. Use `array.size > 0` to check that an array is not empty.\n",
      "  if diff:\n",
      "C:\\Users\\mail2\\Anaconda3\\lib\\site-packages\\sklearn\\preprocessing\\label.py:151: DeprecationWarning: The truth value of an empty array is ambiguous. Returning False, but in future this will result in an error. Use `array.size > 0` to check that an array is not empty.\n",
      "  if diff:\n"
     ]
    },
    {
     "name": "stdout",
     "output_type": "stream",
     "text": [
      "[CV]  colsample_bytree=0.4, gamma=0.1, learning_rate=0.1, total=  34.2s\n",
      "[CV] colsample_bytree=0.4, gamma=0.1, learning_rate=0.1 ..............\n"
     ]
    },
    {
     "name": "stderr",
     "output_type": "stream",
     "text": [
      "C:\\Users\\mail2\\Anaconda3\\lib\\site-packages\\sklearn\\preprocessing\\label.py:151: DeprecationWarning: The truth value of an empty array is ambiguous. Returning False, but in future this will result in an error. Use `array.size > 0` to check that an array is not empty.\n",
      "  if diff:\n",
      "C:\\Users\\mail2\\Anaconda3\\lib\\site-packages\\sklearn\\preprocessing\\label.py:151: DeprecationWarning: The truth value of an empty array is ambiguous. Returning False, but in future this will result in an error. Use `array.size > 0` to check that an array is not empty.\n",
      "  if diff:\n"
     ]
    },
    {
     "name": "stdout",
     "output_type": "stream",
     "text": [
      "[CV]  colsample_bytree=0.4, gamma=0.1, learning_rate=0.1, total=  33.4s\n",
      "[CV] colsample_bytree=0.4, gamma=0.1, learning_rate=0.1 ..............\n"
     ]
    },
    {
     "name": "stderr",
     "output_type": "stream",
     "text": [
      "C:\\Users\\mail2\\Anaconda3\\lib\\site-packages\\sklearn\\preprocessing\\label.py:151: DeprecationWarning: The truth value of an empty array is ambiguous. Returning False, but in future this will result in an error. Use `array.size > 0` to check that an array is not empty.\n",
      "  if diff:\n",
      "C:\\Users\\mail2\\Anaconda3\\lib\\site-packages\\sklearn\\preprocessing\\label.py:151: DeprecationWarning: The truth value of an empty array is ambiguous. Returning False, but in future this will result in an error. Use `array.size > 0` to check that an array is not empty.\n",
      "  if diff:\n"
     ]
    },
    {
     "name": "stdout",
     "output_type": "stream",
     "text": [
      "[CV]  colsample_bytree=0.4, gamma=0.1, learning_rate=0.1, total=  32.7s\n",
      "[CV] colsample_bytree=0.4, gamma=0.1, learning_rate=0.3 ..............\n"
     ]
    },
    {
     "name": "stderr",
     "output_type": "stream",
     "text": [
      "C:\\Users\\mail2\\Anaconda3\\lib\\site-packages\\sklearn\\preprocessing\\label.py:151: DeprecationWarning: The truth value of an empty array is ambiguous. Returning False, but in future this will result in an error. Use `array.size > 0` to check that an array is not empty.\n",
      "  if diff:\n",
      "C:\\Users\\mail2\\Anaconda3\\lib\\site-packages\\sklearn\\preprocessing\\label.py:151: DeprecationWarning: The truth value of an empty array is ambiguous. Returning False, but in future this will result in an error. Use `array.size > 0` to check that an array is not empty.\n",
      "  if diff:\n"
     ]
    },
    {
     "name": "stdout",
     "output_type": "stream",
     "text": [
      "[CV]  colsample_bytree=0.4, gamma=0.1, learning_rate=0.3, total=  32.7s\n",
      "[CV] colsample_bytree=0.4, gamma=0.1, learning_rate=0.3 ..............\n"
     ]
    },
    {
     "name": "stderr",
     "output_type": "stream",
     "text": [
      "C:\\Users\\mail2\\Anaconda3\\lib\\site-packages\\sklearn\\preprocessing\\label.py:151: DeprecationWarning: The truth value of an empty array is ambiguous. Returning False, but in future this will result in an error. Use `array.size > 0` to check that an array is not empty.\n",
      "  if diff:\n",
      "C:\\Users\\mail2\\Anaconda3\\lib\\site-packages\\sklearn\\preprocessing\\label.py:151: DeprecationWarning: The truth value of an empty array is ambiguous. Returning False, but in future this will result in an error. Use `array.size > 0` to check that an array is not empty.\n",
      "  if diff:\n"
     ]
    },
    {
     "name": "stdout",
     "output_type": "stream",
     "text": [
      "[CV]  colsample_bytree=0.4, gamma=0.1, learning_rate=0.3, total=  33.1s\n",
      "[CV] colsample_bytree=0.4, gamma=0.1, learning_rate=0.3 ..............\n"
     ]
    },
    {
     "name": "stderr",
     "output_type": "stream",
     "text": [
      "C:\\Users\\mail2\\Anaconda3\\lib\\site-packages\\sklearn\\preprocessing\\label.py:151: DeprecationWarning: The truth value of an empty array is ambiguous. Returning False, but in future this will result in an error. Use `array.size > 0` to check that an array is not empty.\n",
      "  if diff:\n",
      "C:\\Users\\mail2\\Anaconda3\\lib\\site-packages\\sklearn\\preprocessing\\label.py:151: DeprecationWarning: The truth value of an empty array is ambiguous. Returning False, but in future this will result in an error. Use `array.size > 0` to check that an array is not empty.\n",
      "  if diff:\n"
     ]
    },
    {
     "name": "stdout",
     "output_type": "stream",
     "text": [
      "[CV]  colsample_bytree=0.4, gamma=0.1, learning_rate=0.3, total=  33.0s\n",
      "[CV] colsample_bytree=0.4, gamma=0.1, learning_rate=0.5 ..............\n"
     ]
    },
    {
     "name": "stderr",
     "output_type": "stream",
     "text": [
      "C:\\Users\\mail2\\Anaconda3\\lib\\site-packages\\sklearn\\preprocessing\\label.py:151: DeprecationWarning: The truth value of an empty array is ambiguous. Returning False, but in future this will result in an error. Use `array.size > 0` to check that an array is not empty.\n",
      "  if diff:\n",
      "C:\\Users\\mail2\\Anaconda3\\lib\\site-packages\\sklearn\\preprocessing\\label.py:151: DeprecationWarning: The truth value of an empty array is ambiguous. Returning False, but in future this will result in an error. Use `array.size > 0` to check that an array is not empty.\n",
      "  if diff:\n"
     ]
    },
    {
     "name": "stdout",
     "output_type": "stream",
     "text": [
      "[CV]  colsample_bytree=0.4, gamma=0.1, learning_rate=0.5, total=  32.7s\n",
      "[CV] colsample_bytree=0.4, gamma=0.1, learning_rate=0.5 ..............\n"
     ]
    },
    {
     "name": "stderr",
     "output_type": "stream",
     "text": [
      "C:\\Users\\mail2\\Anaconda3\\lib\\site-packages\\sklearn\\preprocessing\\label.py:151: DeprecationWarning: The truth value of an empty array is ambiguous. Returning False, but in future this will result in an error. Use `array.size > 0` to check that an array is not empty.\n",
      "  if diff:\n",
      "C:\\Users\\mail2\\Anaconda3\\lib\\site-packages\\sklearn\\preprocessing\\label.py:151: DeprecationWarning: The truth value of an empty array is ambiguous. Returning False, but in future this will result in an error. Use `array.size > 0` to check that an array is not empty.\n",
      "  if diff:\n"
     ]
    },
    {
     "name": "stdout",
     "output_type": "stream",
     "text": [
      "[CV]  colsample_bytree=0.4, gamma=0.1, learning_rate=0.5, total=  32.7s\n",
      "[CV] colsample_bytree=0.4, gamma=0.1, learning_rate=0.5 ..............\n"
     ]
    },
    {
     "name": "stderr",
     "output_type": "stream",
     "text": [
      "C:\\Users\\mail2\\Anaconda3\\lib\\site-packages\\sklearn\\preprocessing\\label.py:151: DeprecationWarning: The truth value of an empty array is ambiguous. Returning False, but in future this will result in an error. Use `array.size > 0` to check that an array is not empty.\n",
      "  if diff:\n",
      "C:\\Users\\mail2\\Anaconda3\\lib\\site-packages\\sklearn\\preprocessing\\label.py:151: DeprecationWarning: The truth value of an empty array is ambiguous. Returning False, but in future this will result in an error. Use `array.size > 0` to check that an array is not empty.\n",
      "  if diff:\n"
     ]
    },
    {
     "name": "stdout",
     "output_type": "stream",
     "text": [
      "[CV]  colsample_bytree=0.4, gamma=0.1, learning_rate=0.5, total=  32.9s\n",
      "[CV] colsample_bytree=0.4, gamma=0.2, learning_rate=0.1 ..............\n"
     ]
    },
    {
     "name": "stderr",
     "output_type": "stream",
     "text": [
      "C:\\Users\\mail2\\Anaconda3\\lib\\site-packages\\sklearn\\preprocessing\\label.py:151: DeprecationWarning: The truth value of an empty array is ambiguous. Returning False, but in future this will result in an error. Use `array.size > 0` to check that an array is not empty.\n",
      "  if diff:\n",
      "C:\\Users\\mail2\\Anaconda3\\lib\\site-packages\\sklearn\\preprocessing\\label.py:151: DeprecationWarning: The truth value of an empty array is ambiguous. Returning False, but in future this will result in an error. Use `array.size > 0` to check that an array is not empty.\n",
      "  if diff:\n"
     ]
    },
    {
     "name": "stdout",
     "output_type": "stream",
     "text": [
      "[CV]  colsample_bytree=0.4, gamma=0.2, learning_rate=0.1, total=  35.4s\n",
      "[CV] colsample_bytree=0.4, gamma=0.2, learning_rate=0.1 ..............\n"
     ]
    },
    {
     "name": "stderr",
     "output_type": "stream",
     "text": [
      "C:\\Users\\mail2\\Anaconda3\\lib\\site-packages\\sklearn\\preprocessing\\label.py:151: DeprecationWarning: The truth value of an empty array is ambiguous. Returning False, but in future this will result in an error. Use `array.size > 0` to check that an array is not empty.\n",
      "  if diff:\n",
      "C:\\Users\\mail2\\Anaconda3\\lib\\site-packages\\sklearn\\preprocessing\\label.py:151: DeprecationWarning: The truth value of an empty array is ambiguous. Returning False, but in future this will result in an error. Use `array.size > 0` to check that an array is not empty.\n",
      "  if diff:\n"
     ]
    },
    {
     "name": "stdout",
     "output_type": "stream",
     "text": [
      "[CV]  colsample_bytree=0.4, gamma=0.2, learning_rate=0.1, total=  32.7s\n",
      "[CV] colsample_bytree=0.4, gamma=0.2, learning_rate=0.1 ..............\n"
     ]
    },
    {
     "name": "stderr",
     "output_type": "stream",
     "text": [
      "C:\\Users\\mail2\\Anaconda3\\lib\\site-packages\\sklearn\\preprocessing\\label.py:151: DeprecationWarning: The truth value of an empty array is ambiguous. Returning False, but in future this will result in an error. Use `array.size > 0` to check that an array is not empty.\n",
      "  if diff:\n",
      "C:\\Users\\mail2\\Anaconda3\\lib\\site-packages\\sklearn\\preprocessing\\label.py:151: DeprecationWarning: The truth value of an empty array is ambiguous. Returning False, but in future this will result in an error. Use `array.size > 0` to check that an array is not empty.\n",
      "  if diff:\n"
     ]
    },
    {
     "name": "stdout",
     "output_type": "stream",
     "text": [
      "[CV]  colsample_bytree=0.4, gamma=0.2, learning_rate=0.1, total=  32.7s\n",
      "[CV] colsample_bytree=0.4, gamma=0.2, learning_rate=0.3 ..............\n"
     ]
    },
    {
     "name": "stderr",
     "output_type": "stream",
     "text": [
      "C:\\Users\\mail2\\Anaconda3\\lib\\site-packages\\sklearn\\preprocessing\\label.py:151: DeprecationWarning: The truth value of an empty array is ambiguous. Returning False, but in future this will result in an error. Use `array.size > 0` to check that an array is not empty.\n",
      "  if diff:\n",
      "C:\\Users\\mail2\\Anaconda3\\lib\\site-packages\\sklearn\\preprocessing\\label.py:151: DeprecationWarning: The truth value of an empty array is ambiguous. Returning False, but in future this will result in an error. Use `array.size > 0` to check that an array is not empty.\n",
      "  if diff:\n"
     ]
    },
    {
     "name": "stdout",
     "output_type": "stream",
     "text": [
      "[CV]  colsample_bytree=0.4, gamma=0.2, learning_rate=0.3, total=  32.7s\n",
      "[CV] colsample_bytree=0.4, gamma=0.2, learning_rate=0.3 ..............\n"
     ]
    },
    {
     "name": "stderr",
     "output_type": "stream",
     "text": [
      "C:\\Users\\mail2\\Anaconda3\\lib\\site-packages\\sklearn\\preprocessing\\label.py:151: DeprecationWarning: The truth value of an empty array is ambiguous. Returning False, but in future this will result in an error. Use `array.size > 0` to check that an array is not empty.\n",
      "  if diff:\n",
      "C:\\Users\\mail2\\Anaconda3\\lib\\site-packages\\sklearn\\preprocessing\\label.py:151: DeprecationWarning: The truth value of an empty array is ambiguous. Returning False, but in future this will result in an error. Use `array.size > 0` to check that an array is not empty.\n",
      "  if diff:\n"
     ]
    },
    {
     "name": "stdout",
     "output_type": "stream",
     "text": [
      "[CV]  colsample_bytree=0.4, gamma=0.2, learning_rate=0.3, total=  32.9s\n",
      "[CV] colsample_bytree=0.4, gamma=0.2, learning_rate=0.3 ..............\n"
     ]
    },
    {
     "name": "stderr",
     "output_type": "stream",
     "text": [
      "C:\\Users\\mail2\\Anaconda3\\lib\\site-packages\\sklearn\\preprocessing\\label.py:151: DeprecationWarning: The truth value of an empty array is ambiguous. Returning False, but in future this will result in an error. Use `array.size > 0` to check that an array is not empty.\n",
      "  if diff:\n",
      "C:\\Users\\mail2\\Anaconda3\\lib\\site-packages\\sklearn\\preprocessing\\label.py:151: DeprecationWarning: The truth value of an empty array is ambiguous. Returning False, but in future this will result in an error. Use `array.size > 0` to check that an array is not empty.\n",
      "  if diff:\n"
     ]
    },
    {
     "name": "stdout",
     "output_type": "stream",
     "text": [
      "[CV]  colsample_bytree=0.4, gamma=0.2, learning_rate=0.3, total=  32.8s\n",
      "[CV] colsample_bytree=0.4, gamma=0.2, learning_rate=0.5 ..............\n"
     ]
    },
    {
     "name": "stderr",
     "output_type": "stream",
     "text": [
      "C:\\Users\\mail2\\Anaconda3\\lib\\site-packages\\sklearn\\preprocessing\\label.py:151: DeprecationWarning: The truth value of an empty array is ambiguous. Returning False, but in future this will result in an error. Use `array.size > 0` to check that an array is not empty.\n",
      "  if diff:\n",
      "C:\\Users\\mail2\\Anaconda3\\lib\\site-packages\\sklearn\\preprocessing\\label.py:151: DeprecationWarning: The truth value of an empty array is ambiguous. Returning False, but in future this will result in an error. Use `array.size > 0` to check that an array is not empty.\n",
      "  if diff:\n"
     ]
    },
    {
     "name": "stdout",
     "output_type": "stream",
     "text": [
      "[CV]  colsample_bytree=0.4, gamma=0.2, learning_rate=0.5, total=  32.8s\n"
     ]
    },
    {
     "name": "stderr",
     "output_type": "stream",
     "text": [
      "C:\\Users\\mail2\\Anaconda3\\lib\\site-packages\\sklearn\\preprocessing\\label.py:151: DeprecationWarning: The truth value of an empty array is ambiguous. Returning False, but in future this will result in an error. Use `array.size > 0` to check that an array is not empty.\n",
      "  if diff:\n",
      "C:\\Users\\mail2\\Anaconda3\\lib\\site-packages\\sklearn\\preprocessing\\label.py:151: DeprecationWarning: The truth value of an empty array is ambiguous. Returning False, but in future this will result in an error. Use `array.size > 0` to check that an array is not empty.\n",
      "  if diff:\n"
     ]
    },
    {
     "name": "stdout",
     "output_type": "stream",
     "text": [
      "[CV] colsample_bytree=0.4, gamma=0.2, learning_rate=0.5 ..............\n",
      "[CV]  colsample_bytree=0.4, gamma=0.2, learning_rate=0.5, total=  33.3s\n",
      "[CV] colsample_bytree=0.4, gamma=0.2, learning_rate=0.5 ..............\n"
     ]
    },
    {
     "name": "stderr",
     "output_type": "stream",
     "text": [
      "C:\\Users\\mail2\\Anaconda3\\lib\\site-packages\\sklearn\\preprocessing\\label.py:151: DeprecationWarning: The truth value of an empty array is ambiguous. Returning False, but in future this will result in an error. Use `array.size > 0` to check that an array is not empty.\n",
      "  if diff:\n",
      "C:\\Users\\mail2\\Anaconda3\\lib\\site-packages\\sklearn\\preprocessing\\label.py:151: DeprecationWarning: The truth value of an empty array is ambiguous. Returning False, but in future this will result in an error. Use `array.size > 0` to check that an array is not empty.\n",
      "  if diff:\n"
     ]
    },
    {
     "name": "stdout",
     "output_type": "stream",
     "text": [
      "[CV]  colsample_bytree=0.4, gamma=0.2, learning_rate=0.5, total=  33.2s\n",
      "[CV] colsample_bytree=0.5, gamma=0.0, learning_rate=0.1 ..............\n"
     ]
    },
    {
     "name": "stderr",
     "output_type": "stream",
     "text": [
      "C:\\Users\\mail2\\Anaconda3\\lib\\site-packages\\sklearn\\preprocessing\\label.py:151: DeprecationWarning: The truth value of an empty array is ambiguous. Returning False, but in future this will result in an error. Use `array.size > 0` to check that an array is not empty.\n",
      "  if diff:\n",
      "C:\\Users\\mail2\\Anaconda3\\lib\\site-packages\\sklearn\\preprocessing\\label.py:151: DeprecationWarning: The truth value of an empty array is ambiguous. Returning False, but in future this will result in an error. Use `array.size > 0` to check that an array is not empty.\n",
      "  if diff:\n"
     ]
    },
    {
     "name": "stdout",
     "output_type": "stream",
     "text": [
      "[CV]  colsample_bytree=0.5, gamma=0.0, learning_rate=0.1, total=  36.3s\n",
      "[CV] colsample_bytree=0.5, gamma=0.0, learning_rate=0.1 ..............\n"
     ]
    },
    {
     "name": "stderr",
     "output_type": "stream",
     "text": [
      "C:\\Users\\mail2\\Anaconda3\\lib\\site-packages\\sklearn\\preprocessing\\label.py:151: DeprecationWarning: The truth value of an empty array is ambiguous. Returning False, but in future this will result in an error. Use `array.size > 0` to check that an array is not empty.\n",
      "  if diff:\n",
      "C:\\Users\\mail2\\Anaconda3\\lib\\site-packages\\sklearn\\preprocessing\\label.py:151: DeprecationWarning: The truth value of an empty array is ambiguous. Returning False, but in future this will result in an error. Use `array.size > 0` to check that an array is not empty.\n",
      "  if diff:\n"
     ]
    },
    {
     "name": "stdout",
     "output_type": "stream",
     "text": [
      "[CV]  colsample_bytree=0.5, gamma=0.0, learning_rate=0.1, total=  36.0s\n",
      "[CV] colsample_bytree=0.5, gamma=0.0, learning_rate=0.1 ..............\n"
     ]
    },
    {
     "name": "stderr",
     "output_type": "stream",
     "text": [
      "C:\\Users\\mail2\\Anaconda3\\lib\\site-packages\\sklearn\\preprocessing\\label.py:151: DeprecationWarning: The truth value of an empty array is ambiguous. Returning False, but in future this will result in an error. Use `array.size > 0` to check that an array is not empty.\n",
      "  if diff:\n",
      "C:\\Users\\mail2\\Anaconda3\\lib\\site-packages\\sklearn\\preprocessing\\label.py:151: DeprecationWarning: The truth value of an empty array is ambiguous. Returning False, but in future this will result in an error. Use `array.size > 0` to check that an array is not empty.\n",
      "  if diff:\n"
     ]
    },
    {
     "name": "stdout",
     "output_type": "stream",
     "text": [
      "[CV]  colsample_bytree=0.5, gamma=0.0, learning_rate=0.1, total=  36.1s\n",
      "[CV] colsample_bytree=0.5, gamma=0.0, learning_rate=0.3 ..............\n"
     ]
    },
    {
     "name": "stderr",
     "output_type": "stream",
     "text": [
      "C:\\Users\\mail2\\Anaconda3\\lib\\site-packages\\sklearn\\preprocessing\\label.py:151: DeprecationWarning: The truth value of an empty array is ambiguous. Returning False, but in future this will result in an error. Use `array.size > 0` to check that an array is not empty.\n",
      "  if diff:\n",
      "C:\\Users\\mail2\\Anaconda3\\lib\\site-packages\\sklearn\\preprocessing\\label.py:151: DeprecationWarning: The truth value of an empty array is ambiguous. Returning False, but in future this will result in an error. Use `array.size > 0` to check that an array is not empty.\n",
      "  if diff:\n"
     ]
    },
    {
     "name": "stdout",
     "output_type": "stream",
     "text": [
      "[CV]  colsample_bytree=0.5, gamma=0.0, learning_rate=0.3, total=  36.4s\n",
      "[CV] colsample_bytree=0.5, gamma=0.0, learning_rate=0.3 ..............\n"
     ]
    },
    {
     "name": "stderr",
     "output_type": "stream",
     "text": [
      "C:\\Users\\mail2\\Anaconda3\\lib\\site-packages\\sklearn\\preprocessing\\label.py:151: DeprecationWarning: The truth value of an empty array is ambiguous. Returning False, but in future this will result in an error. Use `array.size > 0` to check that an array is not empty.\n",
      "  if diff:\n",
      "C:\\Users\\mail2\\Anaconda3\\lib\\site-packages\\sklearn\\preprocessing\\label.py:151: DeprecationWarning: The truth value of an empty array is ambiguous. Returning False, but in future this will result in an error. Use `array.size > 0` to check that an array is not empty.\n",
      "  if diff:\n"
     ]
    },
    {
     "name": "stdout",
     "output_type": "stream",
     "text": [
      "[CV]  colsample_bytree=0.5, gamma=0.0, learning_rate=0.3, total=  35.9s\n",
      "[CV] colsample_bytree=0.5, gamma=0.0, learning_rate=0.3 ..............\n"
     ]
    },
    {
     "name": "stderr",
     "output_type": "stream",
     "text": [
      "C:\\Users\\mail2\\Anaconda3\\lib\\site-packages\\sklearn\\preprocessing\\label.py:151: DeprecationWarning: The truth value of an empty array is ambiguous. Returning False, but in future this will result in an error. Use `array.size > 0` to check that an array is not empty.\n",
      "  if diff:\n",
      "C:\\Users\\mail2\\Anaconda3\\lib\\site-packages\\sklearn\\preprocessing\\label.py:151: DeprecationWarning: The truth value of an empty array is ambiguous. Returning False, but in future this will result in an error. Use `array.size > 0` to check that an array is not empty.\n",
      "  if diff:\n"
     ]
    },
    {
     "name": "stdout",
     "output_type": "stream",
     "text": [
      "[CV]  colsample_bytree=0.5, gamma=0.0, learning_rate=0.3, total=  35.9s\n",
      "[CV] colsample_bytree=0.5, gamma=0.0, learning_rate=0.5 ..............\n"
     ]
    },
    {
     "name": "stderr",
     "output_type": "stream",
     "text": [
      "C:\\Users\\mail2\\Anaconda3\\lib\\site-packages\\sklearn\\preprocessing\\label.py:151: DeprecationWarning: The truth value of an empty array is ambiguous. Returning False, but in future this will result in an error. Use `array.size > 0` to check that an array is not empty.\n",
      "  if diff:\n",
      "C:\\Users\\mail2\\Anaconda3\\lib\\site-packages\\sklearn\\preprocessing\\label.py:151: DeprecationWarning: The truth value of an empty array is ambiguous. Returning False, but in future this will result in an error. Use `array.size > 0` to check that an array is not empty.\n",
      "  if diff:\n"
     ]
    },
    {
     "name": "stdout",
     "output_type": "stream",
     "text": [
      "[CV]  colsample_bytree=0.5, gamma=0.0, learning_rate=0.5, total=  35.9s\n",
      "[CV] colsample_bytree=0.5, gamma=0.0, learning_rate=0.5 ..............\n"
     ]
    },
    {
     "name": "stderr",
     "output_type": "stream",
     "text": [
      "C:\\Users\\mail2\\Anaconda3\\lib\\site-packages\\sklearn\\preprocessing\\label.py:151: DeprecationWarning: The truth value of an empty array is ambiguous. Returning False, but in future this will result in an error. Use `array.size > 0` to check that an array is not empty.\n",
      "  if diff:\n",
      "C:\\Users\\mail2\\Anaconda3\\lib\\site-packages\\sklearn\\preprocessing\\label.py:151: DeprecationWarning: The truth value of an empty array is ambiguous. Returning False, but in future this will result in an error. Use `array.size > 0` to check that an array is not empty.\n",
      "  if diff:\n"
     ]
    },
    {
     "name": "stdout",
     "output_type": "stream",
     "text": [
      "[CV]  colsample_bytree=0.5, gamma=0.0, learning_rate=0.5, total=  35.9s\n",
      "[CV] colsample_bytree=0.5, gamma=0.0, learning_rate=0.5 ..............\n"
     ]
    },
    {
     "name": "stderr",
     "output_type": "stream",
     "text": [
      "C:\\Users\\mail2\\Anaconda3\\lib\\site-packages\\sklearn\\preprocessing\\label.py:151: DeprecationWarning: The truth value of an empty array is ambiguous. Returning False, but in future this will result in an error. Use `array.size > 0` to check that an array is not empty.\n",
      "  if diff:\n",
      "C:\\Users\\mail2\\Anaconda3\\lib\\site-packages\\sklearn\\preprocessing\\label.py:151: DeprecationWarning: The truth value of an empty array is ambiguous. Returning False, but in future this will result in an error. Use `array.size > 0` to check that an array is not empty.\n",
      "  if diff:\n"
     ]
    },
    {
     "name": "stdout",
     "output_type": "stream",
     "text": [
      "[CV]  colsample_bytree=0.5, gamma=0.0, learning_rate=0.5, total=  35.9s\n",
      "[CV] colsample_bytree=0.5, gamma=0.1, learning_rate=0.1 ..............\n"
     ]
    },
    {
     "name": "stderr",
     "output_type": "stream",
     "text": [
      "C:\\Users\\mail2\\Anaconda3\\lib\\site-packages\\sklearn\\preprocessing\\label.py:151: DeprecationWarning: The truth value of an empty array is ambiguous. Returning False, but in future this will result in an error. Use `array.size > 0` to check that an array is not empty.\n",
      "  if diff:\n",
      "C:\\Users\\mail2\\Anaconda3\\lib\\site-packages\\sklearn\\preprocessing\\label.py:151: DeprecationWarning: The truth value of an empty array is ambiguous. Returning False, but in future this will result in an error. Use `array.size > 0` to check that an array is not empty.\n",
      "  if diff:\n"
     ]
    },
    {
     "name": "stdout",
     "output_type": "stream",
     "text": [
      "[CV]  colsample_bytree=0.5, gamma=0.1, learning_rate=0.1, total=  35.9s\n",
      "[CV] colsample_bytree=0.5, gamma=0.1, learning_rate=0.1 ..............\n"
     ]
    },
    {
     "name": "stderr",
     "output_type": "stream",
     "text": [
      "C:\\Users\\mail2\\Anaconda3\\lib\\site-packages\\sklearn\\preprocessing\\label.py:151: DeprecationWarning: The truth value of an empty array is ambiguous. Returning False, but in future this will result in an error. Use `array.size > 0` to check that an array is not empty.\n",
      "  if diff:\n",
      "C:\\Users\\mail2\\Anaconda3\\lib\\site-packages\\sklearn\\preprocessing\\label.py:151: DeprecationWarning: The truth value of an empty array is ambiguous. Returning False, but in future this will result in an error. Use `array.size > 0` to check that an array is not empty.\n",
      "  if diff:\n"
     ]
    },
    {
     "name": "stdout",
     "output_type": "stream",
     "text": [
      "[CV]  colsample_bytree=0.5, gamma=0.1, learning_rate=0.1, total=  35.9s\n",
      "[CV] colsample_bytree=0.5, gamma=0.1, learning_rate=0.1 ..............\n"
     ]
    },
    {
     "name": "stderr",
     "output_type": "stream",
     "text": [
      "C:\\Users\\mail2\\Anaconda3\\lib\\site-packages\\sklearn\\preprocessing\\label.py:151: DeprecationWarning: The truth value of an empty array is ambiguous. Returning False, but in future this will result in an error. Use `array.size > 0` to check that an array is not empty.\n",
      "  if diff:\n",
      "C:\\Users\\mail2\\Anaconda3\\lib\\site-packages\\sklearn\\preprocessing\\label.py:151: DeprecationWarning: The truth value of an empty array is ambiguous. Returning False, but in future this will result in an error. Use `array.size > 0` to check that an array is not empty.\n",
      "  if diff:\n"
     ]
    },
    {
     "name": "stdout",
     "output_type": "stream",
     "text": [
      "[CV]  colsample_bytree=0.5, gamma=0.1, learning_rate=0.1, total=  36.1s\n",
      "[CV] colsample_bytree=0.5, gamma=0.1, learning_rate=0.3 ..............\n"
     ]
    },
    {
     "name": "stderr",
     "output_type": "stream",
     "text": [
      "C:\\Users\\mail2\\Anaconda3\\lib\\site-packages\\sklearn\\preprocessing\\label.py:151: DeprecationWarning: The truth value of an empty array is ambiguous. Returning False, but in future this will result in an error. Use `array.size > 0` to check that an array is not empty.\n",
      "  if diff:\n",
      "C:\\Users\\mail2\\Anaconda3\\lib\\site-packages\\sklearn\\preprocessing\\label.py:151: DeprecationWarning: The truth value of an empty array is ambiguous. Returning False, but in future this will result in an error. Use `array.size > 0` to check that an array is not empty.\n",
      "  if diff:\n"
     ]
    },
    {
     "name": "stdout",
     "output_type": "stream",
     "text": [
      "[CV]  colsample_bytree=0.5, gamma=0.1, learning_rate=0.3, total=  35.9s\n",
      "[CV] colsample_bytree=0.5, gamma=0.1, learning_rate=0.3 ..............\n"
     ]
    },
    {
     "name": "stderr",
     "output_type": "stream",
     "text": [
      "C:\\Users\\mail2\\Anaconda3\\lib\\site-packages\\sklearn\\preprocessing\\label.py:151: DeprecationWarning: The truth value of an empty array is ambiguous. Returning False, but in future this will result in an error. Use `array.size > 0` to check that an array is not empty.\n",
      "  if diff:\n",
      "C:\\Users\\mail2\\Anaconda3\\lib\\site-packages\\sklearn\\preprocessing\\label.py:151: DeprecationWarning: The truth value of an empty array is ambiguous. Returning False, but in future this will result in an error. Use `array.size > 0` to check that an array is not empty.\n",
      "  if diff:\n"
     ]
    },
    {
     "name": "stdout",
     "output_type": "stream",
     "text": [
      "[CV]  colsample_bytree=0.5, gamma=0.1, learning_rate=0.3, total=  35.8s\n",
      "[CV] colsample_bytree=0.5, gamma=0.1, learning_rate=0.3 ..............\n"
     ]
    },
    {
     "name": "stderr",
     "output_type": "stream",
     "text": [
      "C:\\Users\\mail2\\Anaconda3\\lib\\site-packages\\sklearn\\preprocessing\\label.py:151: DeprecationWarning: The truth value of an empty array is ambiguous. Returning False, but in future this will result in an error. Use `array.size > 0` to check that an array is not empty.\n",
      "  if diff:\n",
      "C:\\Users\\mail2\\Anaconda3\\lib\\site-packages\\sklearn\\preprocessing\\label.py:151: DeprecationWarning: The truth value of an empty array is ambiguous. Returning False, but in future this will result in an error. Use `array.size > 0` to check that an array is not empty.\n",
      "  if diff:\n"
     ]
    },
    {
     "name": "stdout",
     "output_type": "stream",
     "text": [
      "[CV]  colsample_bytree=0.5, gamma=0.1, learning_rate=0.3, total=  36.4s\n",
      "[CV] colsample_bytree=0.5, gamma=0.1, learning_rate=0.5 ..............\n"
     ]
    },
    {
     "name": "stderr",
     "output_type": "stream",
     "text": [
      "C:\\Users\\mail2\\Anaconda3\\lib\\site-packages\\sklearn\\preprocessing\\label.py:151: DeprecationWarning: The truth value of an empty array is ambiguous. Returning False, but in future this will result in an error. Use `array.size > 0` to check that an array is not empty.\n",
      "  if diff:\n",
      "C:\\Users\\mail2\\Anaconda3\\lib\\site-packages\\sklearn\\preprocessing\\label.py:151: DeprecationWarning: The truth value of an empty array is ambiguous. Returning False, but in future this will result in an error. Use `array.size > 0` to check that an array is not empty.\n",
      "  if diff:\n"
     ]
    },
    {
     "name": "stdout",
     "output_type": "stream",
     "text": [
      "[CV]  colsample_bytree=0.5, gamma=0.1, learning_rate=0.5, total=  36.5s\n",
      "[CV] colsample_bytree=0.5, gamma=0.1, learning_rate=0.5 ..............\n"
     ]
    },
    {
     "name": "stderr",
     "output_type": "stream",
     "text": [
      "C:\\Users\\mail2\\Anaconda3\\lib\\site-packages\\sklearn\\preprocessing\\label.py:151: DeprecationWarning: The truth value of an empty array is ambiguous. Returning False, but in future this will result in an error. Use `array.size > 0` to check that an array is not empty.\n",
      "  if diff:\n",
      "C:\\Users\\mail2\\Anaconda3\\lib\\site-packages\\sklearn\\preprocessing\\label.py:151: DeprecationWarning: The truth value of an empty array is ambiguous. Returning False, but in future this will result in an error. Use `array.size > 0` to check that an array is not empty.\n",
      "  if diff:\n"
     ]
    },
    {
     "name": "stdout",
     "output_type": "stream",
     "text": [
      "[CV]  colsample_bytree=0.5, gamma=0.1, learning_rate=0.5, total=  36.0s\n",
      "[CV] colsample_bytree=0.5, gamma=0.1, learning_rate=0.5 ..............\n"
     ]
    },
    {
     "name": "stderr",
     "output_type": "stream",
     "text": [
      "C:\\Users\\mail2\\Anaconda3\\lib\\site-packages\\sklearn\\preprocessing\\label.py:151: DeprecationWarning: The truth value of an empty array is ambiguous. Returning False, but in future this will result in an error. Use `array.size > 0` to check that an array is not empty.\n",
      "  if diff:\n",
      "C:\\Users\\mail2\\Anaconda3\\lib\\site-packages\\sklearn\\preprocessing\\label.py:151: DeprecationWarning: The truth value of an empty array is ambiguous. Returning False, but in future this will result in an error. Use `array.size > 0` to check that an array is not empty.\n",
      "  if diff:\n"
     ]
    },
    {
     "name": "stdout",
     "output_type": "stream",
     "text": [
      "[CV]  colsample_bytree=0.5, gamma=0.1, learning_rate=0.5, total=  36.1s\n",
      "[CV] colsample_bytree=0.5, gamma=0.2, learning_rate=0.1 ..............\n"
     ]
    },
    {
     "name": "stderr",
     "output_type": "stream",
     "text": [
      "C:\\Users\\mail2\\Anaconda3\\lib\\site-packages\\sklearn\\preprocessing\\label.py:151: DeprecationWarning: The truth value of an empty array is ambiguous. Returning False, but in future this will result in an error. Use `array.size > 0` to check that an array is not empty.\n",
      "  if diff:\n",
      "C:\\Users\\mail2\\Anaconda3\\lib\\site-packages\\sklearn\\preprocessing\\label.py:151: DeprecationWarning: The truth value of an empty array is ambiguous. Returning False, but in future this will result in an error. Use `array.size > 0` to check that an array is not empty.\n",
      "  if diff:\n"
     ]
    },
    {
     "name": "stdout",
     "output_type": "stream",
     "text": [
      "[CV]  colsample_bytree=0.5, gamma=0.2, learning_rate=0.1, total=  36.0s\n",
      "[CV] colsample_bytree=0.5, gamma=0.2, learning_rate=0.1 ..............\n"
     ]
    },
    {
     "name": "stderr",
     "output_type": "stream",
     "text": [
      "C:\\Users\\mail2\\Anaconda3\\lib\\site-packages\\sklearn\\preprocessing\\label.py:151: DeprecationWarning: The truth value of an empty array is ambiguous. Returning False, but in future this will result in an error. Use `array.size > 0` to check that an array is not empty.\n",
      "  if diff:\n",
      "C:\\Users\\mail2\\Anaconda3\\lib\\site-packages\\sklearn\\preprocessing\\label.py:151: DeprecationWarning: The truth value of an empty array is ambiguous. Returning False, but in future this will result in an error. Use `array.size > 0` to check that an array is not empty.\n",
      "  if diff:\n"
     ]
    },
    {
     "name": "stdout",
     "output_type": "stream",
     "text": [
      "[CV]  colsample_bytree=0.5, gamma=0.2, learning_rate=0.1, total=  35.9s\n",
      "[CV] colsample_bytree=0.5, gamma=0.2, learning_rate=0.1 ..............\n"
     ]
    },
    {
     "name": "stderr",
     "output_type": "stream",
     "text": [
      "C:\\Users\\mail2\\Anaconda3\\lib\\site-packages\\sklearn\\preprocessing\\label.py:151: DeprecationWarning: The truth value of an empty array is ambiguous. Returning False, but in future this will result in an error. Use `array.size > 0` to check that an array is not empty.\n",
      "  if diff:\n",
      "C:\\Users\\mail2\\Anaconda3\\lib\\site-packages\\sklearn\\preprocessing\\label.py:151: DeprecationWarning: The truth value of an empty array is ambiguous. Returning False, but in future this will result in an error. Use `array.size > 0` to check that an array is not empty.\n",
      "  if diff:\n"
     ]
    },
    {
     "name": "stdout",
     "output_type": "stream",
     "text": [
      "[CV]  colsample_bytree=0.5, gamma=0.2, learning_rate=0.1, total=  36.0s\n",
      "[CV] colsample_bytree=0.5, gamma=0.2, learning_rate=0.3 ..............\n"
     ]
    },
    {
     "name": "stderr",
     "output_type": "stream",
     "text": [
      "C:\\Users\\mail2\\Anaconda3\\lib\\site-packages\\sklearn\\preprocessing\\label.py:151: DeprecationWarning: The truth value of an empty array is ambiguous. Returning False, but in future this will result in an error. Use `array.size > 0` to check that an array is not empty.\n",
      "  if diff:\n",
      "C:\\Users\\mail2\\Anaconda3\\lib\\site-packages\\sklearn\\preprocessing\\label.py:151: DeprecationWarning: The truth value of an empty array is ambiguous. Returning False, but in future this will result in an error. Use `array.size > 0` to check that an array is not empty.\n",
      "  if diff:\n"
     ]
    },
    {
     "name": "stdout",
     "output_type": "stream",
     "text": [
      "[CV]  colsample_bytree=0.5, gamma=0.2, learning_rate=0.3, total=  35.9s\n",
      "[CV] colsample_bytree=0.5, gamma=0.2, learning_rate=0.3 ..............\n"
     ]
    },
    {
     "name": "stderr",
     "output_type": "stream",
     "text": [
      "C:\\Users\\mail2\\Anaconda3\\lib\\site-packages\\sklearn\\preprocessing\\label.py:151: DeprecationWarning: The truth value of an empty array is ambiguous. Returning False, but in future this will result in an error. Use `array.size > 0` to check that an array is not empty.\n",
      "  if diff:\n",
      "C:\\Users\\mail2\\Anaconda3\\lib\\site-packages\\sklearn\\preprocessing\\label.py:151: DeprecationWarning: The truth value of an empty array is ambiguous. Returning False, but in future this will result in an error. Use `array.size > 0` to check that an array is not empty.\n",
      "  if diff:\n"
     ]
    },
    {
     "name": "stdout",
     "output_type": "stream",
     "text": [
      "[CV]  colsample_bytree=0.5, gamma=0.2, learning_rate=0.3, total=  35.8s\n",
      "[CV] colsample_bytree=0.5, gamma=0.2, learning_rate=0.3 ..............\n"
     ]
    },
    {
     "name": "stderr",
     "output_type": "stream",
     "text": [
      "C:\\Users\\mail2\\Anaconda3\\lib\\site-packages\\sklearn\\preprocessing\\label.py:151: DeprecationWarning: The truth value of an empty array is ambiguous. Returning False, but in future this will result in an error. Use `array.size > 0` to check that an array is not empty.\n",
      "  if diff:\n",
      "C:\\Users\\mail2\\Anaconda3\\lib\\site-packages\\sklearn\\preprocessing\\label.py:151: DeprecationWarning: The truth value of an empty array is ambiguous. Returning False, but in future this will result in an error. Use `array.size > 0` to check that an array is not empty.\n",
      "  if diff:\n"
     ]
    },
    {
     "name": "stdout",
     "output_type": "stream",
     "text": [
      "[CV]  colsample_bytree=0.5, gamma=0.2, learning_rate=0.3, total=  36.1s\n",
      "[CV] colsample_bytree=0.5, gamma=0.2, learning_rate=0.5 ..............\n"
     ]
    },
    {
     "name": "stderr",
     "output_type": "stream",
     "text": [
      "C:\\Users\\mail2\\Anaconda3\\lib\\site-packages\\sklearn\\preprocessing\\label.py:151: DeprecationWarning: The truth value of an empty array is ambiguous. Returning False, but in future this will result in an error. Use `array.size > 0` to check that an array is not empty.\n",
      "  if diff:\n",
      "C:\\Users\\mail2\\Anaconda3\\lib\\site-packages\\sklearn\\preprocessing\\label.py:151: DeprecationWarning: The truth value of an empty array is ambiguous. Returning False, but in future this will result in an error. Use `array.size > 0` to check that an array is not empty.\n",
      "  if diff:\n"
     ]
    },
    {
     "name": "stdout",
     "output_type": "stream",
     "text": [
      "[CV]  colsample_bytree=0.5, gamma=0.2, learning_rate=0.5, total=  36.0s\n",
      "[CV] colsample_bytree=0.5, gamma=0.2, learning_rate=0.5 ..............\n"
     ]
    },
    {
     "name": "stderr",
     "output_type": "stream",
     "text": [
      "C:\\Users\\mail2\\Anaconda3\\lib\\site-packages\\sklearn\\preprocessing\\label.py:151: DeprecationWarning: The truth value of an empty array is ambiguous. Returning False, but in future this will result in an error. Use `array.size > 0` to check that an array is not empty.\n",
      "  if diff:\n",
      "C:\\Users\\mail2\\Anaconda3\\lib\\site-packages\\sklearn\\preprocessing\\label.py:151: DeprecationWarning: The truth value of an empty array is ambiguous. Returning False, but in future this will result in an error. Use `array.size > 0` to check that an array is not empty.\n",
      "  if diff:\n"
     ]
    },
    {
     "name": "stdout",
     "output_type": "stream",
     "text": [
      "[CV]  colsample_bytree=0.5, gamma=0.2, learning_rate=0.5, total=  35.9s\n",
      "[CV] colsample_bytree=0.5, gamma=0.2, learning_rate=0.5 ..............\n"
     ]
    },
    {
     "name": "stderr",
     "output_type": "stream",
     "text": [
      "C:\\Users\\mail2\\Anaconda3\\lib\\site-packages\\sklearn\\preprocessing\\label.py:151: DeprecationWarning: The truth value of an empty array is ambiguous. Returning False, but in future this will result in an error. Use `array.size > 0` to check that an array is not empty.\n",
      "  if diff:\n",
      "C:\\Users\\mail2\\Anaconda3\\lib\\site-packages\\sklearn\\preprocessing\\label.py:151: DeprecationWarning: The truth value of an empty array is ambiguous. Returning False, but in future this will result in an error. Use `array.size > 0` to check that an array is not empty.\n",
      "  if diff:\n",
      "[Parallel(n_jobs=1)]: Done  54 out of  54 | elapsed: 31.7min finished\n"
     ]
    },
    {
     "name": "stdout",
     "output_type": "stream",
     "text": [
      "[CV]  colsample_bytree=0.5, gamma=0.2, learning_rate=0.5, total=  36.0s\n"
     ]
    },
    {
     "data": {
      "text/plain": [
       "GridSearchCV(cv=None, error_score='raise',\n",
       "       estimator=XGBClassifier(base_score=0.5, booster='gbtree', colsample_bylevel=1,\n",
       "       colsample_bytree=1, gamma=0, learning_rate=0.1, max_delta_step=0,\n",
       "       max_depth=3, min_child_weight=1, missing=None, n_estimators=100,\n",
       "       n_jobs=1, nthread=None, objective='binary:logistic', random_state=0,\n",
       "       reg_alpha=0, reg_lambda=1, scale_pos_weight=1, seed=None,\n",
       "       silent=True, subsample=1),\n",
       "       fit_params=None, iid=True, n_jobs=1,\n",
       "       param_grid={'learning_rate': [0.1, 0.3, 0.5], 'gamma': [0.0, 0.1, 0.2], 'colsample_bytree': [0.4, 0.5]},\n",
       "       pre_dispatch='2*n_jobs', refit=True, return_train_score='warn',\n",
       "       scoring=None, verbose=2)"
      ]
     },
     "execution_count": 18,
     "metadata": {},
     "output_type": "execute_result"
    }
   ],
   "source": [
    "\n",
    "param_grid = {\"learning_rate\"    : [0.1, 0.3,0.5] ,\n",
    " \"gamma\"            : [ 0.0, 0.1, 0.2],\n",
    " \"colsample_bytree\" : [  0.4, 0.5 ] }\n",
    "\n",
    "grid = GridSearchCV(model,param_grid,refit = True, verbose=2)\n",
    "grid.fit(X_train,y_train)\n"
   ]
  },
  {
   "cell_type": "code",
   "execution_count": 20,
   "metadata": {},
   "outputs": [
    {
     "data": {
      "text/plain": [
       "{'colsample_bytree': 0.5, 'gamma': 0.2, 'learning_rate': 0.5}"
      ]
     },
     "execution_count": 20,
     "metadata": {},
     "output_type": "execute_result"
    }
   ],
   "source": [
    "grid.best_params_"
   ]
  },
  {
   "cell_type": "code",
   "execution_count": 14,
   "metadata": {},
   "outputs": [],
   "source": [
    "clf_xgb = xgb.XGBClassifier(n_estimators=1200, colsample_bytree= 0.5, gamma= 0.2, learning_rate= 0.5)"
   ]
  },
  {
   "cell_type": "code",
   "execution_count": 16,
   "metadata": {},
   "outputs": [
    {
     "name": "stderr",
     "output_type": "stream",
     "text": [
      "C:\\Users\\mail2\\Anaconda3\\lib\\site-packages\\sklearn\\preprocessing\\label.py:151: DeprecationWarning: The truth value of an empty array is ambiguous. Returning False, but in future this will result in an error. Use `array.size > 0` to check that an array is not empty.\n",
      "  if diff:\n"
     ]
    },
    {
     "name": "stdout",
     "output_type": "stream",
     "text": [
      "Train index  [    0     1     2 ... 19998 19999 20000]  accuracy  0.8535366158460385\n"
     ]
    },
    {
     "name": "stderr",
     "output_type": "stream",
     "text": [
      "C:\\Users\\mail2\\Anaconda3\\lib\\site-packages\\sklearn\\preprocessing\\label.py:151: DeprecationWarning: The truth value of an empty array is ambiguous. Returning False, but in future this will result in an error. Use `array.size > 0` to check that an array is not empty.\n",
      "  if diff:\n"
     ]
    },
    {
     "name": "stdout",
     "output_type": "stream",
     "text": [
      "Train index  [    0     1     2 ... 19995 19997 19999]  accuracy  0.86325\n"
     ]
    },
    {
     "name": "stderr",
     "output_type": "stream",
     "text": [
      "C:\\Users\\mail2\\Anaconda3\\lib\\site-packages\\sklearn\\preprocessing\\label.py:151: DeprecationWarning: The truth value of an empty array is ambiguous. Returning False, but in future this will result in an error. Use `array.size > 0` to check that an array is not empty.\n",
      "  if diff:\n"
     ]
    },
    {
     "name": "stdout",
     "output_type": "stream",
     "text": [
      "Train index  [    1     4     6 ... 19997 19998 20000]  accuracy  0.856\n"
     ]
    },
    {
     "name": "stderr",
     "output_type": "stream",
     "text": [
      "C:\\Users\\mail2\\Anaconda3\\lib\\site-packages\\sklearn\\preprocessing\\label.py:151: DeprecationWarning: The truth value of an empty array is ambiguous. Returning False, but in future this will result in an error. Use `array.size > 0` to check that an array is not empty.\n",
      "  if diff:\n"
     ]
    },
    {
     "name": "stdout",
     "output_type": "stream",
     "text": [
      "Train index  [    0     2     3 ... 19998 19999 20000]  accuracy  0.856\n"
     ]
    },
    {
     "name": "stderr",
     "output_type": "stream",
     "text": [
      "C:\\Users\\mail2\\Anaconda3\\lib\\site-packages\\sklearn\\preprocessing\\label.py:151: DeprecationWarning: The truth value of an empty array is ambiguous. Returning False, but in future this will result in an error. Use `array.size > 0` to check that an array is not empty.\n",
      "  if diff:\n"
     ]
    },
    {
     "name": "stdout",
     "output_type": "stream",
     "text": [
      "Train index  [    0     1     2 ... 19998 19999 20000]  accuracy  0.85075\n",
      "Average accuracy :  0.8559073231692077\n"
     ]
    }
   ],
   "source": [
    "cross_validate(clf_xgb)"
   ]
  },
  {
   "cell_type": "code",
   "execution_count": 18,
   "metadata": {},
   "outputs": [
    {
     "name": "stderr",
     "output_type": "stream",
     "text": [
      "C:\\Users\\mail2\\Anaconda3\\lib\\site-packages\\sklearn\\preprocessing\\label.py:151: DeprecationWarning: The truth value of an empty array is ambiguous. Returning False, but in future this will result in an error. Use `array.size > 0` to check that an array is not empty.\n",
      "  if diff:\n"
     ]
    },
    {
     "data": {
      "text/plain": [
       "0.923519120219945"
      ]
     },
     "execution_count": 18,
     "metadata": {},
     "output_type": "execute_result"
    }
   ],
   "source": [
    "from sklearn.ensemble import VotingClassifier\n",
    "#create a dictionary of our models\n",
    "estimators=[('knn ',knn_clf),('text_classifier',text_classifier),('XGboost',clf_xgb)]\n",
    "#create our voting classifier, inputting our models\n",
    "ensemble = VotingClassifier(estimators, voting='soft')\n",
    "ensemble.fit(X_train, y_train)\n",
    "#test our model on the test data\n",
    "ensemble.score(X_test, y_test)"
   ]
  },
  {
   "cell_type": "code",
   "execution_count": 19,
   "metadata": {},
   "outputs": [
    {
     "name": "stderr",
     "output_type": "stream",
     "text": [
      "C:\\Users\\mail2\\Anaconda3\\lib\\site-packages\\sklearn\\preprocessing\\label.py:151: DeprecationWarning: The truth value of an empty array is ambiguous. Returning False, but in future this will result in an error. Use `array.size > 0` to check that an array is not empty.\n",
      "  if diff:\n"
     ]
    }
   ],
   "source": [
    "y_pred=ensemble.predict(X_test)"
   ]
  },
  {
   "cell_type": "code",
   "execution_count": 33,
   "metadata": {},
   "outputs": [
    {
     "name": "stdout",
     "output_type": "stream",
     "text": [
      "Train index  [    0     1     2 ... 19998 19999 20000]  accuracy  0.8832791802049488\n",
      "Train index  [    0     1     2 ... 19995 19997 19999]  accuracy  0.88525\n",
      "Train index  [    1     4     6 ... 19997 19998 20000]  accuracy  0.8855\n",
      "Train index  [    0     2     3 ... 19998 19999 20000]  accuracy  0.885\n",
      "Train index  [    0     1     2 ... 19998 19999 20000]  accuracy  0.8825\n",
      "Average accuracy :  0.8843058360409899\n"
     ]
    }
   ],
   "source": [
    "cross_validate(ensemble)"
   ]
  },
  {
   "cell_type": "code",
   "execution_count": null,
   "metadata": {},
   "outputs": [],
   "source": [
    "y_test=y_test.astype(int)\n",
    "y_pred=y_pred.astype(int)\n",
    "X_test=X_test.astype(int)"
   ]
  },
  {
   "cell_type": "code",
   "execution_count": 20,
   "metadata": {},
   "outputs": [
    {
     "name": "stdout",
     "output_type": "stream",
     "text": [
      "0.923519120219945\n"
     ]
    }
   ],
   "source": [
    "from sklearn.metrics import classification_report, confusion_matrix, accuracy_score\n",
    "print(accuracy_score(y_test, y_pred))"
   ]
  },
  {
   "cell_type": "code",
   "execution_count": 21,
   "metadata": {},
   "outputs": [
    {
     "name": "stdout",
     "output_type": "stream",
     "text": [
      "[[2274  175]\n",
      " [ 131 1421]]\n"
     ]
    }
   ],
   "source": [
    "print(confusion_matrix(y_test, y_pred))    "
   ]
  },
  {
   "cell_type": "code",
   "execution_count": 22,
   "metadata": {},
   "outputs": [
    {
     "name": "stdout",
     "output_type": "stream",
     "text": [
      "             precision    recall  f1-score   support\n",
      "\n",
      "          0       0.95      0.93      0.94      2449\n",
      "          1       0.89      0.92      0.90      1552\n",
      "\n",
      "avg / total       0.92      0.92      0.92      4001\n",
      "\n"
     ]
    }
   ],
   "source": [
    "print(classification_report(y_test, y_pred))"
   ]
  },
  {
   "cell_type": "code",
   "execution_count": 26,
   "metadata": {},
   "outputs": [],
   "source": [
    "from sklearn.metrics import roc_curve, roc_auc_score"
   ]
  },
  {
   "cell_type": "code",
   "execution_count": 28,
   "metadata": {},
   "outputs": [],
   "source": [
    "classifiers = [ensemble]"
   ]
  },
  {
   "cell_type": "code",
   "execution_count": 29,
   "metadata": {},
   "outputs": [],
   "source": [
    "y_test=y_test.astype(int)\n",
    "y_pred=y_pred.astype(int)"
   ]
  },
  {
   "cell_type": "code",
   "execution_count": 30,
   "metadata": {},
   "outputs": [],
   "source": [
    "# Define a result table as a DataFrame\n",
    "result_table = pd.DataFrame(columns=['classifiers', 'fpr','tpr','auc'])\n",
    "\n",
    "# Train the models and record the results\n",
    "for cls in classifiers:\n",
    "    model = cls.fit(X_train, y_train)\n",
    "    yproba = model.predict_proba(X_test)[:,1]\n",
    "    \n",
    "    fpr, tpr, threshhold = roc_curve(y_test,  yproba)\n",
    "    auc = roc_auc_score(y_test, yproba)\n",
    "    \n",
    "    result_table = result_table.append({'classifiers':cls.__class__.__name__,\n",
    "                                        'fpr':fpr, \n",
    "                                        'tpr':tpr, \n",
    "                                        'auc':auc}, ignore_index=True)\n",
    "\n",
    "# Set name of the classifiers as index labels\n",
    "result_table.set_index('classifiers', inplace=True)"
   ]
  },
  {
   "cell_type": "code",
   "execution_count": 31,
   "metadata": {},
   "outputs": [],
   "source": [
    "%matplotlib inline\n",
    "import matplotlib.pyplot as plt\n",
    "import seaborn as sns\n",
    "sns.set()\n",
    "import warnings"
   ]
  },
  {
   "cell_type": "code",
   "execution_count": 32,
   "metadata": {},
   "outputs": [
    {
     "data": {
      "image/png": "[encoded data removed]",
      "text/plain": [
       "<Figure size 576x432 with 1 Axes>"
      ]
     },
     "metadata": {},
     "output_type": "display_data"
    }
   ],
   "source": [
    "\n",
    "warnings.filterwarnings('ignore')\n",
    "fig = plt.figure(figsize=(8,6))\n",
    "\n",
    "for i in result_table.index:\n",
    "    plt.plot(result_table.loc[i]['fpr'], \n",
    "             result_table.loc[i]['tpr'], \n",
    "             label=\"{}, AUC={:.3f}\".format(i, result_table.loc[i]['auc']))\n",
    "    \n",
    "plt.plot([0,1], [0,1], color='orange', linestyle='--')\n",
    "\n",
    "plt.xticks(np.arange(0.0, 1.1, step=0.1))\n",
    "plt.xlabel(\"Flase Positive Rate\", fontsize=15)\n",
    "\n",
    "plt.yticks(np.arange(0.0, 1.1, step=0.1))\n",
    "plt.ylabel(\"True Positive Rate\", fontsize=15)\n",
    "\n",
    "plt.title('ROC Curve Analysis', fontweight='bold', fontsize=15)\n",
    "plt.legend(prop={'size':13}, loc='lower right')\n",
    "\n",
    "plt.show()"
   ]
  },
  {
   "cell_type": "code",
   "execution_count": 25,
   "metadata": {},
   "outputs": [
    {
     "data": {
      "image/png": "[encoded data removed]",
      "text/plain": [
       "<Figure size 360x360 with 2 Axes>"
      ]
     },
     "metadata": {
      "needs_background": "light"
     },
     "output_type": "display_data"
    }
   ],
   "source": [
    "def plot_cm(y_test, y_pred, figsize=(5,5)):\n",
    "    cm = confusion_matrix(y_test, y_pred)\n",
    "    cm_sum = np.sum(cm, axis=1, keepdims=True)\n",
    "    cm_perc = cm / cm_sum.astype(float) * 100\n",
    "    annot = np.empty_like(cm).astype(str)\n",
    "    nrows, ncols = cm.shape\n",
    "    for i in range(nrows):\n",
    "        for j in range(ncols):\n",
    "            c = cm[i, j]\n",
    "            p = cm_perc[i, j]\n",
    "            if i == j:\n",
    "                s = cm_sum[i]\n",
    "                annot[i, j] = '%.1f%%\\n%d/%d' % (p, c, s)\n",
    "            elif c == 0:\n",
    "                annot[i, j] = ''\n",
    "            else:\n",
    "                annot[i, j] = '%.1f%%\\n%d' % (p, c)\n",
    "    cm = pd.DataFrame(cm, index=np.unique(y_test), columns=np.unique(y_test))\n",
    "    cm.index.name = 'Actual'\n",
    "    cm.columns.name = 'Predicted'\n",
    "    fig, ax = plt.subplots(figsize=figsize)\n",
    "    g=sns.heatmap(cm, cmap= \"Greens\", annot=annot, fmt='', annot_kws={\"size\": 15},ax=ax)\n",
    "    g.figure.axes[-1].yaxis.label.set_size(20)\n",
    "    \n",
    "plot_cm(y_test, y_pred)"
   ]
  },
  {
   "cell_type": "code",
   "execution_count": 25,
   "metadata": {},
   "outputs": [
    {
     "name": "stderr",
     "output_type": "stream",
     "text": [
      "Using TensorFlow backend.\n"
     ]
    },
    {
     "data": {
      "text/html": [
       "<script type=\"text/javascript\">window.PlotlyConfig = {MathJaxConfig: 'local'};</script><script type=\"text/javascript\">if (window.MathJax) {MathJax.Hub.Config({SVG: {font: \"STIX-Web\"}});}</script><script>requirejs.config({paths: { 'plotly': ['https://cdn.plot.ly/plotly-latest.min']},});if(!window._Plotly) {require(['plotly'],function(plotly) {window._Plotly=plotly;});}</script>"
      ],
      "text/vnd.plotly.v1+html": [
       "<script type=\"text/javascript\">window.PlotlyConfig = {MathJaxConfig: 'local'};</script><script type=\"text/javascript\">if (window.MathJax) {MathJax.Hub.Config({SVG: {font: \"STIX-Web\"}});}</script><script>requirejs.config({paths: { 'plotly': ['https://cdn.plot.ly/plotly-latest.min']},});if(!window._Plotly) {require(['plotly'],function(plotly) {window._Plotly=plotly;});}</script>"
      ]
     },
     "metadata": {},
     "output_type": "display_data"
    }
   ],
   "source": [
    "from keras.preprocessing.text import Tokenizer\n",
    "from keras.preprocessing.sequence import pad_sequences\n",
    "from keras.models import Sequential\n",
    "from keras.layers import Dense, Flatten, LSTM, Conv1D, MaxPooling1D, Dropout, Activation\n",
    "from keras.layers.embeddings import Embedding\n",
    "import plotly.offline as py\n",
    "import plotly.graph_objs as go\n",
    "py.init_notebook_mode(connected=True)\n",
    "from nltk.stem.snowball import SnowballStemmer\n",
    "from sklearn.manifold import TSNE\n",
    "from keras.layers import MaxPool1D\n",
    "from keras.layers import Input\n",
    "from keras.models import Model\n",
    "from keras.callbacks import ModelCheckpoint\n",
    "from keras.optimizers import Adam\n",
    "from keras.models import Sequential\n",
    "from keras import layers\n",
    "from sklearn.externals import joblib\n",
    "from keras.wrappers.scikit_learn import KerasClassifier"
   ]
  },
  {
   "cell_type": "code",
   "execution_count": 323,
   "metadata": {},
   "outputs": [],
   "source": [
    "df1=df\n",
    "input_dim = X_train.shape[1]"
   ]
  },
  {
   "cell_type": "code",
   "execution_count": 324,
   "metadata": {},
   "outputs": [],
   "source": [
    "def clean_text(text):\n",
    "    \n",
    "    ## Remove puncuation\n",
    "    text = text.translate(string.punctuation)\n",
    "    \n",
    "    ## Convert words to lower case and split them\n",
    "    text = text.lower().split()\n",
    "    \n",
    "    ## Remove stop words\n",
    "    stops = set(stopwords.words(\"english\"))\n",
    "    text = [w for w in text if not w in stops and len(w) >= 3]\n",
    "    \n",
    "    text = \" \".join(text)\n",
    "    ## Clean the text\n",
    "    text = re.sub(r\"[^A-Za-z0-9^,!.\\/'+-=]\", \" \", text)\n",
    "    text = re.sub(r\"what's\", \"what is \", text)\n",
    "    text = re.sub(r\"\\'s\", \" \", text)\n",
    "    text = re.sub(r\"\\'ve\", \" have \", text)\n",
    "    text = re.sub(r\"n't\", \" not \", text)\n",
    "    text = re.sub(r\"i'm\", \"i am \", text)\n",
    "    text = re.sub(r\"\\'re\", \" are \", text)\n",
    "    text = re.sub(r\"\\'d\", \" would \", text)\n",
    "    text = re.sub(r\"\\'ll\", \" will \", text)\n",
    "    text = re.sub(r\",\", \" \", text)\n",
    "    text = re.sub(r\"\\.\", \" \", text)\n",
    "    text = re.sub(r\"!\", \" ! \", text)\n",
    "    text = re.sub(r\"\\/\", \" \", text)\n",
    "    text = re.sub(r\"\\^\", \" ^ \", text)\n",
    "    text = re.sub(r\"\\+\", \" + \", text)\n",
    "    text = re.sub(r\"\\-\", \" - \", text)\n",
    "    text = re.sub(r\"\\=\", \" = \", text)\n",
    "    text = re.sub(r\"'\", \" \", text)\n",
    "    text = re.sub(r\"(\\d+)(k)\", r\"\\g<1>000\", text)\n",
    "    text = re.sub(r\":\", \" : \", text)\n",
    "    text = re.sub(r\" e g \", \" eg \", text)\n",
    "    text = re.sub(r\" b g \", \" bg \", text)\n",
    "    text = re.sub(r\" u s \", \" american \", text)\n",
    "    text = re.sub(r\"\\0s\", \"0\", text)\n",
    "    text = re.sub(r\" 9 11 \", \"911\", text)\n",
    "    text = re.sub(r\"e - mail\", \"email\", text)\n",
    "    text = re.sub(r\"j k\", \"jk\", text)\n",
    "    text = re.sub(r\"\\s{2,}\", \" \", text)\n",
    "    ## Stemming\n",
    "    text = text.split()\n",
    "    stemmer = SnowballStemmer('english')\n",
    "    stemmed_words = [stemmer.stem(word) for word in text]\n",
    "    text = \" \".join(stemmed_words)\n",
    "    return text\n",
    "# apply the above function to df['text']\n",
    "df1['tweet'] = df['content'].map(lambda x: clean_text(x))"
   ]
  },
  {
   "cell_type": "code",
   "execution_count": 325,
   "metadata": {},
   "outputs": [],
   "source": [
    "### Create sequence\n",
    "vocabulary_size = 20000\n",
    "tokenizer = Tokenizer(num_words= vocabulary_size)\n",
    "tokenizer.fit_on_texts(df1['tweet'])\n",
    "sequences = tokenizer.texts_to_sequences(df1['tweet'])\n",
    "data = pad_sequences(sequences, maxlen=50)"
   ]
  },
  {
   "cell_type": "code",
   "execution_count": 326,
   "metadata": {},
   "outputs": [],
   "source": [
    "from sklearn.model_selection import train_test_split  \n",
    "X_train, X_test, y_train, y_test = train_test_split(data, y, test_size=0.2, random_state=0)"
   ]
  },
  {
   "cell_type": "code",
   "execution_count": 327,
   "metadata": {},
   "outputs": [],
   "source": [
    "MAX_SEQUENCE_LENGTH=20000"
   ]
  },
  {
   "cell_type": "code",
   "execution_count": 340,
   "metadata": {},
   "outputs": [
    {
     "name": "stdout",
     "output_type": "stream",
     "text": [
      "_________________________________________________________________\n",
      "Layer (type)                 Output Shape              Param #   \n",
      "=================================================================\n",
      "embedding_9 (Embedding)      (None, 50, 120)           2400000   \n",
      "_________________________________________________________________\n",
      "conv1d_6 (Conv1D)            (None, 48, 64)            23104     \n",
      "_________________________________________________________________\n",
      "global_max_pooling1d_6 (Glob (None, 64)                0         \n",
      "_________________________________________________________________\n",
      "dense_15 (Dense)             (None, 10)                650       \n",
      "_________________________________________________________________\n",
      "dense_16 (Dense)             (None, 1)                 11        \n",
      "=================================================================\n",
      "Total params: 2,423,765\n",
      "Trainable params: 2,423,765\n",
      "Non-trainable params: 0\n",
      "_________________________________________________________________\n"
     ]
    }
   ],
   "source": [
    "cnn_clf = Sequential()\n",
    "cnn_clf.add(layers.Embedding(20000, 120, input_length=50))\n",
    "cnn_clf.add(layers.Conv1D(64, 3, activation='relu'))\n",
    "cnn_clf.add(layers.GlobalMaxPooling1D())\n",
    "cnn_clf.add(layers.Dense(10, activation='relu',kernel_regularizer=regularizers.l2(0.02)))\n",
    "cnn_clf.add(layers.Dense(1, activation='sigmoid'))\n",
    "cnn_clf.compile(optimizer='adam',\n",
    "                  loss='binary_crossentropy',\n",
    "                  metrics=['accuracy'])\n",
    "cnn_clf.summary()"
   ]
  },
  {
   "cell_type": "code",
   "execution_count": 341,
   "metadata": {},
   "outputs": [
    {
     "name": "stdout",
     "output_type": "stream",
     "text": [
      "Train on 12800 samples, validate on 3200 samples\n",
      "Epoch 1/3\n",
      "12800/12800 [==============================] - 16s 1ms/step - loss: 0.7093 - acc: 0.6841 - val_loss: 0.5126 - val_acc: 0.7681\n",
      "Epoch 2/3\n",
      "12800/12800 [==============================] - 15s 1ms/step - loss: 0.3970 - acc: 0.8403 - val_loss: 0.4225 - val_acc: 0.8191\n",
      "Epoch 3/3\n",
      "12800/12800 [==============================] - 15s 1ms/step - loss: 0.2275 - acc: 0.9269 - val_loss: 0.3841 - val_acc: 0.8569\n"
     ]
    }
   ],
   "source": [
    "cnn_clf.compile(optimizer='adam',\n",
    "              loss='binary_crossentropy',\n",
    "              metrics=['accuracy'])\n",
    "history=cnn_clf.fit(x=X_train,y=y_train,batch_size=50,epochs=3,validation_split=0.2,shuffle=True,verbose=True)"
   ]
  },
  {
   "cell_type": "code",
   "execution_count": 342,
   "metadata": {},
   "outputs": [
    {
     "name": "stdout",
     "output_type": "stream",
     "text": [
      "Training Accuracy: 0.9448\n",
      "Testing Accuracy:  0.8510\n"
     ]
    }
   ],
   "source": [
    "loss, accuracy = cnn_clf.evaluate(X_train, y_train, verbose=False)\n",
    "print(\"Training Accuracy: {:.4f}\".format(accuracy))\n",
    "loss, accuracy = cnn_clf.evaluate(X_test, y_test, verbose=False)\n",
    "print(\"Testing Accuracy:  {:.4f}\".format(accuracy))"
   ]
  },
  {
   "cell_type": "code",
   "execution_count": 331,
   "metadata": {},
   "outputs": [
    {
     "name": "stdout",
     "output_type": "stream",
     "text": [
      "Train on 14400 samples, validate on 1600 samples\n",
      "Epoch 1/3\n",
      "14400/14400 [==============================] - 40s 3ms/step - loss: 0.6229 - acc: 0.6858 - val_loss: 0.4998 - val_acc: 0.7581\n",
      "Epoch 2/3\n",
      "14400/14400 [==============================] - 38s 3ms/step - loss: 0.4238 - acc: 0.8219 - val_loss: 0.4397 - val_acc: 0.8119\n",
      "Epoch 3/3\n",
      "14400/14400 [==============================] - 38s 3ms/step - loss: 0.3262 - acc: 0.8827 - val_loss: 0.4455 - val_acc: 0.8163\n"
     ]
    }
   ],
   "source": [
    "from keras import regularizers\n",
    "lstm_clf = Sequential()\n",
    "lstm_clf.add(Embedding(20000, 120, input_length=50))\n",
    "lstm_clf.add(LSTM(64, dropout=0.2, recurrent_dropout=0.2))\n",
    "lstm_clf.add(Dense(1, activation='sigmoid',kernel_regularizer=regularizers.l2(0.1)))\n",
    "lstm_clf.compile(loss='binary_crossentropy', optimizer='adam', metrics=['accuracy'])\n",
    "## Fit the model\n",
    "test=lstm_clf.fit(x=X_train,y=y_train,epochs=3,validation_split=0.1,shuffle=True,verbose=True)"
   ]
  },
  {
   "cell_type": "code",
   "execution_count": 343,
   "metadata": {},
   "outputs": [
    {
     "name": "stdout",
     "output_type": "stream",
     "text": [
      "4001/4001 [==============================] - 2s 486us/step\n"
     ]
    }
   ],
   "source": [
    "accr = lstm_clf.evaluate(X_test,y_test)"
   ]
  },
  {
   "cell_type": "code",
   "execution_count": 344,
   "metadata": {},
   "outputs": [
    {
     "name": "stdout",
     "output_type": "stream",
     "text": [
      "Test set\n",
      "  Loss: 0.447\n",
      "  Accuracy: 0.808\n"
     ]
    }
   ],
   "source": [
    "print('Test set\\n  Loss: {:0.3f}\\n  Accuracy: {:0.3f}'.format(accr[0],accr[1]))"
   ]
  },
  {
   "cell_type": "code",
   "execution_count": 347,
   "metadata": {},
   "outputs": [],
   "source": [
    "nn_clf = Sequential()\n",
    "nn_clf.add(Embedding(20000, 120, input_length=50))\n",
    "nn_clf.add(Dense(64, activation='relu',kernel_regularizer=regularizers.l2(0.02)))\n",
    "nn_clf.add(Flatten())\n",
    "nn_clf.add(Dense(1, activation='sigmoid'))\n",
    "nn_clf.compile(optimizer='adam',\n",
    "              loss='binary_crossentropy',\n",
    "              metrics=['accuracy'])"
   ]
  },
  {
   "cell_type": "code",
   "execution_count": 348,
   "metadata": {},
   "outputs": [
    {
     "name": "stdout",
     "output_type": "stream",
     "text": [
      "Train on 16000 samples, validate on 4001 samples\n",
      "Epoch 1/3\n",
      "16000/16000 [==============================] - 30s 2ms/step - loss: 0.7863 - acc: 0.6635 - val_loss: 0.5138 - val_acc: 0.7488\n",
      "Epoch 2/3\n",
      "16000/16000 [==============================] - 27s 2ms/step - loss: 0.4278 - acc: 0.8199 - val_loss: 0.4418 - val_acc: 0.8013\n",
      "Epoch 3/3\n",
      "16000/16000 [==============================] - 27s 2ms/step - loss: 0.3252 - acc: 0.8752 - val_loss: 0.4266 - val_acc: 0.8153\n"
     ]
    }
   ],
   "source": [
    "history = nn_clf.fit(X_train,y_train,epochs=3,validation_data=(X_test,y_test))"
   ]
  },
  {
   "cell_type": "code",
   "execution_count": 349,
   "metadata": {},
   "outputs": [
    {
     "name": "stdout",
     "output_type": "stream",
     "text": [
      "[[2033  396]\n",
      " [ 343 1229]]\n",
      "             precision    recall  f1-score   support\n",
      "\n",
      "          0       0.86      0.84      0.85      2429\n",
      "          1       0.76      0.78      0.77      1572\n",
      "\n",
      "avg / total       0.82      0.82      0.82      4001\n",
      "\n",
      "0.815296175956011\n"
     ]
    }
   ],
   "source": [
    "y_pred = nn_clf.predict(X_test)\n",
    "y_pred=(y_pred>0.5)\n",
    "len(y_pred)\n",
    "y_pred1=[int(elem) for elem in y_pred]\n",
    "y_pred1=y_pred.astype(int)\n",
    "y_test1=[int(elem) for elem in y_test]\n",
    "from sklearn.metrics import classification_report, confusion_matrix, accuracy_score\n",
    "\n",
    "print(confusion_matrix(y_test1,y_pred1))  \n",
    "print(classification_report(y_test1,y_pred1))  \n",
    "print(accuracy_score(y_test1, y_pred1))"
   ]
  },
  {
   "cell_type": "code",
   "execution_count": 350,
   "metadata": {},
   "outputs": [],
   "source": [
    "from keras.models import load_model\n",
    "numOfModels=3\n",
    "models=[cnn_clf,nn_clf,lstm_clf]\n"
   ]
  },
  {
   "cell_type": "code",
   "execution_count": 351,
   "metadata": {},
   "outputs": [],
   "source": [
    "def ensembleModels(models, model_input):\n",
    "    # collect outputs of models in a list\n",
    "    yModels=[model(model_input) for model in models] \n",
    "    # averaging outputs\n",
    "    yAvg=layers.average(yModels) \n",
    "    # build model from same input and avg output\n",
    "    modelEns = Model(inputs=model_input, outputs=yAvg,    name='ensemble')  \n",
    "   \n",
    "    return modelEns"
   ]
  },
  {
   "cell_type": "code",
   "execution_count": 352,
   "metadata": {},
   "outputs": [
    {
     "name": "stdout",
     "output_type": "stream",
     "text": [
      "__________________________________________________________________________________________________\n",
      "Layer (type)                    Output Shape         Param #     Connected to                     \n",
      "==================================================================================================\n",
      "input_2 (InputLayer)            (None, 50)           0                                            \n",
      "__________________________________________________________________________________________________\n",
      "sequential_9 (Sequential)       (None, 1)            2423765     input_2[0][0]                    \n",
      "__________________________________________________________________________________________________\n",
      "sequential_11 (Sequential)      (None, 1)            2410945     input_2[0][0]                    \n",
      "__________________________________________________________________________________________________\n",
      "sequential_5 (Sequential)       (None, 1)            2447425     input_2[0][0]                    \n",
      "__________________________________________________________________________________________________\n",
      "average_2 (Average)             (None, 1)            0           sequential_9[1][0]               \n",
      "                                                                 sequential_11[1][0]              \n",
      "                                                                 sequential_5[1][0]               \n",
      "==================================================================================================\n",
      "Total params: 7,282,135\n",
      "Trainable params: 7,282,135\n",
      "Non-trainable params: 0\n",
      "__________________________________________________________________________________________________\n"
     ]
    }
   ],
   "source": [
    "model_input = Input(shape=models[0].input_shape[1:]) # c*h*w\n",
    "modelEns = ensembleModels(models, model_input)\n",
    "modelEns.summary()"
   ]
  },
  {
   "cell_type": "code",
   "execution_count": 353,
   "metadata": {},
   "outputs": [],
   "source": [
    "y=modelEns.predict(X_test)"
   ]
  },
  {
   "cell_type": "code",
   "execution_count": 354,
   "metadata": {},
   "outputs": [],
   "source": [
    "y_pred = modelEns.predict(X_test)\n",
    "y_pred=(y_pred>0.5)\n",
    "len(y_pred)\n",
    "y_pred1=[int(elem) for elem in y_pred]\n",
    "y_pred1=y_pred.astype(int)\n",
    "y_test1=[int(elem) for elem in y_test]\n"
   ]
  },
  {
   "cell_type": "code",
   "execution_count": 355,
   "metadata": {},
   "outputs": [
    {
     "name": "stdout",
     "output_type": "stream",
     "text": [
      "[[2051  378]\n",
      " [ 236 1336]]\n",
      "             precision    recall  f1-score   support\n",
      "\n",
      "          0       0.90      0.84      0.87      2429\n",
      "          1       0.78      0.85      0.81      1572\n",
      "\n",
      "avg / total       0.85      0.85      0.85      4001\n",
      "\n",
      "0.8465383654086478\n"
     ]
    }
   ],
   "source": [
    "from sklearn.metrics import classification_report, confusion_matrix, accuracy_score\n",
    "print(confusion_matrix(y_test1,y_pred))  \n",
    "print(classification_report(y_test1,y_pred))  \n",
    "print(accuracy_score(y_test1, y_pred))"
   ]
  },
  {
   "cell_type": "markdown",
   "metadata": {},
   "source": [
    "# Saving the better ensemble model of the two"
   ]
  },
  {
   "cell_type": "markdown",
   "metadata": {},
   "source": [
    "Machine learning ensmeble model with accuracy 93.3% performs better than the deep learning ensemble with accuracy 0.88.\n",
    "Therefore we save the better model and use it to classify tweets in future."
   ]
  },
  {
   "cell_type": "code",
   "execution_count": 46,
   "metadata": {},
   "outputs": [],
   "source": [
    "import pickle\n",
    "filename = 'ensemble model.sav'\n",
    "pickle.dump(ensemble, open(filename, 'wb'))"
   ]
  },
  {
   "cell_type": "code",
   "execution_count": 47,
   "metadata": {},
   "outputs": [],
   "source": [
    "pickle.dump(vectorizer_s.vocabulary_,open(\"feature.pkl\",\"wb\"))"
   ]
  },
  {
   "cell_type": "code",
   "execution_count": null,
   "metadata": {},
   "outputs": [],
   "source": []
  }
 ],
 "metadata": {
  "kernelspec": {
   "display_name": "Python 3",
   "language": "python",
   "name": "python3"
  },
  "language_info": {
   "codemirror_mode": {
    "name": "ipython",
    "version": 3
   },
   "file_extension": ".py",
   "mimetype": "text/x-python",
   "name": "python",
   "nbconvert_exporter": "python",
   "pygments_lexer": "ipython3",
   "version": "3.7.0"
  }
 },
 "nbformat": 4,
 "nbformat_minor": 2
}
